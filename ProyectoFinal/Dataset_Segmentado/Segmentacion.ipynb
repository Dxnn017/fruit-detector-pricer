{
 "cells": [
  {
   "cell_type": "code",
   "execution_count": 2,
   "id": "8330cc33",
   "metadata": {},
   "outputs": [
    {
     "name": "stdout",
     "output_type": "stream",
     "text": [
      "Directorio de trabajo actual: /workspaces/fruit-detector-pricer\n"
     ]
    },
    {
     "name": "stderr",
     "output_type": "stream",
     "text": [
      "Procesando train:   0%|          | 0/10 [00:00<?, ?it/s]"
     ]
    },
    {
     "name": "stderr",
     "output_type": "stream",
     "text": [
      "Procesando train: 100%|██████████| 10/10 [00:06<00:00,  1.62it/s]\n",
      "Procesando test: 100%|██████████| 10/10 [00:02<00:00,  4.22it/s]"
     ]
    },
    {
     "name": "stdout",
     "output_type": "stream",
     "text": [
      "✅ Segmentación completada: fruta blanca, fondo negro en train y test.\n"
     ]
    },
    {
     "name": "stderr",
     "output_type": "stream",
     "text": [
      "\n"
     ]
    }
   ],
   "source": [
    "# --- Establecer directorio de trabajo raíz ---\n",
    "import os\n",
    "os.chdir(\"/workspaces/fruit-detector-pricer\")\n",
    "print(\"Directorio de trabajo actual:\", os.getcwd())\n",
    "\n",
    "# --- Importar librerías necesarias ---\n",
    "import cv2\n",
    "import numpy as np\n",
    "from tqdm import tqdm\n",
    "from PIL import Image\n",
    "\n",
    "# --- Rutas base del dataset ---\n",
    "input_base = \"./ProyectoFinal/Dataset_Filtrado\"\n",
    "output_base = \"./ProyectoFinal/Dataset_Segmentado\"\n",
    "\n",
    "# Crear carpeta de salida si no existe\n",
    "os.makedirs(output_base, exist_ok=True)\n",
    "\n",
    "# --- Función de segmentación Otsu (forzar fruta blanca / fondo negro) ---\n",
    "def segmentar_otsu(imagen_path):\n",
    "    \"\"\"\n",
    "    Segmenta la fruta usando Otsu. La fruta quedará blanca (255) y el fondo negro (0).\n",
    "    \"\"\"\n",
    "    img = cv2.imread(imagen_path, cv2.IMREAD_GRAYSCALE)\n",
    "    if img is None:\n",
    "        return None\n",
    "\n",
    "    # Suavizar para reducir ruido\n",
    "    blur = cv2.GaussianBlur(img, (5, 5), 0)\n",
    "\n",
    "    # Umbralización de Otsu (en modo binario inverso)\n",
    "    # Esto suele dejar los objetos oscuros (fruta) blancos y fondo negro\n",
    "    _, mask = cv2.threshold(blur, 0, 255, cv2.THRESH_BINARY_INV + cv2.THRESH_OTSU)\n",
    "\n",
    "    # Conectividad: mantener la componente más grande (fruta)\n",
    "    num_labels, labels, stats, _ = cv2.connectedComponentsWithStats(mask, connectivity=8)\n",
    "    if num_labels > 1:\n",
    "        largest = 1 + np.argmax(stats[1:, cv2.CC_STAT_AREA])\n",
    "        mask = np.where(labels == largest, 255, 0).astype(\"uint8\")\n",
    "\n",
    "    # Operaciones morfológicas para limpiar bordes y huecos\n",
    "    kernel = cv2.getStructuringElement(cv2.MORPH_ELLIPSE, (5, 5))\n",
    "    mask = cv2.morphologyEx(mask, cv2.MORPH_CLOSE, kernel, iterations=2)\n",
    "    mask = cv2.morphologyEx(mask, cv2.MORPH_OPEN, kernel, iterations=1)\n",
    "\n",
    "    return mask\n",
    "\n",
    "# --- Procesar imágenes de train y test ---\n",
    "for folder in [\"train\", \"test\"]:\n",
    "    input_dir = os.path.join(input_base, folder)\n",
    "    output_dir = os.path.join(output_base, folder)\n",
    "    os.makedirs(output_dir, exist_ok=True)\n",
    "\n",
    "    for clase in tqdm(os.listdir(input_dir), desc=f\"Procesando {folder}\"):\n",
    "        clase_in = os.path.join(input_dir, clase)\n",
    "        clase_out = os.path.join(output_dir, clase)\n",
    "        os.makedirs(clase_out, exist_ok=True)\n",
    "\n",
    "        for img_name in os.listdir(clase_in):\n",
    "            path_in = os.path.join(clase_in, img_name)\n",
    "            mask = segmentar_otsu(path_in)\n",
    "            if mask is not None:\n",
    "                out_path = os.path.join(clase_out, img_name)\n",
    "                Image.fromarray(mask).save(out_path)\n",
    "\n",
    "print(\"✅ Segmentación completada: fruta blanca, fondo negro en train y test.\")\n"
   ]
  }
 ],
 "metadata": {
  "kernelspec": {
   "display_name": "Python 3",
   "language": "python",
   "name": "python3"
  },
  "language_info": {
   "codemirror_mode": {
    "name": "ipython",
    "version": 3
   },
   "file_extension": ".py",
   "mimetype": "text/x-python",
   "name": "python",
   "nbconvert_exporter": "python",
   "pygments_lexer": "ipython3",
   "version": "3.12.1"
  }
 },
 "nbformat": 4,
 "nbformat_minor": 5
}

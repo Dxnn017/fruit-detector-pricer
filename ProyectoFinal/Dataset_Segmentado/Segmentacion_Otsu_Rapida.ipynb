{
 "cells": [
  {
   "cell_type": "code",
   "execution_count": null,
   "id": "7a4ee50e",
   "metadata": {},
   "outputs": [
    {
     "name": "stdout",
     "output_type": "stream",
     "text": [
      "Directorio de trabajo actual: /workspaces/fruit-detector-pricer\n"
     ]
    },
    {
     "name": "stderr",
     "output_type": "stream",
     "text": [
      "Procesando train: 100%|██████████| 10/10 [00:03<00:00,  3.03it/s]\n",
      "Procesando test: 100%|██████████| 10/10 [00:01<00:00,  6.26it/s]\n"
     ]
    }
   ],
   "source": [
    "# --- Establecer directorio de trabajo raíz ---\n",
    "import os\n",
    "os.chdir(\"/workspaces/fruit-detector-pricer\")\n",
    "print(\"Directorio de trabajo actual:\", os.getcwd())\n",
    "\n",
    "\n",
    "# --- Importar librerías necesarias ---\n",
    "import cv2\n",
    "import os\n",
    "import numpy as np\n",
    "from tqdm import tqdm\n",
    "from PIL import Image\n",
    "import matplotlib.pyplot as plt\n",
    "\n",
    "# --- Rutas base del dataset ---\n",
    "input_base = \"./ProyectoFinal/Dataset_Filtrado\"\n",
    "output_base = \"./ProyectoFinal/Dataset_Segmentado\"\n",
    "\n",
    "# Crear carpeta de salida si no existe\n",
    "os.makedirs(output_base, exist_ok=True)\n",
    "\n",
    "def segmentar_otsu(imagen_path):\n",
    "    # Cargar imagen en escala de grises\n",
    "    img = cv2.imread(imagen_path, cv2.IMREAD_GRAYSCALE)\n",
    "    if img is None:\n",
    "        return None\n",
    "    # Aplicar umbralización de Otsu\n",
    "    _, mask = cv2.threshold(img, 0, 255, cv2.THRESH_BINARY + cv2.THRESH_OTSU)\n",
    "    return mask\n",
    "\n",
    "# --- Procesar imágenes de train y test ---\n",
    "for folder in [\"train\", \"test\"]:\n",
    "    input_dir = os.path.join(input_base, folder)\n",
    "    output_dir = os.path.join(output_base, folder)\n",
    "    os.makedirs(output_dir, exist_ok=True)\n",
    "\n",
    "    # Recorrer cada clase (ej: Apple, Banana, etc.)\n",
    "    for clase in tqdm(os.listdir(input_dir), desc=f\"Procesando {folder}\"):\n",
    "        clase_in = os.path.join(input_dir, clase)\n",
    "        clase_out = os.path.join(output_dir, clase)\n",
    "        os.makedirs(clase_out, exist_ok=True)\n",
    "\n",
    "        for img_name in os.listdir(clase_in):\n",
    "            path_in = os.path.join(clase_in, img_name)\n",
    "            mask = segmentar_otsu(path_in)\n",
    "            if mask is not None:\n",
    "                out_path = os.path.join(clase_out, img_name)\n",
    "                Image.fromarray(mask).save(out_path)"
   ]
  }
 ],
 "metadata": {
  "kernelspec": {
   "display_name": "Python 3",
   "language": "python",
   "name": "python3"
  },
  "language_info": {
   "codemirror_mode": {
    "name": "ipython",
    "version": 3
   },
   "file_extension": ".py",
   "mimetype": "text/x-python",
   "name": "python",
   "nbconvert_exporter": "python",
   "pygments_lexer": "ipython3",
   "version": "3.12.1"
  }
 },
 "nbformat": 4,
 "nbformat_minor": 5
}

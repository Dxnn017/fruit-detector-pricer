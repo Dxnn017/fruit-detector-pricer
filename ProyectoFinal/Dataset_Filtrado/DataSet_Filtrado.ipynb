{
  "cells": [
    {
      "cell_type": "code",
      "execution_count": 10,
      "metadata": {
        "id": "SY0hMhwZKVbb"
      },
      "outputs": [
        {
          "name": "stdout",
          "output_type": "stream",
          "text": [
            "\n",
            "\u001b[1m[\u001b[0m\u001b[34;49mnotice\u001b[0m\u001b[1;39;49m]\u001b[0m\u001b[39;49m A new release of pip is available: \u001b[0m\u001b[31;49m25.1.1\u001b[0m\u001b[39;49m -> \u001b[0m\u001b[32;49m25.2\u001b[0m\n",
            "\u001b[1m[\u001b[0m\u001b[34;49mnotice\u001b[0m\u001b[1;39;49m]\u001b[0m\u001b[39;49m To update, run: \u001b[0m\u001b[32;49mpython3 -m pip install --upgrade pip\u001b[0m\n"
          ]
        }
      ],
      "source": [
        "# --- Instalar y configurar Kaggle CLI ---\n",
        "!pip -q install kaggle\n"
      ]
    },
    {
      "cell_type": "code",
      "execution_count": 11,
      "metadata": {
        "colab": {
          "base_uri": "https://localhost:8080/",
          "height": 123
        },
        "id": "suaY76W-WUFc",
        "outputId": "d2248119-aeb5-4467-df55-911b2d38768e"
      },
      "outputs": [
        {
          "name": "stdout",
          "output_type": "stream",
          "text": [
            "Kaggle API 1.7.4.5\n",
            "Kaggle configurado\n",
            "Kaggle configurado\n"
          ]
        }
      ],
      "source": [
        "import os, json, zipfile, shutil\n",
        "\n",
        "# Asume que kaggle.json ya está en la ruta local del proyecto\n",
        "\n",
        "kaggle_json_path = \"./kaggle.json\"\n",
        "\n",
        "kaggle_dir = os.path.expanduser(\"~/.kaggle\")\n",
        "\n",
        "os.makedirs(kaggle_dir, exist_ok=True)\n",
        "\n",
        "shutil.copy(kaggle_json_path, os.path.join(kaggle_dir, \"kaggle.json\"))\n",
        "\n",
        "os.chmod(os.path.join(kaggle_dir, \"kaggle.json\"), 0o600)\n",
        "\n",
        "\n",
        "!kaggle --version\n",
        "\n",
        "print(\"Kaggle configurado\")"
      ]
    },
    {
      "cell_type": "code",
      "execution_count": 12,
      "metadata": {
        "colab": {
          "base_uri": "https://localhost:8080/"
        },
        "id": "pVFblSHvZJh-",
        "outputId": "042421a2-195f-4177-acb2-8ec9f2feff0f"
      },
      "outputs": [
        {
          "name": "stdout",
          "output_type": "stream",
          "text": [
            "Dataset URL: https://www.kaggle.com/datasets/moltean/fruits\n",
            "License(s): CC-BY-SA-4.0\n"
          ]
        },
        {
          "name": "stdout",
          "output_type": "stream",
          "text": [
            "[Errno 13] Permission denied: '/content'\n"
          ]
        }
      ],
      "source": [
        "# --- Descargar el dataset Fruits-360 desde Kaggle ---\n",
        "# Nota: '-p /content' define la carpeta destino; '--unzip' descomprime.\n",
        "!kaggle datasets download -d moltean/fruits -p /content --unzip"
      ]
    },
    {
      "cell_type": "code",
      "execution_count": null,
      "metadata": {
        "colab": {
          "base_uri": "https://localhost:8080/"
        },
        "id": "Anc7SYBvg2hg",
        "outputId": "037c1a22-60ac-453f-c520-b3214d17b02a"
      },
      "outputs": [
        {
          "name": "stdout",
          "output_type": "stream",
          "text": [
            "Carpetas encontradas en Dataset_Filtrado: ['test', 'train']\n",
            "Carpeta localizada: ./Dataset_Filtrado/train\n",
            "Ejemplo de clases: ['Pear Forelle 1', 'Kiwi 1', 'Apple Red 1', 'Cocos 1', 'Cantaloupe 2', 'Peach 2', 'Granadilla 1', 'Banana 1', 'Maracuja 1', 'Pineapple Mini 1']\n"
          ]
        }
      ],
      "source": [
        "import os\n",
        "\n",
        "\n",
        "dataset_base = \"./ProyectoFinal/Dataset_Filtrado\"\n",
        "if not os.path.exists(dataset_base):\n",
        "    dataset_base = \"ProyectoFinal/Dataset_Filtrado\"\n",
        "if not os.path.exists(dataset_base):\n",
        "    dataset_base = \"./Dataset_Filtrado\"\n",
        "if not os.path.exists(dataset_base):\n",
        "    dataset_base = \"Dataset_Filtrado\"\n",
        "\n",
        "if not os.path.exists(dataset_base):\n",
        "    raise FileNotFoundError(f\"No se encontró la carpeta del dataset en ninguna ruta esperada. Ruta probada: {dataset_base}\")\n",
        "\n",
        "carpetas = [d for d in os.listdir(dataset_base) if os.path.isdir(os.path.join(dataset_base, d))]\n",
        "print(\"Carpetas encontradas en Dataset_Filtrado:\", carpetas)\n",
        "\n",
        "# Elige 'train' o 'test' si existen, si no muestra advertencia\n",
        "if \"train\" in carpetas:\n",
        "    dataset_origen = os.path.join(dataset_base, \"train\")\n",
        "elif \"test\" in carpetas:\n",
        "    dataset_origen = os.path.join(dataset_base, \"test\")\n",
        "else:\n",
        "    dataset_origen = None\n",
        "\n",
        "assert dataset_origen, \"No se encontró la carpeta 'train' o 'test' en Dataset_Filtrado.\"\n",
        "print(\"Carpeta localizada:\", dataset_origen)\n",
        "print(\"Ejemplo de clases:\", os.listdir(dataset_origen)[:10])"
      ]
    },
    {
      "cell_type": "code",
      "execution_count": 19,
      "metadata": {
        "colab": {
          "base_uri": "https://localhost:8080/"
        },
        "id": "1DcfZklAg7DX",
        "outputId": "78014bf8-a3c8-4b69-9dca-4291d3bcc704"
      },
      "outputs": [
        {
          "name": "stdout",
          "output_type": "stream",
          "text": [
            "Ejemplo de clases en Training:\n",
            "['Apple Red 1', 'Banana 1', 'Cantaloupe 2', 'Cocos 1', 'Granadilla 1', 'Kiwi 1', 'Maracuja 1', 'Peach 2', 'Pear Forelle 1', 'Pineapple Mini 1']\n",
            "Copiada: 'apple red 1' -> 'Apple Red 1'\n",
            "Copiada: 'banana' -> 'Banana 1'\n",
            "Copiada: 'apple red 1' -> 'Apple Red 1'\n",
            "Copiada: 'banana' -> 'Banana 1'\n",
            "Copiada: 'melon 2' -> 'Cantaloupe 2'\n",
            "Copiada: 'cocos' -> 'Cocos 1'\n",
            "Copiada: 'melon 2' -> 'Cantaloupe 2'\n",
            "Copiada: 'cocos' -> 'Cocos 1'\n",
            "Copiada: 'granadilla' -> 'Granadilla 1'\n",
            "Copiada: 'granadilla' -> 'Granadilla 1'\n",
            "Copiada: 'kiwi' -> 'Kiwi 1'\n",
            "Copiada: 'maracuja' -> 'Maracuja 1'\n",
            "Copiada: 'kiwi' -> 'Kiwi 1'\n",
            "Copiada: 'maracuja' -> 'Maracuja 1'\n",
            "Copiada: 'peach' -> 'Peach 2'\n",
            "Copiada: 'pear forelle' -> 'Pear Forelle 1'\n",
            "Copiada: 'peach' -> 'Peach 2'\n",
            "Copiada: 'pear forelle' -> 'Pear Forelle 1'\n",
            "Copiada: 'pineapple' -> 'Pineapple Mini 1'\n",
            "\n",
            "Resumen:\n",
            "Clases copiadas: ['Apple Red 1', 'Banana 1', 'Cantaloupe 2', 'Cocos 1', 'Granadilla 1', 'Kiwi 1', 'Maracuja 1', 'Peach 2', 'Pear Forelle 1', 'Pineapple Mini 1']\n",
            "No encontradas: []\n",
            "Guardado en: ./ProyectoFinal/Dataset_Filtrado\n",
            "Copiada: 'pineapple' -> 'Pineapple Mini 1'\n",
            "\n",
            "Resumen:\n",
            "Clases copiadas: ['Apple Red 1', 'Banana 1', 'Cantaloupe 2', 'Cocos 1', 'Granadilla 1', 'Kiwi 1', 'Maracuja 1', 'Peach 2', 'Pear Forelle 1', 'Pineapple Mini 1']\n",
            "No encontradas: []\n",
            "Guardado en: ./ProyectoFinal/Dataset_Filtrado\n"
          ]
        }
      ],
      "source": [
        "import os, shutil, re\n",
        "\n",
        "# 1) Muestra cómo se llaman realmente tus clases\n",
        "\n",
        "print(\"Ejemplo de clases en Training:\")\n",
        "\n",
        "print(sorted(os.listdir(dataset_origen))[:60])  # dataset_origen ya lo tenías\n",
        "\n",
        "# 2) Palabras clave a buscar (en minúsculas) -> sinónimos\n",
        "\n",
        "wish = {\n",
        "\n",
        "    \"apple red 1\": [\"apple red 1\"],\n",
        "\n",
        "    \"banana\": [\"banana\"],\n",
        "\n",
        "    \"melon 2\": [\"cantaloupe 2\",\"cantaloupe\",\"melon\"],\n",
        "\n",
        "    \"cocos\": [\"cocos\",\"coconut\"],\n",
        "\n",
        "    \"granadilla\": [\"granadilla\"],\n",
        "\n",
        "    \"kiwi\": [\"kiwi\"],\n",
        "\n",
        "    \"maracuja\": [\"maracuja\"],\n",
        "\n",
        "    \"peach\": [\"peach\"],\n",
        "\n",
        "    \"pear forelle\": [\"pear forelle\",\"forelle\",\"pear\"],\n",
        "\n",
        "    \"pineapple\": [\"pineapple\",\"piña\",\"pina\"]\n",
        "\n",
        "}\n",
        "\n",
        "# 3) Normalizador\n",
        "\n",
        "def norm(s): return re.sub(r\"\\s+\",\" \",s.strip().lower())\n",
        "\n",
        "# 4) Índice de carpetas reales\n",
        "\n",
        "classes_real = os.listdir(dataset_origen)\n",
        "\n",
        "classes_norm = {norm(c): c for c in classes_real}  # norm -> original\n",
        "\n",
        "# 5) Buscar mejor match por “contiene”\n",
        "\n",
        "def find_match(keywords):\n",
        "\n",
        "    kws = [norm(k) for k in keywords]\n",
        "\n",
        "    # prioridad: coincidencia completa; si no, contiene\n",
        "\n",
        "    for k in kws:\n",
        "\n",
        "        if k in classes_norm:\n",
        "\n",
        "            return classes_norm[k]\n",
        "\n",
        "    for k in kws:\n",
        "\n",
        "        for cn, original in classes_norm.items():\n",
        "\n",
        "            if k in cn:\n",
        "\n",
        "                return original\n",
        "\n",
        "    return None\n",
        "\n",
        "# Ajusta la ruta destino para entorno local\n",
        "\n",
        "destino_base = \"./ProyectoFinal\"\n",
        "\n",
        "dataset_destino = os.path.join(destino_base, \"Dataset_Filtrado\")\n",
        "\n",
        "os.makedirs(dataset_destino, exist_ok=True)\n",
        "\n",
        "copiadas, faltantes = [], []\n",
        "\n",
        "for esp, keywords in wish.items():\n",
        "\n",
        "    found = find_match(keywords)\n",
        "\n",
        "    if found and os.path.isdir(os.path.join(dataset_origen, found)):\n",
        "\n",
        "        src = os.path.join(dataset_origen, found)\n",
        "\n",
        "        dst = os.path.join(dataset_destino, found)\n",
        "\n",
        "        shutil.copytree(src, dst, dirs_exist_ok=True)\n",
        "\n",
        "        copiadas.append((esp, found))\n",
        "\n",
        "        print(f\"Copiada: '{esp}' -> '{found}'\")\n",
        "\n",
        "    else:\n",
        "\n",
        "        faltantes.append((esp, keywords))\n",
        "\n",
        "        print(f\"No se encontró match para: {esp} | probé: {keywords}\")\n",
        "\n",
        "print(\"\\nResumen:\")\n",
        "\n",
        "print(\"Clases copiadas:\", [c[1] for c in copiadas])\n",
        "\n",
        "print(\"No encontradas:\", faltantes)\n",
        "\n",
        "print(\"Guardado en:\", dataset_destino)"
      ]
    },
    {
      "cell_type": "code",
      "execution_count": 20,
      "metadata": {
        "colab": {
          "base_uri": "https://localhost:8080/"
        },
        "id": "fvSyMEplwQcO",
        "outputId": "9a6645c0-a29c-4d66-b988-cb99d26fe119"
      },
      "outputs": [
        {
          "name": "stdout",
          "output_type": "stream",
          "text": [
            "Clase Pear Forelle 1: 343 en train, 148 en test\n",
            "Clase Kiwi 1: 228 en train, 98 en test\n",
            "Clase Apple Red 1: 240 en train, 104 en test\n",
            "Clase Cocos 1: 240 en train, 103 en test\n",
            "Clase Cantaloupe 2: 240 en train, 104 en test\n",
            "Clase Peach 2: 361 en train, 155 en test\n",
            "Clase Granadilla 1: 240 en train, 103 en test\n",
            "Clase Banana 1: 240 en train, 103 en test\n",
            "Clase Maracuja 1: 240 en train, 103 en test\n",
            "Clase Pineapple Mini 1: 241 en train, 104 en test\n",
            "\n",
            "Dataset dividido en:\n",
            "Train -> ./ProyectoFinal/Dataset_Filtrado/train\n",
            "Test  -> ./ProyectoFinal/Dataset_Filtrado/test\n",
            "Clase Peach 2: 361 en train, 155 en test\n",
            "Clase Granadilla 1: 240 en train, 103 en test\n",
            "Clase Banana 1: 240 en train, 103 en test\n",
            "Clase Maracuja 1: 240 en train, 103 en test\n",
            "Clase Pineapple Mini 1: 241 en train, 104 en test\n",
            "\n",
            "Dataset dividido en:\n",
            "Train -> ./ProyectoFinal/Dataset_Filtrado/train\n",
            "Test  -> ./ProyectoFinal/Dataset_Filtrado/test\n"
          ]
        }
      ],
      "source": [
        "import os\n",
        "\n",
        "import shutil\n",
        "\n",
        "import numpy as np\n",
        "\n",
        "# === Ruta de tu dataset filtrado actual ===\n",
        "\n",
        "dataset_filtrado = \"./ProyectoFinal/Dataset_Filtrado\"\n",
        "\n",
        "# === Crear carpetas de destino ===\n",
        "\n",
        "train_dir = os.path.join(dataset_filtrado, \"train\")\n",
        "\n",
        "test_dir = os.path.join(dataset_filtrado, \"test\")\n",
        "\n",
        "os.makedirs(train_dir, exist_ok=True)\n",
        "\n",
        "os.makedirs(test_dir, exist_ok=True)\n",
        "\n",
        "# === Proporción de división ===\n",
        "\n",
        "train_split = 0.7  # 70% entrenamiento, 30% prueba\n",
        "\n",
        "# === Recorrer cada clase ===\n",
        "\n",
        "for clase in os.listdir(dataset_filtrado):\n",
        "\n",
        "    clase_path = os.path.join(dataset_filtrado, clase)\n",
        "\n",
        "    # Evitar las carpetas train y test ya creadas\n",
        "\n",
        "    if os.path.isdir(clase_path) and clase not in [\"train\", \"test\"]:\n",
        "\n",
        "        # Crear subcarpetas en train y test\n",
        "\n",
        "        os.makedirs(os.path.join(train_dir, clase), exist_ok=True)\n",
        "\n",
        "        os.makedirs(os.path.join(test_dir, clase), exist_ok=True)\n",
        "\n",
        "        # Listar imágenes de la clase\n",
        "\n",
        "        imagenes = [f for f in os.listdir(clase_path) if f.lower().endswith(('.jpg', '.png'))]\n",
        "\n",
        "        np.random.shuffle(imagenes)\n",
        "\n",
        "        # Dividir índices\n",
        "\n",
        "        split_idx = int(len(imagenes) * train_split)\n",
        "\n",
        "        train_imgs = imagenes[:split_idx]\n",
        "\n",
        "        test_imgs = imagenes[split_idx:]\n",
        "\n",
        "        # Copiar imágenes\n",
        "\n",
        "        for img in train_imgs:\n",
        "\n",
        "            shutil.copy(os.path.join(clase_path, img), os.path.join(train_dir, clase, img))\n",
        "\n",
        "        for img in test_imgs:\n",
        "\n",
        "            shutil.copy(os.path.join(clase_path, img), os.path.join(test_dir, clase, img))\n",
        "\n",
        "        print(f\"Clase {clase}: {len(train_imgs)} en train, {len(test_imgs)} en test\")\n",
        "\n",
        "print(\"\\nDataset dividido en:\")\n",
        "\n",
        "print(\"Train ->\", train_dir)\n",
        "\n",
        "print(\"Test  ->\", test_dir)"
      ]
    },
    {
      "cell_type": "code",
      "execution_count": 21,
      "metadata": {
        "colab": {
          "base_uri": "https://localhost:8080/"
        },
        "id": "ttP_GkFnxTZv",
        "outputId": "8c1a78a7-648e-457f-f1cb-81227fdb421b"
      },
      "outputs": [
        {
          "name": "stdout",
          "output_type": "stream",
          "text": [
            "Eliminada carpeta: Pear Forelle 1\n",
            "Eliminada carpeta: Kiwi 1\n",
            "Eliminada carpeta: Apple Red 1\n",
            "Eliminada carpeta: Cocos 1\n",
            "Eliminada carpeta: Cantaloupe 2\n",
            "Eliminada carpeta: Peach 2\n",
            "Eliminada carpeta: Granadilla 1\n",
            "Eliminada carpeta: Banana 1\n",
            "Eliminada carpeta: Maracuja 1\n",
            "Eliminada carpeta: Pineapple Mini 1\n",
            "\n",
            "Limpieza completa. Ahora solo tienes 'train/' y 'test/' dentro de Dataset_Filtrado.\n"
          ]
        }
      ],
      "source": [
        "import os\n",
        "\n",
        "import shutil\n",
        "\n",
        "# Ruta a tu dataset filtrado\n",
        "\n",
        "dataset_filtrado = \"./ProyectoFinal/Dataset_Filtrado\"\n",
        "\n",
        "# Carpetas que quieres conservar\n",
        "\n",
        "keep = {\"train\", \"test\"}\n",
        "\n",
        "# Recorremos lo que hay en Dataset_Filtrado\n",
        "\n",
        "for item in os.listdir(dataset_filtrado):\n",
        "\n",
        "    item_path = os.path.join(dataset_filtrado, item)\n",
        "\n",
        "    if os.path.isdir(item_path) and item not in keep:\n",
        "\n",
        "        shutil.rmtree(item_path)  # elimina carpeta completa\n",
        "\n",
        "        print(f\"Eliminada carpeta: {item}\")\n",
        "\n",
        "print(\"\\nLimpieza completa. Ahora solo tienes 'train/' y 'test/' dentro de Dataset_Filtrado.\")"
      ]
    }
  ],
  "metadata": {
    "colab": {
      "provenance": []
    },
    "kernelspec": {
      "display_name": "Python 3",
      "name": "python3"
    },
    "language_info": {
      "codemirror_mode": {
        "name": "ipython",
        "version": 3
      },
      "file_extension": ".py",
      "mimetype": "text/x-python",
      "name": "python",
      "nbconvert_exporter": "python",
      "pygments_lexer": "ipython3",
      "version": "3.12.1"
    }
  },
  "nbformat": 4,
  "nbformat_minor": 0
}

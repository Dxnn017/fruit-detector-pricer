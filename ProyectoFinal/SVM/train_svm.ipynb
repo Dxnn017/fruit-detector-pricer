{
 "cells": [
  {
   "cell_type": "markdown",
   "id": "75b1c3e5",
   "metadata": {},
   "source": [
    "# Entrenamiento de SVM con características HOG+LBP\n",
    "Este notebook carga las características HOG+LBP extraídas previamente y entrena un modelo SVM para la clasificación de frutas"
   ]
  },
  {
   "cell_type": "code",
   "execution_count": 1,
   "id": "837809b3",
   "metadata": {},
   "outputs": [
    {
     "name": "stdout",
     "output_type": "stream",
     "text": [
      "Ruta de características HOG+LBP: /workspaces/fruit-detector-pricer/ProyectoFinal/HOG_LBP/hog_lbp_features\n",
      "Ruta de modelos: /workspaces/fruit-detector-pricer/ProyectoFinal/SVM/models\n"
     ]
    }
   ],
   "source": [
    "import os\n",
    "import numpy as np\n",
    "from sklearn.svm import SVC\n",
    "from sklearn.preprocessing import StandardScaler\n",
    "from sklearn.metrics import classification_report, confusion_matrix\n",
    "import matplotlib.pyplot as plt\n",
    "import seaborn as sns\n",
    "from tqdm import tqdm\n",
    "import joblib\n",
    "\n",
    "# Rutas\n",
    "BASE_DIR = os.path.dirname(os.path.abspath('.'))\n",
    "HOG_LBP_DIR = os.path.join(BASE_DIR, 'HOG_LBP', 'hog_lbp_features')\n",
    "MODELS_DIR = os.path.join(BASE_DIR, 'SVM', 'models')\n",
    "\n",
    "print(f\"Ruta de características HOG+LBP: {HOG_LBP_DIR}\")\n",
    "print(f\"Ruta de modelos: {MODELS_DIR}\")"
   ]
  },
  {
   "cell_type": "code",
   "execution_count": 2,
   "id": "953d6660",
   "metadata": {},
   "outputs": [
    {
     "name": "stdout",
     "output_type": "stream",
     "text": [
      "Cargando datos de entrenamiento...\n",
      "\n",
      "Clases encontradas: ['Apple Red 1', 'Banana 1', 'Cantaloupe 2', 'Cocos 1', 'Granadilla 1', 'Kiwi 1', 'Maracuja 1', 'Peach 2', 'Pear Forelle 1', 'Pineapple Mini 1']\n",
      "Cargando 344 imágenes de Apple Red 1...\n"
     ]
    },
    {
     "name": "stderr",
     "output_type": "stream",
     "text": [
      "100%|██████████| 344/344 [00:00<00:00, 7241.47it/s]\n"
     ]
    },
    {
     "name": "stdout",
     "output_type": "stream",
     "text": [
      "Cargando 343 imágenes de Banana 1...\n"
     ]
    },
    {
     "name": "stderr",
     "output_type": "stream",
     "text": [
      "100%|██████████| 343/343 [00:00<00:00, 7317.26it/s]\n"
     ]
    },
    {
     "name": "stdout",
     "output_type": "stream",
     "text": [
      "Cargando 344 imágenes de Cantaloupe 2...\n"
     ]
    },
    {
     "name": "stderr",
     "output_type": "stream",
     "text": [
      "100%|██████████| 344/344 [00:00<00:00, 7524.59it/s]\n"
     ]
    },
    {
     "name": "stdout",
     "output_type": "stream",
     "text": [
      "Cargando 343 imágenes de Cocos 1...\n"
     ]
    },
    {
     "name": "stderr",
     "output_type": "stream",
     "text": [
      "100%|██████████| 343/343 [00:00<00:00, 7132.57it/s]\n"
     ]
    },
    {
     "name": "stdout",
     "output_type": "stream",
     "text": [
      "Cargando 342 imágenes de Granadilla 1...\n"
     ]
    },
    {
     "name": "stderr",
     "output_type": "stream",
     "text": [
      "100%|██████████| 342/342 [00:00<00:00, 7463.80it/s]\n"
     ]
    },
    {
     "name": "stdout",
     "output_type": "stream",
     "text": [
      "Cargando 326 imágenes de Kiwi 1...\n"
     ]
    },
    {
     "name": "stderr",
     "output_type": "stream",
     "text": [
      "100%|██████████| 326/326 [00:00<00:00, 7443.71it/s]\n"
     ]
    },
    {
     "name": "stdout",
     "output_type": "stream",
     "text": [
      "Cargando 343 imágenes de Maracuja 1...\n"
     ]
    },
    {
     "name": "stderr",
     "output_type": "stream",
     "text": [
      "100%|██████████| 343/343 [00:00<00:00, 6453.67it/s]\n"
     ]
    },
    {
     "name": "stdout",
     "output_type": "stream",
     "text": [
      "Cargando 516 imágenes de Peach 2...\n"
     ]
    },
    {
     "name": "stderr",
     "output_type": "stream",
     "text": [
      "100%|██████████| 516/516 [00:00<00:00, 6712.01it/s]\n"
     ]
    },
    {
     "name": "stdout",
     "output_type": "stream",
     "text": [
      "Cargando 490 imágenes de Pear Forelle 1...\n"
     ]
    },
    {
     "name": "stderr",
     "output_type": "stream",
     "text": [
      "100%|██████████| 490/490 [00:00<00:00, 6753.85it/s]\n"
     ]
    },
    {
     "name": "stdout",
     "output_type": "stream",
     "text": [
      "Cargando 343 imágenes de Pineapple Mini 1...\n"
     ]
    },
    {
     "name": "stderr",
     "output_type": "stream",
     "text": [
      "100%|██████████| 343/343 [00:00<00:00, 7162.65it/s]\n"
     ]
    },
    {
     "name": "stdout",
     "output_type": "stream",
     "text": [
      "\n",
      "Cargando datos de prueba...\n",
      "\n",
      "Clases encontradas: ['Apple Red 1', 'Banana 1', 'Cantaloupe 2', 'Cocos 1', 'Granadilla 1', 'Kiwi 1', 'Maracuja 1', 'Peach 2', 'Pear Forelle 1', 'Pineapple Mini 1']\n",
      "Cargando 148 imágenes de Apple Red 1...\n"
     ]
    },
    {
     "name": "stderr",
     "output_type": "stream",
     "text": [
      "100%|██████████| 148/148 [00:00<00:00, 9794.67it/s]\n"
     ]
    },
    {
     "name": "stdout",
     "output_type": "stream",
     "text": [
      "Cargando 147 imágenes de Banana 1...\n"
     ]
    },
    {
     "name": "stderr",
     "output_type": "stream",
     "text": [
      "100%|██████████| 147/147 [00:00<00:00, 10044.85it/s]\n"
     ]
    },
    {
     "name": "stdout",
     "output_type": "stream",
     "text": [
      "Cargando 148 imágenes de Cantaloupe 2...\n"
     ]
    },
    {
     "name": "stderr",
     "output_type": "stream",
     "text": [
      "100%|██████████| 148/148 [00:00<00:00, 9965.12it/s]\n"
     ]
    },
    {
     "name": "stdout",
     "output_type": "stream",
     "text": [
      "Cargando 147 imágenes de Cocos 1...\n"
     ]
    },
    {
     "name": "stderr",
     "output_type": "stream",
     "text": [
      "100%|██████████| 147/147 [00:00<00:00, 9989.35it/s]\n"
     ]
    },
    {
     "name": "stdout",
     "output_type": "stream",
     "text": [
      "Cargando 147 imágenes de Granadilla 1...\n"
     ]
    },
    {
     "name": "stderr",
     "output_type": "stream",
     "text": [
      "100%|██████████| 147/147 [00:00<00:00, 10038.47it/s]\n"
     ]
    },
    {
     "name": "stdout",
     "output_type": "stream",
     "text": [
      "Cargando 140 imágenes de Kiwi 1...\n"
     ]
    },
    {
     "name": "stderr",
     "output_type": "stream",
     "text": [
      "100%|██████████| 140/140 [00:00<00:00, 9866.30it/s]\n"
     ]
    },
    {
     "name": "stdout",
     "output_type": "stream",
     "text": [
      "Cargando 147 imágenes de Maracuja 1...\n"
     ]
    },
    {
     "name": "stderr",
     "output_type": "stream",
     "text": [
      "100%|██████████| 147/147 [00:00<00:00, 10103.61it/s]\n"
     ]
    },
    {
     "name": "stdout",
     "output_type": "stream",
     "text": [
      "Cargando 222 imágenes de Peach 2...\n"
     ]
    },
    {
     "name": "stderr",
     "output_type": "stream",
     "text": [
      "100%|██████████| 222/222 [00:00<00:00, 9985.58it/s]\n"
     ]
    },
    {
     "name": "stdout",
     "output_type": "stream",
     "text": [
      "Cargando 211 imágenes de Pear Forelle 1...\n"
     ]
    },
    {
     "name": "stderr",
     "output_type": "stream",
     "text": [
      "100%|██████████| 211/211 [00:00<00:00, 9299.03it/s]\n"
     ]
    },
    {
     "name": "stdout",
     "output_type": "stream",
     "text": [
      "Cargando 148 imágenes de Pineapple Mini 1...\n"
     ]
    },
    {
     "name": "stderr",
     "output_type": "stream",
     "text": [
      "100%|██████████| 148/148 [00:00<00:00, 8102.82it/s]"
     ]
    },
    {
     "name": "stdout",
     "output_type": "stream",
     "text": [
      "\n",
      "Dimensiones de los datos:\n",
      "X_train: (3734, 8126)\n",
      "X_test: (1605, 8126)\n"
     ]
    },
    {
     "name": "stderr",
     "output_type": "stream",
     "text": [
      "\n"
     ]
    }
   ],
   "source": [
    "def cargar_caracteristicas(split):\n",
    "    features = []\n",
    "    labels = []\n",
    "    \n",
    "    # Ruta del conjunto (train o test)\n",
    "    split_path = os.path.join(HOG_LBP_DIR, split)\n",
    "    \n",
    "    # Obtener lista de clases\n",
    "    clases = sorted([d for d in os.listdir(split_path) \n",
    "                    if os.path.isdir(os.path.join(split_path, d))])\n",
    "    \n",
    "    print(f\"\\nClases encontradas: {clases}\")\n",
    "    \n",
    "    for clase in clases:\n",
    "        clase_path = os.path.join(split_path, clase)\n",
    "        archivos = [f for f in os.listdir(clase_path) if f.endswith('_hog_lbp.npy')]\n",
    "        \n",
    "        print(f\"Cargando {len(archivos)} imágenes de {clase}...\")\n",
    "        \n",
    "        for archivo in tqdm(archivos):\n",
    "            # Cargar características\n",
    "            feature_path = os.path.join(clase_path, archivo)\n",
    "            feature = np.load(feature_path)\n",
    "            \n",
    "            features.append(feature)\n",
    "            labels.append(clase)\n",
    "    \n",
    "    return np.array(features), np.array(labels)\n",
    "\n",
    "# Cargar datos de entrenamiento y prueba\n",
    "print(\"Cargando datos de entrenamiento...\")\n",
    "X_train, y_train = cargar_caracteristicas('train')\n",
    "\n",
    "print(\"\\nCargando datos de prueba...\")\n",
    "X_test, y_test = cargar_caracteristicas('test')\n",
    "\n",
    "print(f\"\\nDimensiones de los datos:\")\n",
    "print(f\"X_train: {X_train.shape}\")\n",
    "print(f\"X_test: {X_test.shape}\")"
   ]
  },
  {
   "cell_type": "code",
   "execution_count": 3,
   "id": "74f2b994",
   "metadata": {},
   "outputs": [
    {
     "name": "stdout",
     "output_type": "stream",
     "text": [
      "Entrenando SVM...\n",
      "\n",
      "Reporte de Clasificación:\n",
      "                  precision    recall  f1-score   support\n",
      "\n",
      "     Apple Red 1       1.00      1.00      1.00       148\n",
      "        Banana 1       1.00      1.00      1.00       147\n",
      "    Cantaloupe 2       1.00      1.00      1.00       148\n",
      "         Cocos 1       1.00      1.00      1.00       147\n",
      "    Granadilla 1       1.00      1.00      1.00       147\n",
      "          Kiwi 1       1.00      1.00      1.00       140\n",
      "      Maracuja 1       1.00      1.00      1.00       147\n",
      "         Peach 2       1.00      1.00      1.00       222\n",
      "  Pear Forelle 1       1.00      1.00      1.00       211\n",
      "Pineapple Mini 1       1.00      1.00      1.00       148\n",
      "\n",
      "        accuracy                           1.00      1605\n",
      "       macro avg       1.00      1.00      1.00      1605\n",
      "    weighted avg       1.00      1.00      1.00      1605\n",
      "\n"
     ]
    }
   ],
   "source": [
    "# Normalizar características\n",
    "scaler = StandardScaler()\n",
    "X_train_scaled = scaler.fit_transform(X_train)\n",
    "X_test_scaled = scaler.transform(X_test)\n",
    "\n",
    "# Entrenar SVM\n",
    "print(\"Entrenando SVM...\")\n",
    "svm = SVC(kernel='rbf', C=10, probability=True)\n",
    "svm.fit(X_train_scaled, y_train)\n",
    "\n",
    "# Guardar el modelo y el scaler\n",
    "joblib.dump(svm, os.path.join(MODELS_DIR, 'svm_hog_lbp.joblib'))\n",
    "joblib.dump(scaler, os.path.join(MODELS_DIR, 'scaler_hog_lbp.joblib'))\n",
    "\n",
    "# Evaluar en conjunto de prueba\n",
    "y_pred = svm.predict(X_test_scaled)\n",
    "\n",
    "# Imprimir reporte de clasificación\n",
    "print(\"\\nReporte de Clasificación:\")\n",
    "print(classification_report(y_test, y_pred))"
   ]
  },
  {
   "cell_type": "code",
   "execution_count": 5,
   "id": "819fb256",
   "metadata": {},
   "outputs": [
    {
     "data": {
      "image/png": "[encoded data removed]",
      "text/plain": [
       "<Figure size 1200x800 with 2 Axes>"
      ]
     },
     "metadata": {},
     "output_type": "display_data"
    },
    {
     "name": "stdout",
     "output_type": "stream",
     "text": [
      "\n",
      "Matriz de confusión guardada en: /workspaces/fruit-detector-pricer/ProyectoFinal/SVM/models/confusion_matrix.png\n"
     ]
    }
   ],
   "source": [
    "# Visualizar matriz de confusión\n",
    "plt.figure(figsize=(12, 8))\n",
    "cm = confusion_matrix(y_test, y_pred)\n",
    "sns.heatmap(cm, annot=True, fmt='d', cmap='Blues',\n",
    "            xticklabels=sorted(set(y_test)),\n",
    "            yticklabels=sorted(set(y_test)))\n",
    "plt.title('Matriz de Confusión')\n",
    "plt.xlabel('Predicción')\n",
    "plt.ylabel('Valor Real')\n",
    "plt.xticks(rotation=45, ha='right')\n",
    "plt.yticks(rotation=0)\n",
    "plt.tight_layout()\n",
    "\n",
    "# Guardar el gráfico primero\n",
    "plt.savefig(os.path.join(MODELS_DIR, 'confusion_matrix.png'), dpi=300, bbox_inches='tight')\n",
    "\n",
    "# Luego mostrar la figura\n",
    "plt.show()\n",
    "\n",
    "print(\"\\nMatriz de confusión guardada en:\", os.path.join(MODELS_DIR, 'confusion_matrix.png'))"
   ]
  }
 ],
 "metadata": {
  "kernelspec": {
   "display_name": ".venv",
   "language": "python",
   "name": "python3"
  },
  "language_info": {
   "codemirror_mode": {
    "name": "ipython",
    "version": 3
   },
   "file_extension": ".py",
   "mimetype": "text/x-python",
   "name": "python",
   "nbconvert_exporter": "python",
   "pygments_lexer": "ipython3",
   "version": "3.12.3"
  }
 },
 "nbformat": 4,
 "nbformat_minor": 5
}

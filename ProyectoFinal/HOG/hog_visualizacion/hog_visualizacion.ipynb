{
 "cells": [
  {
   "cell_type": "markdown",
   "id": "0d8db46a",
   "metadata": {},
   "source": [
    "# Visualización de características HOG\n",
    "Este notebook genera imágenes visuales del descriptor HOG para cada imagen normalizada"
   ]
  },
  {
   "cell_type": "code",
   "execution_count": 3,
   "id": "7bd07f7d",
   "metadata": {},
   "outputs": [
    {
     "name": "stdout",
     "output_type": "stream",
     "text": [
      "Ruta de imágenes normalizadas: /workspaces/fruit-detector-pricer/ProyectoFinal/normalizacion/normalizadas\n",
      "Ruta de salida HOG visualización: /workspaces/fruit-detector-pricer/ProyectoFinal/HOG/hog_visualizacion\n"
     ]
    }
   ],
   "source": [
    "import os\n",
    "import glob\n",
    "import numpy as np\n",
    "import cv2\n",
    "from skimage.feature import hog\n",
    "from tqdm import tqdm\n",
    "import matplotlib.pyplot as plt\n",
    "\n",
    "# Rutas base\n",
    "BASE_DIR = os.path.dirname(os.path.abspath('.'))\n",
    "NORMALIZADAS_DIR = os.path.join(BASE_DIR, 'normalizacion', 'normalizadas')\n",
    "HOG_VIS_DIR = os.path.join(BASE_DIR, 'HOG', 'hog_visualizacion')\n",
    "\n",
    "# Parámetros HOG\n",
    "orientations = 9\n",
    "pixels_per_cell = (8, 8)\n",
    "cells_per_block = (2, 2)\n",
    "\n",
    "print(f\"Ruta de imágenes normalizadas: {NORMALIZADAS_DIR}\")\n",
    "print(f\"Ruta de salida HOG visualización: {HOG_VIS_DIR}\")"
   ]
  },
  {
   "cell_type": "code",
   "execution_count": 4,
   "id": "78eb2a39",
   "metadata": {},
   "outputs": [
    {
     "name": "stderr",
     "output_type": "stream",
     "text": [
      "Procesando Peach 2 en train: 100%|██████████| 516/516 [00:14<00:00, 34.45it/s]\n",
      "Procesando Apple Red 1 en train: 100%|██████████| 344/344 [00:10<00:00, 34.40it/s]\n",
      "Procesando Cocos 1 en train: 100%|██████████| 343/343 [00:10<00:00, 34.15it/s]\n",
      "Procesando Banana 1 en train: 100%|██████████| 343/343 [00:09<00:00, 34.60it/s]\n",
      "Procesando Granadilla 1 en train: 100%|██████████| 342/342 [00:09<00:00, 34.30it/s]\n",
      "Procesando Kiwi 1 en train: 100%|██████████| 326/326 [00:09<00:00, 33.93it/s]\n",
      "Procesando Pear Forelle 1 en train: 100%|██████████| 490/490 [00:14<00:00, 34.47it/s]\n",
      "Procesando Cantaloupe 2 en train: 100%|██████████| 344/344 [00:09<00:00, 34.70it/s]\n",
      "Procesando Maracuja 1 en train: 100%|██████████| 343/343 [00:09<00:00, 34.60it/s]\n",
      "Procesando Pineapple Mini 1 en train: 100%|██████████| 343/343 [00:10<00:00, 34.16it/s]\n",
      "Procesando Peach 2 en test: 100%|██████████| 222/222 [00:06<00:00, 33.87it/s]\n",
      "Procesando Apple Red 1 en test: 100%|██████████| 148/148 [00:04<00:00, 34.86it/s]\n",
      "Procesando Cocos 1 en test: 100%|██████████| 147/147 [00:04<00:00, 34.02it/s]\n",
      "Procesando Banana 1 en test: 100%|██████████| 147/147 [00:04<00:00, 34.87it/s]\n",
      "Procesando Granadilla 1 en test: 100%|██████████| 147/147 [00:04<00:00, 34.24it/s]\n",
      "Procesando Kiwi 1 en test: 100%|██████████| 140/140 [00:04<00:00, 34.36it/s]\n",
      "Procesando Pear Forelle 1 en test: 100%|██████████| 211/211 [00:06<00:00, 34.14it/s]\n",
      "Procesando Cantaloupe 2 en test: 100%|██████████| 148/148 [00:04<00:00, 34.62it/s]\n",
      "Procesando Maracuja 1 en test: 100%|██████████| 147/147 [00:04<00:00, 34.14it/s]\n",
      "Procesando Pineapple Mini 1 en test: 100%|██████████| 148/148 [00:04<00:00, 34.41it/s]"
     ]
    },
    {
     "name": "stdout",
     "output_type": "stream",
     "text": [
      "\n",
      "✓ Visualización HOG completada\n",
      "Las imágenes de visualización HOG han sido guardadas en la carpeta hog_visualizacion/\n"
     ]
    },
    {
     "name": "stderr",
     "output_type": "stream",
     "text": [
      "\n"
     ]
    }
   ],
   "source": [
    "def procesar_y_visualizar_hog(origen_split):\n",
    "    split_path = os.path.join(NORMALIZADAS_DIR, origen_split)\n",
    "    if not os.path.exists(split_path):\n",
    "        print(f\"❌ Carpeta no encontrada: {split_path}\")\n",
    "        return\n",
    "    \n",
    "    # Crear directorio de salida si no existe\n",
    "    out_split_path = os.path.join(HOG_VIS_DIR, origen_split)\n",
    "    os.makedirs(out_split_path, exist_ok=True)\n",
    "    \n",
    "    # Obtener lista de clases (carpetas de frutas)\n",
    "    clases = [d for d in os.listdir(split_path) \n",
    "             if os.path.isdir(os.path.join(split_path, d))]\n",
    "    \n",
    "    for clase in clases:\n",
    "        # Crear directorio de salida para la clase\n",
    "        clase_in_dir = os.path.join(split_path, clase)\n",
    "        clase_out_dir = os.path.join(out_split_path, clase)\n",
    "        os.makedirs(clase_out_dir, exist_ok=True)\n",
    "        \n",
    "        # Procesar cada imagen\n",
    "        imagenes = glob.glob(os.path.join(clase_in_dir, '*_recorte.png'))\n",
    "        \n",
    "        for img_path in tqdm(imagenes, desc=f\"Procesando {clase} en {origen_split}\"):\n",
    "            # Leer imagen\n",
    "            img = cv2.imread(img_path, cv2.IMREAD_GRAYSCALE)\n",
    "            if img is None:\n",
    "                print(f\"⚠️ No se pudo leer la imagen: {img_path}\")\n",
    "                continue\n",
    "                \n",
    "            # Calcular HOG con visualización\n",
    "            features, hog_image = hog(img, \n",
    "                                     orientations=orientations,\n",
    "                                     pixels_per_cell=pixels_per_cell,\n",
    "                                     cells_per_block=cells_per_block,\n",
    "                                     visualize=True)\n",
    "            \n",
    "            # Normalizar la imagen HOG para visualización\n",
    "            hog_image = (255 * hog_image).astype(np.uint8)\n",
    "            \n",
    "            # Guardar imagen HOG\n",
    "            nombre_base = os.path.basename(img_path).replace('_recorte.png', '')\n",
    "            out_path = os.path.join(clase_out_dir, f\"{nombre_base}_hog_vis.png\")\n",
    "            cv2.imwrite(out_path, hog_image)\n",
    "\n",
    "# Procesar imágenes de train y test\n",
    "for split in ['train', 'test']:\n",
    "    procesar_y_visualizar_hog(split)\n",
    "\n",
    "print(\"\\n✓ Visualización HOG completada\")\n",
    "print(\"Las imágenes de visualización HOG han sido guardadas en la carpeta hog_visualizacion/\")"
   ]
  }
 ],
 "metadata": {
  "kernelspec": {
   "display_name": ".venv",
   "language": "python",
   "name": "python3"
  },
  "language_info": {
   "codemirror_mode": {
    "name": "ipython",
    "version": 3
   },
   "file_extension": ".py",
   "mimetype": "text/x-python",
   "name": "python",
   "nbconvert_exporter": "python",
   "pygments_lexer": "ipython3",
   "version": "3.12.3"
  }
 },
 "nbformat": 4,
 "nbformat_minor": 5
}

{
 "cells": [
  {
   "cell_type": "markdown",
   "id": "69acbaa1",
   "metadata": {},
   "source": [
    "# Extracción de características HOG\n",
    "Este notebook aplica el descriptor HOG (Histogram of Oriented Gradients) a las imágenes normalizadas"
   ]
  },
  {
   "cell_type": "code",
   "execution_count": 3,
   "id": "78a9c20f",
   "metadata": {},
   "outputs": [
    {
     "name": "stdout",
     "output_type": "stream",
     "text": [
      "Ruta de imágenes normalizadas: /workspaces/fruit-detector-pricer/ProyectoFinal/normalizacion/normalizadas\n",
      "Ruta de salida HOG: /workspaces/fruit-detector-pricer/ProyectoFinal/HOG/hog_npy\n"
     ]
    }
   ],
   "source": [
    "import os\n",
    "import glob\n",
    "import numpy as np\n",
    "import cv2\n",
    "from skimage.feature import hog\n",
    "from tqdm import tqdm\n",
    "import matplotlib.pyplot as plt\n",
    "\n",
    "# Rutas base\n",
    "BASE_DIR = os.path.dirname(os.path.abspath('.'))\n",
    "NORMALIZADAS_DIR = os.path.join(BASE_DIR, 'normalizacion', 'normalizadas')\n",
    "HOG_DIR = os.path.join(BASE_DIR, 'HOG', 'hog_npy')\n",
    "\n",
    "# Parámetros HOG\n",
    "orientations = 9\n",
    "pixels_per_cell = (8, 8)\n",
    "cells_per_block = (2, 2)\n",
    "\n",
    "print(f\"Ruta de imágenes normalizadas: {NORMALIZADAS_DIR}\")\n",
    "print(f\"Ruta de salida HOG: {HOG_DIR}\")"
   ]
  },
  {
   "cell_type": "code",
   "execution_count": 4,
   "id": "2429ec01",
   "metadata": {},
   "outputs": [
    {
     "name": "stderr",
     "output_type": "stream",
     "text": [
      "Procesando Peach 2 en train: 100%|██████████| 516/516 [00:03<00:00, 171.18it/s]\n",
      "Procesando Apple Red 1 en train: 100%|██████████| 344/344 [00:01<00:00, 174.18it/s]\n",
      "Procesando Cocos 1 en train: 100%|██████████| 343/343 [00:01<00:00, 178.15it/s]\n",
      "Procesando Banana 1 en train: 100%|██████████| 343/343 [00:01<00:00, 188.32it/s]\n",
      "Procesando Granadilla 1 en train: 100%|██████████| 342/342 [00:02<00:00, 166.10it/s]\n",
      "Procesando Kiwi 1 en train: 100%|██████████| 326/326 [00:01<00:00, 176.58it/s]\n",
      "Procesando Pear Forelle 1 en train: 100%|██████████| 490/490 [00:02<00:00, 172.92it/s]\n",
      "Procesando Cantaloupe 2 en train: 100%|██████████| 344/344 [00:02<00:00, 167.16it/s]\n",
      "Procesando Maracuja 1 en train: 100%|██████████| 343/343 [00:02<00:00, 153.13it/s]\n",
      "Procesando Pineapple Mini 1 en train: 100%|██████████| 343/343 [00:01<00:00, 172.38it/s]\n",
      "Procesando Peach 2 en test: 100%|██████████| 222/222 [00:01<00:00, 160.62it/s]\n",
      "Procesando Apple Red 1 en test: 100%|██████████| 148/148 [00:00<00:00, 148.30it/s]\n",
      "Procesando Cocos 1 en test: 100%|██████████| 147/147 [00:00<00:00, 163.01it/s]\n",
      "Procesando Banana 1 en test: 100%|██████████| 147/147 [00:00<00:00, 188.91it/s]\n",
      "Procesando Granadilla 1 en test: 100%|██████████| 147/147 [00:00<00:00, 181.55it/s]\n",
      "Procesando Kiwi 1 en test: 100%|██████████| 140/140 [00:00<00:00, 175.68it/s]\n",
      "Procesando Pear Forelle 1 en test: 100%|██████████| 211/211 [00:01<00:00, 178.51it/s]\n",
      "Procesando Cantaloupe 2 en test: 100%|██████████| 148/148 [00:00<00:00, 175.86it/s]\n",
      "Procesando Maracuja 1 en test: 100%|██████████| 147/147 [00:00<00:00, 182.03it/s]\n",
      "Procesando Pineapple Mini 1 en test: 100%|██████████| 148/148 [00:00<00:00, 158.81it/s]"
     ]
    },
    {
     "name": "stdout",
     "output_type": "stream",
     "text": [
      "\n",
      "✓ Procesamiento HOG completado\n",
      "Las imágenes HOG han sido guardadas en la carpeta hog_features/\n"
     ]
    },
    {
     "name": "stderr",
     "output_type": "stream",
     "text": [
      "\n"
     ]
    }
   ],
   "source": [
    "def procesar_imagenes(origen_split):\n",
    "    split_path = os.path.join(NORMALIZADAS_DIR, origen_split)\n",
    "    if not os.path.exists(split_path):\n",
    "        print(f\"❌ Carpeta no encontrada: {split_path}\")\n",
    "        return\n",
    "    \n",
    "    # Crear directorio de salida si no existe\n",
    "    out_split_path = os.path.join(HOG_DIR, origen_split)\n",
    "    os.makedirs(out_split_path, exist_ok=True)\n",
    "    \n",
    "    # Obtener lista de clases (carpetas de frutas)\n",
    "    clases = [d for d in os.listdir(split_path) \n",
    "             if os.path.isdir(os.path.join(split_path, d))]\n",
    "    \n",
    "    for clase in clases:\n",
    "        # Crear directorio de salida para la clase\n",
    "        clase_in_dir = os.path.join(split_path, clase)\n",
    "        clase_out_dir = os.path.join(out_split_path, clase)\n",
    "        os.makedirs(clase_out_dir, exist_ok=True)\n",
    "        \n",
    "        # Procesar cada imagen\n",
    "        imagenes = glob.glob(os.path.join(clase_in_dir, '*_recorte.png'))\n",
    "        \n",
    "        for img_path in tqdm(imagenes, desc=f\"Procesando {clase} en {origen_split}\"):\n",
    "            # Leer imagen\n",
    "            img = cv2.imread(img_path, cv2.IMREAD_GRAYSCALE)\n",
    "            if img is None:\n",
    "                print(f\"⚠️ No se pudo leer la imagen: {img_path}\")\n",
    "                continue\n",
    "                \n",
    "            # Calcular HOG\n",
    "            features = hog(img, \n",
    "                          orientations=orientations,\n",
    "                          pixels_per_cell=pixels_per_cell,\n",
    "                          cells_per_block=cells_per_block,\n",
    "                          visualize=False)\n",
    "            \n",
    "            # Guardar características HOG\n",
    "            nombre_base = os.path.basename(img_path).replace('_recorte.png', '')\n",
    "            out_path = os.path.join(clase_out_dir, f\"{nombre_base}_hog.npy\")\n",
    "            np.save(out_path, features)\n",
    "\n",
    "# Procesar imágenes de train y test\n",
    "for split in ['train', 'test']:\n",
    "    procesar_imagenes(split)\n",
    "\n",
    "print(\"\\n✓ Procesamiento HOG completado\")\n",
    "print(\"Las imágenes HOG han sido guardadas en la carpeta hog_features/\")"
   ]
  }
 ],
 "metadata": {
  "kernelspec": {
   "display_name": "Python 3",
   "language": "python",
   "name": "python3"
  },
  "language_info": {
   "codemirror_mode": {
    "name": "ipython",
    "version": 3
   },
   "file_extension": ".py",
   "mimetype": "text/x-python",
   "name": "python",
   "nbconvert_exporter": "python",
   "pygments_lexer": "ipython3",
   "version": "3.12.1"
  }
 },
 "nbformat": 4,
 "nbformat_minor": 5
}

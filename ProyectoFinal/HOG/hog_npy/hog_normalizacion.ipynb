{
 "cells": [
  {
   "cell_type": "markdown",
   "id": "69acbaa1",
   "metadata": {},
   "source": [
    "# Extracción de características HOG\n",
    "Este notebook aplica el descriptor HOG (Histogram of Oriented Gradients) a las imágenes normalizadas"
   ]
  },
  {
   "cell_type": "code",
   "execution_count": null,
   "id": "b64561d7",
   "metadata": {},
   "outputs": [
    {
     "name": "stdout",
     "output_type": "stream",
     "text": [
      "Ruta de imágenes normalizadas: /workspaces/fruit-detector-pricer/ProyectoFinal/normalizacion/normalizadas\n",
      "Ruta de salida HOG: /workspaces/fruit-detector-pricer/ProyectoFinal/HOG/hog_npy\n"
     ]
    },
    {
     "name": "stderr",
     "output_type": "stream",
     "text": [
      "Procesando Peach 2 en train: 100%|██████████| 516/516 [00:03<00:00, 148.11it/s]\n",
      "Procesando Apple Red 1 en train: 100%|██████████| 344/344 [00:02<00:00, 165.20it/s]\n",
      "Procesando Cocos 1 en train: 100%|██████████| 343/343 [00:02<00:00, 144.99it/s]\n",
      "Procesando Banana 1 en train: 100%|██████████| 343/343 [00:01<00:00, 180.40it/s]\n",
      "Procesando Granadilla 1 en train: 100%|██████████| 342/342 [00:02<00:00, 143.19it/s]\n",
      "Procesando Kiwi 1 en train: 100%|██████████| 326/326 [00:02<00:00, 161.85it/s]\n",
      "Procesando Pear Forelle 1 en train: 100%|██████████| 490/490 [00:03<00:00, 146.70it/s]\n",
      "Procesando Cantaloupe 2 en train: 100%|██████████| 344/344 [00:02<00:00, 163.22it/s]\n",
      "Procesando Maracuja 1 en train: 100%|██████████| 343/343 [00:02<00:00, 143.25it/s]\n",
      "Procesando Pineapple Mini 1 en train: 100%|██████████| 343/343 [00:02<00:00, 165.29it/s]\n",
      "Procesando Peach 2 en test: 100%|██████████| 222/222 [00:01<00:00, 150.25it/s]\n",
      "Procesando Apple Red 1 en test: 100%|██████████| 148/148 [00:00<00:00, 154.22it/s]\n",
      "Procesando Cocos 1 en test: 100%|██████████| 147/147 [00:00<00:00, 158.42it/s]\n",
      "Procesando Banana 1 en test: 100%|██████████| 147/147 [00:00<00:00, 180.61it/s]\n",
      "Procesando Granadilla 1 en test: 100%|██████████| 147/147 [00:00<00:00, 159.91it/s]\n",
      "Procesando Kiwi 1 en test: 100%|██████████| 140/140 [00:00<00:00, 144.74it/s]\n",
      "Procesando Pear Forelle 1 en test: 100%|██████████| 211/211 [00:01<00:00, 128.31it/s]\n",
      "Procesando Cantaloupe 2 en test: 100%|██████████| 148/148 [00:00<00:00, 172.96it/s]\n",
      "Procesando Maracuja 1 en test: 100%|██████████| 147/147 [00:00<00:00, 175.23it/s]\n",
      "Procesando Pineapple Mini 1 en test: 100%|██████████| 148/148 [00:00<00:00, 167.91it/s]"
     ]
    },
    {
     "name": "stdout",
     "output_type": "stream",
     "text": [
      "\n",
      "✅ Procesamiento HOG completado\n",
      "Las imágenes HOG han sido guardadas en la carpeta hog_npy/\n"
     ]
    },
    {
     "name": "stderr",
     "output_type": "stream",
     "text": [
      "\n"
     ]
    }
   ],
   "source": [
    "import os\n",
    "import glob\n",
    "import numpy as np\n",
    "import cv2\n",
    "from skimage.feature import hog\n",
    "from tqdm import tqdm\n",
    "import matplotlib.pyplot as plt\n",
    "\n",
    "plt.ioff()  # Evita mostrar figuras vacías\n",
    "\n",
    "BASE_DIR = os.path.dirname(os.path.abspath('.'))         # .../ProyectoFinal/HOG\n",
    "PROYECTO_DIR = os.path.dirname(BASE_DIR)                 # .../ProyectoFinal\n",
    "\n",
    "NORMALIZADAS_DIR = os.path.join(PROYECTO_DIR, 'normalizacion', 'normalizadas')\n",
    "HOG_DIR = os.path.join(PROYECTO_DIR, 'HOG', 'hog_npy')\n",
    "\n",
    "# Crear carpeta de salida si no existe\n",
    "os.makedirs(HOG_DIR, exist_ok=True)\n",
    "\n",
    "print(f\"Ruta de imágenes normalizadas: {NORMALIZADAS_DIR}\")\n",
    "print(f\"Ruta de salida HOG: {HOG_DIR}\")\n",
    "\n",
    "# 2. Parámetros HOG\n",
    "orientations = 9\n",
    "pixels_per_cell = (8, 8)\n",
    "cells_per_block = (2, 2)\n",
    "\n",
    "# 3. Función de procesamiento\n",
    "def procesar_imagenes(origen_split):\n",
    "    split_path = os.path.join(NORMALIZADAS_DIR, origen_split)\n",
    "    if not os.path.exists(split_path):\n",
    "        print(f\"❌ Carpeta no encontrada: {split_path}\")\n",
    "        return\n",
    "\n",
    "    out_split_path = os.path.join(HOG_DIR, origen_split)\n",
    "    os.makedirs(out_split_path, exist_ok=True)\n",
    "\n",
    "    clases = [d for d in os.listdir(split_path)\n",
    "              if os.path.isdir(os.path.join(split_path, d))]\n",
    "\n",
    "    for clase in clases:\n",
    "        clase_in_dir = os.path.join(split_path, clase)\n",
    "        clase_out_dir = os.path.join(out_split_path, clase)\n",
    "        os.makedirs(clase_out_dir, exist_ok=True)\n",
    "\n",
    "        imagenes = glob.glob(os.path.join(clase_in_dir, '*_recorte.png'))\n",
    "        if len(imagenes) == 0:\n",
    "            print(f\"⚠️ No se encontraron imágenes en {clase_in_dir}\")\n",
    "            continue\n",
    "\n",
    "        for img_path in tqdm(imagenes, desc=f\"Procesando {clase} en {origen_split}\"):\n",
    "            img = cv2.imread(img_path, cv2.IMREAD_GRAYSCALE)\n",
    "            if img is None:\n",
    "                print(f\"⚠️ No se pudo leer la imagen: {img_path}\")\n",
    "                continue\n",
    "\n",
    "            features = hog(\n",
    "                img,\n",
    "                orientations=orientations,\n",
    "                pixels_per_cell=pixels_per_cell,\n",
    "                cells_per_block=cells_per_block,\n",
    "                visualize=False\n",
    "            )\n",
    "\n",
    "            nombre_base = os.path.basename(img_path).replace('_recorte.png', '')\n",
    "            out_path = os.path.join(clase_out_dir, f\"{nombre_base}_hog.npy\")\n",
    "            np.save(out_path, features)\n",
    "\n",
    "# 4. Ejecutar procesamiento de train y test\n",
    "for split in ['train', 'test']:\n",
    "    procesar_imagenes(split)\n",
    "\n",
    "plt.close('all')\n",
    "print(\"\\n✅ Procesamiento HOG completado\")\n",
    "print(\"Las imágenes HOG han sido guardadas en la carpeta hog_npy/\")\n"
   ]
  },
  {
   "cell_type": "code",
   "execution_count": 5,
   "id": "302e6b8c",
   "metadata": {},
   "outputs": [
    {
     "name": "stdout",
     "output_type": "stream",
     "text": [
      "\n",
      "📦 Conteo en TRAIN:\n",
      "  Apple Red 1: 344 archivos\n",
      "  Banana 1: 343 archivos\n",
      "  Cantaloupe 2: 344 archivos\n",
      "  Cocos 1: 343 archivos\n",
      "  Granadilla 1: 342 archivos\n",
      "  Kiwi 1: 326 archivos\n",
      "  Maracuja 1: 343 archivos\n",
      "  Peach 2: 516 archivos\n",
      "  Pear Forelle 1: 490 archivos\n",
      "  Pineapple Mini 1: 343 archivos\n",
      "\n",
      "📦 Conteo en TEST:\n",
      "  Apple Red 1: 148 archivos\n",
      "  Banana 1: 147 archivos\n",
      "  Cantaloupe 2: 148 archivos\n",
      "  Cocos 1: 147 archivos\n",
      "  Granadilla 1: 147 archivos\n",
      "  Kiwi 1: 140 archivos\n",
      "  Maracuja 1: 147 archivos\n",
      "  Peach 2: 222 archivos\n",
      "  Pear Forelle 1: 211 archivos\n",
      "  Pineapple Mini 1: 148 archivos\n"
     ]
    }
   ],
   "source": [
    "from pathlib import Path\n",
    "\n",
    "def contar_npy_por_split(split):\n",
    "    base = Path(HOG_DIR) / split\n",
    "    print(f\"\\n📦 Conteo en {split.upper()}:\")\n",
    "    for clase in sorted(base.iterdir()):\n",
    "        if clase.is_dir():\n",
    "            count = len(list(clase.glob(\"*.npy\")))\n",
    "            print(f\"  {clase.name}: {count} archivos\")\n",
    "\n",
    "contar_npy_por_split(\"train\")\n",
    "contar_npy_por_split(\"test\")\n"
   ]
  },
  {
   "cell_type": "code",
   "execution_count": 6,
   "id": "e8af56f6",
   "metadata": {},
   "outputs": [
    {
     "name": "stdout",
     "output_type": "stream",
     "text": [
      "\n",
      "🔢 Total archivos en TRAIN: 3734\n",
      "\n",
      "🔢 Total archivos en TEST: 1605\n"
     ]
    }
   ],
   "source": [
    "def total_npy(split):\n",
    "    base = Path(HOG_DIR) / split\n",
    "    total = sum(len(list(d.glob(\"*.npy\"))) for d in base.iterdir() if d.is_dir())\n",
    "    print(f\"\\n🔢 Total archivos en {split.upper()}: {total}\")\n",
    "\n",
    "total_npy(\"train\")\n",
    "total_npy(\"test\")\n"
   ]
  }
 ],
 "metadata": {
  "kernelspec": {
   "display_name": ".venv",
   "language": "python",
   "name": "python3"
  },
  "language_info": {
   "codemirror_mode": {
    "name": "ipython",
    "version": 3
   },
   "file_extension": ".py",
   "mimetype": "text/x-python",
   "name": "python",
   "nbconvert_exporter": "python",
   "pygments_lexer": "ipython3",
   "version": "3.12.3"
  }
 },
 "nbformat": 4,
 "nbformat_minor": 5
}

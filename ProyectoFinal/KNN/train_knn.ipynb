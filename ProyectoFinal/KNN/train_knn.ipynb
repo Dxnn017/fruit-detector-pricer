{
 "cells": [
  {
   "cell_type": "markdown",
   "id": "d9f5b3a2",
   "metadata": {},
   "source": [
    "# Clasificación de Frutas con KNN y Asignación de Precios\n",
    "Este notebook implementa un clasificador KNN usando características HOG+LBP y asigna precios de referencia a las frutas"
   ]
  },
  {
   "cell_type": "code",
   "execution_count": 19,
   "id": "137a0823",
   "metadata": {},
   "outputs": [
    {
     "name": "stdout",
     "output_type": "stream",
     "text": [
      "Ruta de características HOG+LBP: /workspaces/fruit-detector-pricer/ProyectoFinal/HOG_LBP/hog_lbp_features\n",
      "Ruta de modelos: /workspaces/fruit-detector-pricer/ProyectoFinal/KNN/models\n",
      "\n",
      "Precios de referencia:\n",
      "Apple Red 1: $1,500 COP\n",
      "Banana 1: $800 COP\n",
      "Cantaloupe 2: $8,000 COP\n",
      "Cocos 1: $5,000 COP\n",
      "Granadilla 1: $2,500 COP\n",
      "Kiwi 1: $2,000 COP\n",
      "Maracuja 1: $2,000 COP\n",
      "Peach 2: $3,000 COP\n",
      "Pear Forelle 1: $2,500 COP\n",
      "Pineapple Mini 1: $4,500 COP\n"
     ]
    }
   ],
   "source": [
    "import os\n",
    "import numpy as np\n",
    "from sklearn.neighbors import KNeighborsClassifier\n",
    "from sklearn.preprocessing import StandardScaler\n",
    "from sklearn.metrics import classification_report, confusion_matrix\n",
    "import matplotlib.pyplot as plt\n",
    "import seaborn as sns\n",
    "from tqdm import tqdm\n",
    "import joblib\n",
    "import pandas as pd\n",
    "\n",
    "# Rutas\n",
    "BASE_DIR = os.path.dirname(os.path.abspath('.'))\n",
    "HOG_LBP_DIR = os.path.join(BASE_DIR, 'HOG_LBP', 'hog_lbp_features')\n",
    "MODELS_DIR = os.path.join(BASE_DIR, 'KNN', 'models')\n",
    "\n",
    "# Diccionario de precios de referencia (en pesos colombianos)\n",
    "precios_referencia = {\n",
    "    'Apple Red 1': 1500,        # Precio por unidad\n",
    "    'Banana 1': 800,           # Precio por unidad\n",
    "    'Cantaloupe 2': 8000,      # Precio por unidad\n",
    "    'Cocos 1': 5000,          # Precio por unidad\n",
    "    'Granadilla 1': 2500,     # Precio por unidad\n",
    "    'Kiwi 1': 2000,           # Precio por unidad\n",
    "    'Maracuja 1': 2000,       # Precio por unidad\n",
    "    'Peach 2': 3000,          # Precio por unidad\n",
    "    'Pear Forelle 1': 2500,   # Precio por unidad\n",
    "    'Pineapple Mini 1': 4500  # Precio por unidad\n",
    "}\n",
    "\n",
    "print(f\"Ruta de características HOG+LBP: {HOG_LBP_DIR}\")\n",
    "print(f\"Ruta de modelos: {MODELS_DIR}\")\n",
    "print(\"\\nPrecios de referencia:\")\n",
    "for fruta, precio in precios_referencia.items():\n",
    "    print(f\"{fruta}: ${precio:,} COP\")"
   ]
  },
  {
   "cell_type": "code",
   "execution_count": 20,
   "id": "043a7780",
   "metadata": {},
   "outputs": [
    {
     "name": "stdout",
     "output_type": "stream",
     "text": [
      "Cargando datos de entrenamiento...\n",
      "\n",
      "Clases encontradas: ['Apple Red 1', 'Banana 1', 'Cantaloupe 2', 'Cocos 1', 'Granadilla 1', 'Kiwi 1', 'Maracuja 1', 'Peach 2', 'Pear Forelle 1', 'Pineapple Mini 1']\n",
      "Cargando 344 imágenes de Apple Red 1...\n"
     ]
    },
    {
     "name": "stdout",
     "output_type": "stream",
     "text": [
      "Cargando datos de entrenamiento...\n",
      "\n",
      "Clases encontradas: ['Apple Red 1', 'Banana 1', 'Cantaloupe 2', 'Cocos 1', 'Granadilla 1', 'Kiwi 1', 'Maracuja 1', 'Peach 2', 'Pear Forelle 1', 'Pineapple Mini 1']\n",
      "Cargando 344 imágenes de Apple Red 1...\n"
     ]
    },
    {
     "name": "stderr",
     "output_type": "stream",
     "text": [
      "100%|██████████| 344/344 [00:00<00:00, 6803.44it/s]\n",
      "100%|██████████| 344/344 [00:00<00:00, 6803.44it/s]\n"
     ]
    },
    {
     "name": "stdout",
     "output_type": "stream",
     "text": [
      "Cargando datos de entrenamiento...\n",
      "\n",
      "Clases encontradas: ['Apple Red 1', 'Banana 1', 'Cantaloupe 2', 'Cocos 1', 'Granadilla 1', 'Kiwi 1', 'Maracuja 1', 'Peach 2', 'Pear Forelle 1', 'Pineapple Mini 1']\n",
      "Cargando 344 imágenes de Apple Red 1...\n"
     ]
    },
    {
     "name": "stderr",
     "output_type": "stream",
     "text": [
      "100%|██████████| 344/344 [00:00<00:00, 6803.44it/s]\n",
      "100%|██████████| 344/344 [00:00<00:00, 6803.44it/s]\n"
     ]
    },
    {
     "name": "stdout",
     "output_type": "stream",
     "text": [
      "Cargando 343 imágenes de Banana 1...\n"
     ]
    },
    {
     "name": "stderr",
     "output_type": "stream",
     "text": [
      "100%|██████████| 343/343 [00:00<00:00, 7630.21it/s]\n",
      "100%|██████████| 343/343 [00:00<00:00, 7630.21it/s]\n"
     ]
    },
    {
     "name": "stdout",
     "output_type": "stream",
     "text": [
      "Cargando datos de entrenamiento...\n",
      "\n",
      "Clases encontradas: ['Apple Red 1', 'Banana 1', 'Cantaloupe 2', 'Cocos 1', 'Granadilla 1', 'Kiwi 1', 'Maracuja 1', 'Peach 2', 'Pear Forelle 1', 'Pineapple Mini 1']\n",
      "Cargando 344 imágenes de Apple Red 1...\n"
     ]
    },
    {
     "name": "stderr",
     "output_type": "stream",
     "text": [
      "100%|██████████| 344/344 [00:00<00:00, 6803.44it/s]\n",
      "100%|██████████| 344/344 [00:00<00:00, 6803.44it/s]\n"
     ]
    },
    {
     "name": "stdout",
     "output_type": "stream",
     "text": [
      "Cargando 343 imágenes de Banana 1...\n"
     ]
    },
    {
     "name": "stderr",
     "output_type": "stream",
     "text": [
      "100%|██████████| 343/343 [00:00<00:00, 7630.21it/s]\n",
      "100%|██████████| 343/343 [00:00<00:00, 7630.21it/s]\n"
     ]
    },
    {
     "name": "stdout",
     "output_type": "stream",
     "text": [
      "Cargando 344 imágenes de Cantaloupe 2...\n"
     ]
    },
    {
     "name": "stderr",
     "output_type": "stream",
     "text": [
      "100%|██████████| 344/344 [00:00<00:00, 7189.11it/s]\n",
      "100%|██████████| 344/344 [00:00<00:00, 7189.11it/s]\n"
     ]
    },
    {
     "name": "stdout",
     "output_type": "stream",
     "text": [
      "Cargando datos de entrenamiento...\n",
      "\n",
      "Clases encontradas: ['Apple Red 1', 'Banana 1', 'Cantaloupe 2', 'Cocos 1', 'Granadilla 1', 'Kiwi 1', 'Maracuja 1', 'Peach 2', 'Pear Forelle 1', 'Pineapple Mini 1']\n",
      "Cargando 344 imágenes de Apple Red 1...\n"
     ]
    },
    {
     "name": "stderr",
     "output_type": "stream",
     "text": [
      "100%|██████████| 344/344 [00:00<00:00, 6803.44it/s]\n",
      "100%|██████████| 344/344 [00:00<00:00, 6803.44it/s]\n"
     ]
    },
    {
     "name": "stdout",
     "output_type": "stream",
     "text": [
      "Cargando 343 imágenes de Banana 1...\n"
     ]
    },
    {
     "name": "stderr",
     "output_type": "stream",
     "text": [
      "100%|██████████| 343/343 [00:00<00:00, 7630.21it/s]\n",
      "100%|██████████| 343/343 [00:00<00:00, 7630.21it/s]\n"
     ]
    },
    {
     "name": "stdout",
     "output_type": "stream",
     "text": [
      "Cargando 344 imágenes de Cantaloupe 2...\n"
     ]
    },
    {
     "name": "stderr",
     "output_type": "stream",
     "text": [
      "100%|██████████| 344/344 [00:00<00:00, 7189.11it/s]\n",
      "100%|██████████| 344/344 [00:00<00:00, 7189.11it/s]\n"
     ]
    },
    {
     "name": "stdout",
     "output_type": "stream",
     "text": [
      "Cargando 343 imágenes de Cocos 1...\n"
     ]
    },
    {
     "name": "stderr",
     "output_type": "stream",
     "text": [
      "100%|██████████| 343/343 [00:00<00:00, 7509.92it/s]\n",
      "100%|██████████| 343/343 [00:00<00:00, 7509.92it/s]\n"
     ]
    },
    {
     "name": "stdout",
     "output_type": "stream",
     "text": [
      "Cargando datos de entrenamiento...\n",
      "\n",
      "Clases encontradas: ['Apple Red 1', 'Banana 1', 'Cantaloupe 2', 'Cocos 1', 'Granadilla 1', 'Kiwi 1', 'Maracuja 1', 'Peach 2', 'Pear Forelle 1', 'Pineapple Mini 1']\n",
      "Cargando 344 imágenes de Apple Red 1...\n"
     ]
    },
    {
     "name": "stderr",
     "output_type": "stream",
     "text": [
      "100%|██████████| 344/344 [00:00<00:00, 6803.44it/s]\n",
      "100%|██████████| 344/344 [00:00<00:00, 6803.44it/s]\n"
     ]
    },
    {
     "name": "stdout",
     "output_type": "stream",
     "text": [
      "Cargando 343 imágenes de Banana 1...\n"
     ]
    },
    {
     "name": "stderr",
     "output_type": "stream",
     "text": [
      "100%|██████████| 343/343 [00:00<00:00, 7630.21it/s]\n",
      "100%|██████████| 343/343 [00:00<00:00, 7630.21it/s]\n"
     ]
    },
    {
     "name": "stdout",
     "output_type": "stream",
     "text": [
      "Cargando 344 imágenes de Cantaloupe 2...\n"
     ]
    },
    {
     "name": "stderr",
     "output_type": "stream",
     "text": [
      "100%|██████████| 344/344 [00:00<00:00, 7189.11it/s]\n",
      "100%|██████████| 344/344 [00:00<00:00, 7189.11it/s]\n"
     ]
    },
    {
     "name": "stdout",
     "output_type": "stream",
     "text": [
      "Cargando 343 imágenes de Cocos 1...\n"
     ]
    },
    {
     "name": "stderr",
     "output_type": "stream",
     "text": [
      "100%|██████████| 343/343 [00:00<00:00, 7509.92it/s]\n",
      "100%|██████████| 343/343 [00:00<00:00, 7509.92it/s]\n"
     ]
    },
    {
     "name": "stdout",
     "output_type": "stream",
     "text": [
      "Cargando 342 imágenes de Granadilla 1...\n"
     ]
    },
    {
     "name": "stderr",
     "output_type": "stream",
     "text": [
      "100%|██████████| 342/342 [00:00<00:00, 7027.08it/s]\n",
      "100%|██████████| 342/342 [00:00<00:00, 7027.08it/s]\n"
     ]
    },
    {
     "name": "stdout",
     "output_type": "stream",
     "text": [
      "Cargando datos de entrenamiento...\n",
      "\n",
      "Clases encontradas: ['Apple Red 1', 'Banana 1', 'Cantaloupe 2', 'Cocos 1', 'Granadilla 1', 'Kiwi 1', 'Maracuja 1', 'Peach 2', 'Pear Forelle 1', 'Pineapple Mini 1']\n",
      "Cargando 344 imágenes de Apple Red 1...\n"
     ]
    },
    {
     "name": "stderr",
     "output_type": "stream",
     "text": [
      "100%|██████████| 344/344 [00:00<00:00, 6803.44it/s]\n",
      "100%|██████████| 344/344 [00:00<00:00, 6803.44it/s]\n"
     ]
    },
    {
     "name": "stdout",
     "output_type": "stream",
     "text": [
      "Cargando 343 imágenes de Banana 1...\n"
     ]
    },
    {
     "name": "stderr",
     "output_type": "stream",
     "text": [
      "100%|██████████| 343/343 [00:00<00:00, 7630.21it/s]\n",
      "100%|██████████| 343/343 [00:00<00:00, 7630.21it/s]\n"
     ]
    },
    {
     "name": "stdout",
     "output_type": "stream",
     "text": [
      "Cargando 344 imágenes de Cantaloupe 2...\n"
     ]
    },
    {
     "name": "stderr",
     "output_type": "stream",
     "text": [
      "100%|██████████| 344/344 [00:00<00:00, 7189.11it/s]\n",
      "100%|██████████| 344/344 [00:00<00:00, 7189.11it/s]\n"
     ]
    },
    {
     "name": "stdout",
     "output_type": "stream",
     "text": [
      "Cargando 343 imágenes de Cocos 1...\n"
     ]
    },
    {
     "name": "stderr",
     "output_type": "stream",
     "text": [
      "100%|██████████| 343/343 [00:00<00:00, 7509.92it/s]\n",
      "100%|██████████| 343/343 [00:00<00:00, 7509.92it/s]\n"
     ]
    },
    {
     "name": "stdout",
     "output_type": "stream",
     "text": [
      "Cargando 342 imágenes de Granadilla 1...\n"
     ]
    },
    {
     "name": "stderr",
     "output_type": "stream",
     "text": [
      "100%|██████████| 342/342 [00:00<00:00, 7027.08it/s]\n",
      "100%|██████████| 342/342 [00:00<00:00, 7027.08it/s]\n"
     ]
    },
    {
     "name": "stdout",
     "output_type": "stream",
     "text": [
      "Cargando 326 imágenes de Kiwi 1...\n"
     ]
    },
    {
     "name": "stderr",
     "output_type": "stream",
     "text": [
      "100%|██████████| 326/326 [00:00<00:00, 6704.86it/s]\n",
      "100%|██████████| 326/326 [00:00<00:00, 6704.86it/s]\n"
     ]
    },
    {
     "name": "stdout",
     "output_type": "stream",
     "text": [
      "Cargando datos de entrenamiento...\n",
      "\n",
      "Clases encontradas: ['Apple Red 1', 'Banana 1', 'Cantaloupe 2', 'Cocos 1', 'Granadilla 1', 'Kiwi 1', 'Maracuja 1', 'Peach 2', 'Pear Forelle 1', 'Pineapple Mini 1']\n",
      "Cargando 344 imágenes de Apple Red 1...\n"
     ]
    },
    {
     "name": "stderr",
     "output_type": "stream",
     "text": [
      "100%|██████████| 344/344 [00:00<00:00, 6803.44it/s]\n",
      "100%|██████████| 344/344 [00:00<00:00, 6803.44it/s]\n"
     ]
    },
    {
     "name": "stdout",
     "output_type": "stream",
     "text": [
      "Cargando 343 imágenes de Banana 1...\n"
     ]
    },
    {
     "name": "stderr",
     "output_type": "stream",
     "text": [
      "100%|██████████| 343/343 [00:00<00:00, 7630.21it/s]\n",
      "100%|██████████| 343/343 [00:00<00:00, 7630.21it/s]\n"
     ]
    },
    {
     "name": "stdout",
     "output_type": "stream",
     "text": [
      "Cargando 344 imágenes de Cantaloupe 2...\n"
     ]
    },
    {
     "name": "stderr",
     "output_type": "stream",
     "text": [
      "100%|██████████| 344/344 [00:00<00:00, 7189.11it/s]\n",
      "100%|██████████| 344/344 [00:00<00:00, 7189.11it/s]\n"
     ]
    },
    {
     "name": "stdout",
     "output_type": "stream",
     "text": [
      "Cargando 343 imágenes de Cocos 1...\n"
     ]
    },
    {
     "name": "stderr",
     "output_type": "stream",
     "text": [
      "100%|██████████| 343/343 [00:00<00:00, 7509.92it/s]\n",
      "100%|██████████| 343/343 [00:00<00:00, 7509.92it/s]\n"
     ]
    },
    {
     "name": "stdout",
     "output_type": "stream",
     "text": [
      "Cargando 342 imágenes de Granadilla 1...\n"
     ]
    },
    {
     "name": "stderr",
     "output_type": "stream",
     "text": [
      "100%|██████████| 342/342 [00:00<00:00, 7027.08it/s]\n",
      "100%|██████████| 342/342 [00:00<00:00, 7027.08it/s]\n"
     ]
    },
    {
     "name": "stdout",
     "output_type": "stream",
     "text": [
      "Cargando 326 imágenes de Kiwi 1...\n"
     ]
    },
    {
     "name": "stderr",
     "output_type": "stream",
     "text": [
      "100%|██████████| 326/326 [00:00<00:00, 6704.86it/s]\n",
      "100%|██████████| 326/326 [00:00<00:00, 6704.86it/s]\n"
     ]
    },
    {
     "name": "stdout",
     "output_type": "stream",
     "text": [
      "Cargando 343 imágenes de Maracuja 1...\n"
     ]
    },
    {
     "name": "stderr",
     "output_type": "stream",
     "text": [
      "100%|██████████| 343/343 [00:00<00:00, 5707.60it/s]\n",
      "100%|██████████| 343/343 [00:00<00:00, 5707.60it/s]\n"
     ]
    },
    {
     "name": "stdout",
     "output_type": "stream",
     "text": [
      "Cargando datos de entrenamiento...\n",
      "\n",
      "Clases encontradas: ['Apple Red 1', 'Banana 1', 'Cantaloupe 2', 'Cocos 1', 'Granadilla 1', 'Kiwi 1', 'Maracuja 1', 'Peach 2', 'Pear Forelle 1', 'Pineapple Mini 1']\n",
      "Cargando 344 imágenes de Apple Red 1...\n"
     ]
    },
    {
     "name": "stderr",
     "output_type": "stream",
     "text": [
      "100%|██████████| 344/344 [00:00<00:00, 6803.44it/s]\n",
      "100%|██████████| 344/344 [00:00<00:00, 6803.44it/s]\n"
     ]
    },
    {
     "name": "stdout",
     "output_type": "stream",
     "text": [
      "Cargando 343 imágenes de Banana 1...\n"
     ]
    },
    {
     "name": "stderr",
     "output_type": "stream",
     "text": [
      "100%|██████████| 343/343 [00:00<00:00, 7630.21it/s]\n",
      "100%|██████████| 343/343 [00:00<00:00, 7630.21it/s]\n"
     ]
    },
    {
     "name": "stdout",
     "output_type": "stream",
     "text": [
      "Cargando 344 imágenes de Cantaloupe 2...\n"
     ]
    },
    {
     "name": "stderr",
     "output_type": "stream",
     "text": [
      "100%|██████████| 344/344 [00:00<00:00, 7189.11it/s]\n",
      "100%|██████████| 344/344 [00:00<00:00, 7189.11it/s]\n"
     ]
    },
    {
     "name": "stdout",
     "output_type": "stream",
     "text": [
      "Cargando 343 imágenes de Cocos 1...\n"
     ]
    },
    {
     "name": "stderr",
     "output_type": "stream",
     "text": [
      "100%|██████████| 343/343 [00:00<00:00, 7509.92it/s]\n",
      "100%|██████████| 343/343 [00:00<00:00, 7509.92it/s]\n"
     ]
    },
    {
     "name": "stdout",
     "output_type": "stream",
     "text": [
      "Cargando 342 imágenes de Granadilla 1...\n"
     ]
    },
    {
     "name": "stderr",
     "output_type": "stream",
     "text": [
      "100%|██████████| 342/342 [00:00<00:00, 7027.08it/s]\n",
      "100%|██████████| 342/342 [00:00<00:00, 7027.08it/s]\n"
     ]
    },
    {
     "name": "stdout",
     "output_type": "stream",
     "text": [
      "Cargando 326 imágenes de Kiwi 1...\n"
     ]
    },
    {
     "name": "stderr",
     "output_type": "stream",
     "text": [
      "100%|██████████| 326/326 [00:00<00:00, 6704.86it/s]\n",
      "100%|██████████| 326/326 [00:00<00:00, 6704.86it/s]\n"
     ]
    },
    {
     "name": "stdout",
     "output_type": "stream",
     "text": [
      "Cargando 343 imágenes de Maracuja 1...\n"
     ]
    },
    {
     "name": "stderr",
     "output_type": "stream",
     "text": [
      "100%|██████████| 343/343 [00:00<00:00, 5707.60it/s]\n",
      "100%|██████████| 343/343 [00:00<00:00, 5707.60it/s]\n"
     ]
    },
    {
     "name": "stdout",
     "output_type": "stream",
     "text": [
      "Cargando 516 imágenes de Peach 2...\n"
     ]
    },
    {
     "name": "stderr",
     "output_type": "stream",
     "text": [
      "100%|██████████| 516/516 [00:00<00:00, 6574.32it/s]\n",
      "100%|██████████| 516/516 [00:00<00:00, 6574.32it/s]\n"
     ]
    },
    {
     "name": "stdout",
     "output_type": "stream",
     "text": [
      "Cargando datos de entrenamiento...\n",
      "\n",
      "Clases encontradas: ['Apple Red 1', 'Banana 1', 'Cantaloupe 2', 'Cocos 1', 'Granadilla 1', 'Kiwi 1', 'Maracuja 1', 'Peach 2', 'Pear Forelle 1', 'Pineapple Mini 1']\n",
      "Cargando 344 imágenes de Apple Red 1...\n"
     ]
    },
    {
     "name": "stderr",
     "output_type": "stream",
     "text": [
      "100%|██████████| 344/344 [00:00<00:00, 6803.44it/s]\n",
      "100%|██████████| 344/344 [00:00<00:00, 6803.44it/s]\n"
     ]
    },
    {
     "name": "stdout",
     "output_type": "stream",
     "text": [
      "Cargando 343 imágenes de Banana 1...\n"
     ]
    },
    {
     "name": "stderr",
     "output_type": "stream",
     "text": [
      "100%|██████████| 343/343 [00:00<00:00, 7630.21it/s]\n",
      "100%|██████████| 343/343 [00:00<00:00, 7630.21it/s]\n"
     ]
    },
    {
     "name": "stdout",
     "output_type": "stream",
     "text": [
      "Cargando 344 imágenes de Cantaloupe 2...\n"
     ]
    },
    {
     "name": "stderr",
     "output_type": "stream",
     "text": [
      "100%|██████████| 344/344 [00:00<00:00, 7189.11it/s]\n",
      "100%|██████████| 344/344 [00:00<00:00, 7189.11it/s]\n"
     ]
    },
    {
     "name": "stdout",
     "output_type": "stream",
     "text": [
      "Cargando 343 imágenes de Cocos 1...\n"
     ]
    },
    {
     "name": "stderr",
     "output_type": "stream",
     "text": [
      "100%|██████████| 343/343 [00:00<00:00, 7509.92it/s]\n",
      "100%|██████████| 343/343 [00:00<00:00, 7509.92it/s]\n"
     ]
    },
    {
     "name": "stdout",
     "output_type": "stream",
     "text": [
      "Cargando 342 imágenes de Granadilla 1...\n"
     ]
    },
    {
     "name": "stderr",
     "output_type": "stream",
     "text": [
      "100%|██████████| 342/342 [00:00<00:00, 7027.08it/s]\n",
      "100%|██████████| 342/342 [00:00<00:00, 7027.08it/s]\n"
     ]
    },
    {
     "name": "stdout",
     "output_type": "stream",
     "text": [
      "Cargando 326 imágenes de Kiwi 1...\n"
     ]
    },
    {
     "name": "stderr",
     "output_type": "stream",
     "text": [
      "100%|██████████| 326/326 [00:00<00:00, 6704.86it/s]\n",
      "100%|██████████| 326/326 [00:00<00:00, 6704.86it/s]\n"
     ]
    },
    {
     "name": "stdout",
     "output_type": "stream",
     "text": [
      "Cargando 343 imágenes de Maracuja 1...\n"
     ]
    },
    {
     "name": "stderr",
     "output_type": "stream",
     "text": [
      "100%|██████████| 343/343 [00:00<00:00, 5707.60it/s]\n",
      "100%|██████████| 343/343 [00:00<00:00, 5707.60it/s]\n"
     ]
    },
    {
     "name": "stdout",
     "output_type": "stream",
     "text": [
      "Cargando 516 imágenes de Peach 2...\n"
     ]
    },
    {
     "name": "stderr",
     "output_type": "stream",
     "text": [
      "100%|██████████| 516/516 [00:00<00:00, 6574.32it/s]\n",
      "100%|██████████| 516/516 [00:00<00:00, 6574.32it/s]\n"
     ]
    },
    {
     "name": "stdout",
     "output_type": "stream",
     "text": [
      "Cargando 490 imágenes de Pear Forelle 1...\n"
     ]
    },
    {
     "name": "stderr",
     "output_type": "stream",
     "text": [
      "100%|██████████| 490/490 [00:00<00:00, 4728.54it/s]\n",
      "100%|██████████| 490/490 [00:00<00:00, 4728.54it/s]\n"
     ]
    },
    {
     "name": "stdout",
     "output_type": "stream",
     "text": [
      "Cargando datos de entrenamiento...\n",
      "\n",
      "Clases encontradas: ['Apple Red 1', 'Banana 1', 'Cantaloupe 2', 'Cocos 1', 'Granadilla 1', 'Kiwi 1', 'Maracuja 1', 'Peach 2', 'Pear Forelle 1', 'Pineapple Mini 1']\n",
      "Cargando 344 imágenes de Apple Red 1...\n"
     ]
    },
    {
     "name": "stderr",
     "output_type": "stream",
     "text": [
      "100%|██████████| 344/344 [00:00<00:00, 6803.44it/s]\n",
      "100%|██████████| 344/344 [00:00<00:00, 6803.44it/s]\n"
     ]
    },
    {
     "name": "stdout",
     "output_type": "stream",
     "text": [
      "Cargando 343 imágenes de Banana 1...\n"
     ]
    },
    {
     "name": "stderr",
     "output_type": "stream",
     "text": [
      "100%|██████████| 343/343 [00:00<00:00, 7630.21it/s]\n",
      "100%|██████████| 343/343 [00:00<00:00, 7630.21it/s]\n"
     ]
    },
    {
     "name": "stdout",
     "output_type": "stream",
     "text": [
      "Cargando 344 imágenes de Cantaloupe 2...\n"
     ]
    },
    {
     "name": "stderr",
     "output_type": "stream",
     "text": [
      "100%|██████████| 344/344 [00:00<00:00, 7189.11it/s]\n",
      "100%|██████████| 344/344 [00:00<00:00, 7189.11it/s]\n"
     ]
    },
    {
     "name": "stdout",
     "output_type": "stream",
     "text": [
      "Cargando 343 imágenes de Cocos 1...\n"
     ]
    },
    {
     "name": "stderr",
     "output_type": "stream",
     "text": [
      "100%|██████████| 343/343 [00:00<00:00, 7509.92it/s]\n",
      "100%|██████████| 343/343 [00:00<00:00, 7509.92it/s]\n"
     ]
    },
    {
     "name": "stdout",
     "output_type": "stream",
     "text": [
      "Cargando 342 imágenes de Granadilla 1...\n"
     ]
    },
    {
     "name": "stderr",
     "output_type": "stream",
     "text": [
      "100%|██████████| 342/342 [00:00<00:00, 7027.08it/s]\n",
      "100%|██████████| 342/342 [00:00<00:00, 7027.08it/s]\n"
     ]
    },
    {
     "name": "stdout",
     "output_type": "stream",
     "text": [
      "Cargando 326 imágenes de Kiwi 1...\n"
     ]
    },
    {
     "name": "stderr",
     "output_type": "stream",
     "text": [
      "100%|██████████| 326/326 [00:00<00:00, 6704.86it/s]\n",
      "100%|██████████| 326/326 [00:00<00:00, 6704.86it/s]\n"
     ]
    },
    {
     "name": "stdout",
     "output_type": "stream",
     "text": [
      "Cargando 343 imágenes de Maracuja 1...\n"
     ]
    },
    {
     "name": "stderr",
     "output_type": "stream",
     "text": [
      "100%|██████████| 343/343 [00:00<00:00, 5707.60it/s]\n",
      "100%|██████████| 343/343 [00:00<00:00, 5707.60it/s]\n"
     ]
    },
    {
     "name": "stdout",
     "output_type": "stream",
     "text": [
      "Cargando 516 imágenes de Peach 2...\n"
     ]
    },
    {
     "name": "stderr",
     "output_type": "stream",
     "text": [
      "100%|██████████| 516/516 [00:00<00:00, 6574.32it/s]\n",
      "100%|██████████| 516/516 [00:00<00:00, 6574.32it/s]\n"
     ]
    },
    {
     "name": "stdout",
     "output_type": "stream",
     "text": [
      "Cargando 490 imágenes de Pear Forelle 1...\n"
     ]
    },
    {
     "name": "stderr",
     "output_type": "stream",
     "text": [
      "100%|██████████| 490/490 [00:00<00:00, 4728.54it/s]\n",
      "100%|██████████| 490/490 [00:00<00:00, 4728.54it/s]\n"
     ]
    },
    {
     "name": "stdout",
     "output_type": "stream",
     "text": [
      "Cargando 343 imágenes de Pineapple Mini 1...\n"
     ]
    },
    {
     "name": "stderr",
     "output_type": "stream",
     "text": [
      "100%|██████████| 343/343 [00:00<00:00, 5008.73it/s]\n",
      "\n"
     ]
    },
    {
     "name": "stdout",
     "output_type": "stream",
     "text": [
      "Cargando datos de entrenamiento...\n",
      "\n",
      "Clases encontradas: ['Apple Red 1', 'Banana 1', 'Cantaloupe 2', 'Cocos 1', 'Granadilla 1', 'Kiwi 1', 'Maracuja 1', 'Peach 2', 'Pear Forelle 1', 'Pineapple Mini 1']\n",
      "Cargando 344 imágenes de Apple Red 1...\n"
     ]
    },
    {
     "name": "stderr",
     "output_type": "stream",
     "text": [
      "100%|██████████| 344/344 [00:00<00:00, 6803.44it/s]\n",
      "100%|██████████| 344/344 [00:00<00:00, 6803.44it/s]\n"
     ]
    },
    {
     "name": "stdout",
     "output_type": "stream",
     "text": [
      "Cargando 343 imágenes de Banana 1...\n"
     ]
    },
    {
     "name": "stderr",
     "output_type": "stream",
     "text": [
      "100%|██████████| 343/343 [00:00<00:00, 7630.21it/s]\n",
      "100%|██████████| 343/343 [00:00<00:00, 7630.21it/s]\n"
     ]
    },
    {
     "name": "stdout",
     "output_type": "stream",
     "text": [
      "Cargando 344 imágenes de Cantaloupe 2...\n"
     ]
    },
    {
     "name": "stderr",
     "output_type": "stream",
     "text": [
      "100%|██████████| 344/344 [00:00<00:00, 7189.11it/s]\n",
      "100%|██████████| 344/344 [00:00<00:00, 7189.11it/s]\n"
     ]
    },
    {
     "name": "stdout",
     "output_type": "stream",
     "text": [
      "Cargando 343 imágenes de Cocos 1...\n"
     ]
    },
    {
     "name": "stderr",
     "output_type": "stream",
     "text": [
      "100%|██████████| 343/343 [00:00<00:00, 7509.92it/s]\n",
      "100%|██████████| 343/343 [00:00<00:00, 7509.92it/s]\n"
     ]
    },
    {
     "name": "stdout",
     "output_type": "stream",
     "text": [
      "Cargando 342 imágenes de Granadilla 1...\n"
     ]
    },
    {
     "name": "stderr",
     "output_type": "stream",
     "text": [
      "100%|██████████| 342/342 [00:00<00:00, 7027.08it/s]\n",
      "100%|██████████| 342/342 [00:00<00:00, 7027.08it/s]\n"
     ]
    },
    {
     "name": "stdout",
     "output_type": "stream",
     "text": [
      "Cargando 326 imágenes de Kiwi 1...\n"
     ]
    },
    {
     "name": "stderr",
     "output_type": "stream",
     "text": [
      "100%|██████████| 326/326 [00:00<00:00, 6704.86it/s]\n",
      "100%|██████████| 326/326 [00:00<00:00, 6704.86it/s]\n"
     ]
    },
    {
     "name": "stdout",
     "output_type": "stream",
     "text": [
      "Cargando 343 imágenes de Maracuja 1...\n"
     ]
    },
    {
     "name": "stderr",
     "output_type": "stream",
     "text": [
      "100%|██████████| 343/343 [00:00<00:00, 5707.60it/s]\n",
      "100%|██████████| 343/343 [00:00<00:00, 5707.60it/s]\n"
     ]
    },
    {
     "name": "stdout",
     "output_type": "stream",
     "text": [
      "Cargando 516 imágenes de Peach 2...\n"
     ]
    },
    {
     "name": "stderr",
     "output_type": "stream",
     "text": [
      "100%|██████████| 516/516 [00:00<00:00, 6574.32it/s]\n",
      "100%|██████████| 516/516 [00:00<00:00, 6574.32it/s]\n"
     ]
    },
    {
     "name": "stdout",
     "output_type": "stream",
     "text": [
      "Cargando 490 imágenes de Pear Forelle 1...\n"
     ]
    },
    {
     "name": "stderr",
     "output_type": "stream",
     "text": [
      "100%|██████████| 490/490 [00:00<00:00, 4728.54it/s]\n",
      "100%|██████████| 490/490 [00:00<00:00, 4728.54it/s]\n"
     ]
    },
    {
     "name": "stdout",
     "output_type": "stream",
     "text": [
      "Cargando 343 imágenes de Pineapple Mini 1...\n"
     ]
    },
    {
     "name": "stderr",
     "output_type": "stream",
     "text": [
      "100%|██████████| 343/343 [00:00<00:00, 5008.73it/s]\n",
      "\n"
     ]
    },
    {
     "name": "stdout",
     "output_type": "stream",
     "text": [
      "\n",
      "Cargando datos de prueba...\n",
      "\n",
      "Clases encontradas: ['Apple Red 1', 'Banana 1', 'Cantaloupe 2', 'Cocos 1', 'Granadilla 1', 'Kiwi 1', 'Maracuja 1', 'Peach 2', 'Pear Forelle 1', 'Pineapple Mini 1']\n",
      "Cargando 148 imágenes de Apple Red 1...\n"
     ]
    },
    {
     "name": "stderr",
     "output_type": "stream",
     "text": [
      "100%|██████████| 148/148 [00:00<00:00, 9400.42it/s]\n",
      "100%|██████████| 148/148 [00:00<00:00, 9400.42it/s]\n"
     ]
    },
    {
     "name": "stdout",
     "output_type": "stream",
     "text": [
      "Cargando datos de entrenamiento...\n",
      "\n",
      "Clases encontradas: ['Apple Red 1', 'Banana 1', 'Cantaloupe 2', 'Cocos 1', 'Granadilla 1', 'Kiwi 1', 'Maracuja 1', 'Peach 2', 'Pear Forelle 1', 'Pineapple Mini 1']\n",
      "Cargando 344 imágenes de Apple Red 1...\n"
     ]
    },
    {
     "name": "stderr",
     "output_type": "stream",
     "text": [
      "100%|██████████| 344/344 [00:00<00:00, 6803.44it/s]\n",
      "100%|██████████| 344/344 [00:00<00:00, 6803.44it/s]\n"
     ]
    },
    {
     "name": "stdout",
     "output_type": "stream",
     "text": [
      "Cargando 343 imágenes de Banana 1...\n"
     ]
    },
    {
     "name": "stderr",
     "output_type": "stream",
     "text": [
      "100%|██████████| 343/343 [00:00<00:00, 7630.21it/s]\n",
      "100%|██████████| 343/343 [00:00<00:00, 7630.21it/s]\n"
     ]
    },
    {
     "name": "stdout",
     "output_type": "stream",
     "text": [
      "Cargando 344 imágenes de Cantaloupe 2...\n"
     ]
    },
    {
     "name": "stderr",
     "output_type": "stream",
     "text": [
      "100%|██████████| 344/344 [00:00<00:00, 7189.11it/s]\n",
      "100%|██████████| 344/344 [00:00<00:00, 7189.11it/s]\n"
     ]
    },
    {
     "name": "stdout",
     "output_type": "stream",
     "text": [
      "Cargando 343 imágenes de Cocos 1...\n"
     ]
    },
    {
     "name": "stderr",
     "output_type": "stream",
     "text": [
      "100%|██████████| 343/343 [00:00<00:00, 7509.92it/s]\n",
      "100%|██████████| 343/343 [00:00<00:00, 7509.92it/s]\n"
     ]
    },
    {
     "name": "stdout",
     "output_type": "stream",
     "text": [
      "Cargando 342 imágenes de Granadilla 1...\n"
     ]
    },
    {
     "name": "stderr",
     "output_type": "stream",
     "text": [
      "100%|██████████| 342/342 [00:00<00:00, 7027.08it/s]\n",
      "100%|██████████| 342/342 [00:00<00:00, 7027.08it/s]\n"
     ]
    },
    {
     "name": "stdout",
     "output_type": "stream",
     "text": [
      "Cargando 326 imágenes de Kiwi 1...\n"
     ]
    },
    {
     "name": "stderr",
     "output_type": "stream",
     "text": [
      "100%|██████████| 326/326 [00:00<00:00, 6704.86it/s]\n",
      "100%|██████████| 326/326 [00:00<00:00, 6704.86it/s]\n"
     ]
    },
    {
     "name": "stdout",
     "output_type": "stream",
     "text": [
      "Cargando 343 imágenes de Maracuja 1...\n"
     ]
    },
    {
     "name": "stderr",
     "output_type": "stream",
     "text": [
      "100%|██████████| 343/343 [00:00<00:00, 5707.60it/s]\n",
      "100%|██████████| 343/343 [00:00<00:00, 5707.60it/s]\n"
     ]
    },
    {
     "name": "stdout",
     "output_type": "stream",
     "text": [
      "Cargando 516 imágenes de Peach 2...\n"
     ]
    },
    {
     "name": "stderr",
     "output_type": "stream",
     "text": [
      "100%|██████████| 516/516 [00:00<00:00, 6574.32it/s]\n",
      "100%|██████████| 516/516 [00:00<00:00, 6574.32it/s]\n"
     ]
    },
    {
     "name": "stdout",
     "output_type": "stream",
     "text": [
      "Cargando 490 imágenes de Pear Forelle 1...\n"
     ]
    },
    {
     "name": "stderr",
     "output_type": "stream",
     "text": [
      "100%|██████████| 490/490 [00:00<00:00, 4728.54it/s]\n",
      "100%|██████████| 490/490 [00:00<00:00, 4728.54it/s]\n"
     ]
    },
    {
     "name": "stdout",
     "output_type": "stream",
     "text": [
      "Cargando 343 imágenes de Pineapple Mini 1...\n"
     ]
    },
    {
     "name": "stderr",
     "output_type": "stream",
     "text": [
      "100%|██████████| 343/343 [00:00<00:00, 5008.73it/s]\n",
      "\n"
     ]
    },
    {
     "name": "stdout",
     "output_type": "stream",
     "text": [
      "\n",
      "Cargando datos de prueba...\n",
      "\n",
      "Clases encontradas: ['Apple Red 1', 'Banana 1', 'Cantaloupe 2', 'Cocos 1', 'Granadilla 1', 'Kiwi 1', 'Maracuja 1', 'Peach 2', 'Pear Forelle 1', 'Pineapple Mini 1']\n",
      "Cargando 148 imágenes de Apple Red 1...\n"
     ]
    },
    {
     "name": "stderr",
     "output_type": "stream",
     "text": [
      "100%|██████████| 148/148 [00:00<00:00, 9400.42it/s]\n",
      "100%|██████████| 148/148 [00:00<00:00, 9400.42it/s]\n"
     ]
    },
    {
     "name": "stdout",
     "output_type": "stream",
     "text": [
      "Cargando 147 imágenes de Banana 1...\n"
     ]
    },
    {
     "name": "stderr",
     "output_type": "stream",
     "text": [
      "100%|██████████| 147/147 [00:00<00:00, 8995.40it/s]\n",
      "100%|██████████| 147/147 [00:00<00:00, 8995.40it/s]\n"
     ]
    },
    {
     "name": "stdout",
     "output_type": "stream",
     "text": [
      "Cargando datos de entrenamiento...\n",
      "\n",
      "Clases encontradas: ['Apple Red 1', 'Banana 1', 'Cantaloupe 2', 'Cocos 1', 'Granadilla 1', 'Kiwi 1', 'Maracuja 1', 'Peach 2', 'Pear Forelle 1', 'Pineapple Mini 1']\n",
      "Cargando 344 imágenes de Apple Red 1...\n"
     ]
    },
    {
     "name": "stderr",
     "output_type": "stream",
     "text": [
      "100%|██████████| 344/344 [00:00<00:00, 6803.44it/s]\n",
      "100%|██████████| 344/344 [00:00<00:00, 6803.44it/s]\n"
     ]
    },
    {
     "name": "stdout",
     "output_type": "stream",
     "text": [
      "Cargando 343 imágenes de Banana 1...\n"
     ]
    },
    {
     "name": "stderr",
     "output_type": "stream",
     "text": [
      "100%|██████████| 343/343 [00:00<00:00, 7630.21it/s]\n",
      "100%|██████████| 343/343 [00:00<00:00, 7630.21it/s]\n"
     ]
    },
    {
     "name": "stdout",
     "output_type": "stream",
     "text": [
      "Cargando 344 imágenes de Cantaloupe 2...\n"
     ]
    },
    {
     "name": "stderr",
     "output_type": "stream",
     "text": [
      "100%|██████████| 344/344 [00:00<00:00, 7189.11it/s]\n",
      "100%|██████████| 344/344 [00:00<00:00, 7189.11it/s]\n"
     ]
    },
    {
     "name": "stdout",
     "output_type": "stream",
     "text": [
      "Cargando 343 imágenes de Cocos 1...\n"
     ]
    },
    {
     "name": "stderr",
     "output_type": "stream",
     "text": [
      "100%|██████████| 343/343 [00:00<00:00, 7509.92it/s]\n",
      "100%|██████████| 343/343 [00:00<00:00, 7509.92it/s]\n"
     ]
    },
    {
     "name": "stdout",
     "output_type": "stream",
     "text": [
      "Cargando 342 imágenes de Granadilla 1...\n"
     ]
    },
    {
     "name": "stderr",
     "output_type": "stream",
     "text": [
      "100%|██████████| 342/342 [00:00<00:00, 7027.08it/s]\n",
      "100%|██████████| 342/342 [00:00<00:00, 7027.08it/s]\n"
     ]
    },
    {
     "name": "stdout",
     "output_type": "stream",
     "text": [
      "Cargando 326 imágenes de Kiwi 1...\n"
     ]
    },
    {
     "name": "stderr",
     "output_type": "stream",
     "text": [
      "100%|██████████| 326/326 [00:00<00:00, 6704.86it/s]\n",
      "100%|██████████| 326/326 [00:00<00:00, 6704.86it/s]\n"
     ]
    },
    {
     "name": "stdout",
     "output_type": "stream",
     "text": [
      "Cargando 343 imágenes de Maracuja 1...\n"
     ]
    },
    {
     "name": "stderr",
     "output_type": "stream",
     "text": [
      "100%|██████████| 343/343 [00:00<00:00, 5707.60it/s]\n",
      "100%|██████████| 343/343 [00:00<00:00, 5707.60it/s]\n"
     ]
    },
    {
     "name": "stdout",
     "output_type": "stream",
     "text": [
      "Cargando 516 imágenes de Peach 2...\n"
     ]
    },
    {
     "name": "stderr",
     "output_type": "stream",
     "text": [
      "100%|██████████| 516/516 [00:00<00:00, 6574.32it/s]\n",
      "100%|██████████| 516/516 [00:00<00:00, 6574.32it/s]\n"
     ]
    },
    {
     "name": "stdout",
     "output_type": "stream",
     "text": [
      "Cargando 490 imágenes de Pear Forelle 1...\n"
     ]
    },
    {
     "name": "stderr",
     "output_type": "stream",
     "text": [
      "100%|██████████| 490/490 [00:00<00:00, 4728.54it/s]\n",
      "100%|██████████| 490/490 [00:00<00:00, 4728.54it/s]\n"
     ]
    },
    {
     "name": "stdout",
     "output_type": "stream",
     "text": [
      "Cargando 343 imágenes de Pineapple Mini 1...\n"
     ]
    },
    {
     "name": "stderr",
     "output_type": "stream",
     "text": [
      "100%|██████████| 343/343 [00:00<00:00, 5008.73it/s]\n",
      "\n"
     ]
    },
    {
     "name": "stdout",
     "output_type": "stream",
     "text": [
      "\n",
      "Cargando datos de prueba...\n",
      "\n",
      "Clases encontradas: ['Apple Red 1', 'Banana 1', 'Cantaloupe 2', 'Cocos 1', 'Granadilla 1', 'Kiwi 1', 'Maracuja 1', 'Peach 2', 'Pear Forelle 1', 'Pineapple Mini 1']\n",
      "Cargando 148 imágenes de Apple Red 1...\n"
     ]
    },
    {
     "name": "stderr",
     "output_type": "stream",
     "text": [
      "100%|██████████| 148/148 [00:00<00:00, 9400.42it/s]\n",
      "100%|██████████| 148/148 [00:00<00:00, 9400.42it/s]\n"
     ]
    },
    {
     "name": "stdout",
     "output_type": "stream",
     "text": [
      "Cargando 147 imágenes de Banana 1...\n"
     ]
    },
    {
     "name": "stderr",
     "output_type": "stream",
     "text": [
      "100%|██████████| 147/147 [00:00<00:00, 8995.40it/s]\n",
      "100%|██████████| 147/147 [00:00<00:00, 8995.40it/s]\n"
     ]
    },
    {
     "name": "stdout",
     "output_type": "stream",
     "text": [
      "Cargando 148 imágenes de Cantaloupe 2...\n"
     ]
    },
    {
     "name": "stderr",
     "output_type": "stream",
     "text": [
      "100%|██████████| 148/148 [00:00<00:00, 8418.87it/s]\n",
      "100%|██████████| 148/148 [00:00<00:00, 8418.87it/s]\n"
     ]
    },
    {
     "name": "stdout",
     "output_type": "stream",
     "text": [
      "Cargando datos de entrenamiento...\n",
      "\n",
      "Clases encontradas: ['Apple Red 1', 'Banana 1', 'Cantaloupe 2', 'Cocos 1', 'Granadilla 1', 'Kiwi 1', 'Maracuja 1', 'Peach 2', 'Pear Forelle 1', 'Pineapple Mini 1']\n",
      "Cargando 344 imágenes de Apple Red 1...\n"
     ]
    },
    {
     "name": "stderr",
     "output_type": "stream",
     "text": [
      "100%|██████████| 344/344 [00:00<00:00, 6803.44it/s]\n",
      "100%|██████████| 344/344 [00:00<00:00, 6803.44it/s]\n"
     ]
    },
    {
     "name": "stdout",
     "output_type": "stream",
     "text": [
      "Cargando 343 imágenes de Banana 1...\n"
     ]
    },
    {
     "name": "stderr",
     "output_type": "stream",
     "text": [
      "100%|██████████| 343/343 [00:00<00:00, 7630.21it/s]\n",
      "100%|██████████| 343/343 [00:00<00:00, 7630.21it/s]\n"
     ]
    },
    {
     "name": "stdout",
     "output_type": "stream",
     "text": [
      "Cargando 344 imágenes de Cantaloupe 2...\n"
     ]
    },
    {
     "name": "stderr",
     "output_type": "stream",
     "text": [
      "100%|██████████| 344/344 [00:00<00:00, 7189.11it/s]\n",
      "100%|██████████| 344/344 [00:00<00:00, 7189.11it/s]\n"
     ]
    },
    {
     "name": "stdout",
     "output_type": "stream",
     "text": [
      "Cargando 343 imágenes de Cocos 1...\n"
     ]
    },
    {
     "name": "stderr",
     "output_type": "stream",
     "text": [
      "100%|██████████| 343/343 [00:00<00:00, 7509.92it/s]\n",
      "100%|██████████| 343/343 [00:00<00:00, 7509.92it/s]\n"
     ]
    },
    {
     "name": "stdout",
     "output_type": "stream",
     "text": [
      "Cargando 342 imágenes de Granadilla 1...\n"
     ]
    },
    {
     "name": "stderr",
     "output_type": "stream",
     "text": [
      "100%|██████████| 342/342 [00:00<00:00, 7027.08it/s]\n",
      "100%|██████████| 342/342 [00:00<00:00, 7027.08it/s]\n"
     ]
    },
    {
     "name": "stdout",
     "output_type": "stream",
     "text": [
      "Cargando 326 imágenes de Kiwi 1...\n"
     ]
    },
    {
     "name": "stderr",
     "output_type": "stream",
     "text": [
      "100%|██████████| 326/326 [00:00<00:00, 6704.86it/s]\n",
      "100%|██████████| 326/326 [00:00<00:00, 6704.86it/s]\n"
     ]
    },
    {
     "name": "stdout",
     "output_type": "stream",
     "text": [
      "Cargando 343 imágenes de Maracuja 1...\n"
     ]
    },
    {
     "name": "stderr",
     "output_type": "stream",
     "text": [
      "100%|██████████| 343/343 [00:00<00:00, 5707.60it/s]\n",
      "100%|██████████| 343/343 [00:00<00:00, 5707.60it/s]\n"
     ]
    },
    {
     "name": "stdout",
     "output_type": "stream",
     "text": [
      "Cargando 516 imágenes de Peach 2...\n"
     ]
    },
    {
     "name": "stderr",
     "output_type": "stream",
     "text": [
      "100%|██████████| 516/516 [00:00<00:00, 6574.32it/s]\n",
      "100%|██████████| 516/516 [00:00<00:00, 6574.32it/s]\n"
     ]
    },
    {
     "name": "stdout",
     "output_type": "stream",
     "text": [
      "Cargando 490 imágenes de Pear Forelle 1...\n"
     ]
    },
    {
     "name": "stderr",
     "output_type": "stream",
     "text": [
      "100%|██████████| 490/490 [00:00<00:00, 4728.54it/s]\n",
      "100%|██████████| 490/490 [00:00<00:00, 4728.54it/s]\n"
     ]
    },
    {
     "name": "stdout",
     "output_type": "stream",
     "text": [
      "Cargando 343 imágenes de Pineapple Mini 1...\n"
     ]
    },
    {
     "name": "stderr",
     "output_type": "stream",
     "text": [
      "100%|██████████| 343/343 [00:00<00:00, 5008.73it/s]\n",
      "\n"
     ]
    },
    {
     "name": "stdout",
     "output_type": "stream",
     "text": [
      "\n",
      "Cargando datos de prueba...\n",
      "\n",
      "Clases encontradas: ['Apple Red 1', 'Banana 1', 'Cantaloupe 2', 'Cocos 1', 'Granadilla 1', 'Kiwi 1', 'Maracuja 1', 'Peach 2', 'Pear Forelle 1', 'Pineapple Mini 1']\n",
      "Cargando 148 imágenes de Apple Red 1...\n"
     ]
    },
    {
     "name": "stderr",
     "output_type": "stream",
     "text": [
      "100%|██████████| 148/148 [00:00<00:00, 9400.42it/s]\n",
      "100%|██████████| 148/148 [00:00<00:00, 9400.42it/s]\n"
     ]
    },
    {
     "name": "stdout",
     "output_type": "stream",
     "text": [
      "Cargando 147 imágenes de Banana 1...\n"
     ]
    },
    {
     "name": "stderr",
     "output_type": "stream",
     "text": [
      "100%|██████████| 147/147 [00:00<00:00, 8995.40it/s]\n",
      "100%|██████████| 147/147 [00:00<00:00, 8995.40it/s]\n"
     ]
    },
    {
     "name": "stdout",
     "output_type": "stream",
     "text": [
      "Cargando 148 imágenes de Cantaloupe 2...\n"
     ]
    },
    {
     "name": "stderr",
     "output_type": "stream",
     "text": [
      "100%|██████████| 148/148 [00:00<00:00, 8418.87it/s]\n",
      "100%|██████████| 148/148 [00:00<00:00, 8418.87it/s]\n"
     ]
    },
    {
     "name": "stdout",
     "output_type": "stream",
     "text": [
      "Cargando 147 imágenes de Cocos 1...\n"
     ]
    },
    {
     "name": "stderr",
     "output_type": "stream",
     "text": [
      "100%|██████████| 147/147 [00:00<00:00, 9408.72it/s]\n",
      "100%|██████████| 147/147 [00:00<00:00, 9408.72it/s]\n"
     ]
    },
    {
     "name": "stdout",
     "output_type": "stream",
     "text": [
      "Cargando datos de entrenamiento...\n",
      "\n",
      "Clases encontradas: ['Apple Red 1', 'Banana 1', 'Cantaloupe 2', 'Cocos 1', 'Granadilla 1', 'Kiwi 1', 'Maracuja 1', 'Peach 2', 'Pear Forelle 1', 'Pineapple Mini 1']\n",
      "Cargando 344 imágenes de Apple Red 1...\n"
     ]
    },
    {
     "name": "stderr",
     "output_type": "stream",
     "text": [
      "100%|██████████| 344/344 [00:00<00:00, 6803.44it/s]\n",
      "100%|██████████| 344/344 [00:00<00:00, 6803.44it/s]\n"
     ]
    },
    {
     "name": "stdout",
     "output_type": "stream",
     "text": [
      "Cargando 343 imágenes de Banana 1...\n"
     ]
    },
    {
     "name": "stderr",
     "output_type": "stream",
     "text": [
      "100%|██████████| 343/343 [00:00<00:00, 7630.21it/s]\n",
      "100%|██████████| 343/343 [00:00<00:00, 7630.21it/s]\n"
     ]
    },
    {
     "name": "stdout",
     "output_type": "stream",
     "text": [
      "Cargando 344 imágenes de Cantaloupe 2...\n"
     ]
    },
    {
     "name": "stderr",
     "output_type": "stream",
     "text": [
      "100%|██████████| 344/344 [00:00<00:00, 7189.11it/s]\n",
      "100%|██████████| 344/344 [00:00<00:00, 7189.11it/s]\n"
     ]
    },
    {
     "name": "stdout",
     "output_type": "stream",
     "text": [
      "Cargando 343 imágenes de Cocos 1...\n"
     ]
    },
    {
     "name": "stderr",
     "output_type": "stream",
     "text": [
      "100%|██████████| 343/343 [00:00<00:00, 7509.92it/s]\n",
      "100%|██████████| 343/343 [00:00<00:00, 7509.92it/s]\n"
     ]
    },
    {
     "name": "stdout",
     "output_type": "stream",
     "text": [
      "Cargando 342 imágenes de Granadilla 1...\n"
     ]
    },
    {
     "name": "stderr",
     "output_type": "stream",
     "text": [
      "100%|██████████| 342/342 [00:00<00:00, 7027.08it/s]\n",
      "100%|██████████| 342/342 [00:00<00:00, 7027.08it/s]\n"
     ]
    },
    {
     "name": "stdout",
     "output_type": "stream",
     "text": [
      "Cargando 326 imágenes de Kiwi 1...\n"
     ]
    },
    {
     "name": "stderr",
     "output_type": "stream",
     "text": [
      "100%|██████████| 326/326 [00:00<00:00, 6704.86it/s]\n",
      "100%|██████████| 326/326 [00:00<00:00, 6704.86it/s]\n"
     ]
    },
    {
     "name": "stdout",
     "output_type": "stream",
     "text": [
      "Cargando 343 imágenes de Maracuja 1...\n"
     ]
    },
    {
     "name": "stderr",
     "output_type": "stream",
     "text": [
      "100%|██████████| 343/343 [00:00<00:00, 5707.60it/s]\n",
      "100%|██████████| 343/343 [00:00<00:00, 5707.60it/s]\n"
     ]
    },
    {
     "name": "stdout",
     "output_type": "stream",
     "text": [
      "Cargando 516 imágenes de Peach 2...\n"
     ]
    },
    {
     "name": "stderr",
     "output_type": "stream",
     "text": [
      "100%|██████████| 516/516 [00:00<00:00, 6574.32it/s]\n",
      "100%|██████████| 516/516 [00:00<00:00, 6574.32it/s]\n"
     ]
    },
    {
     "name": "stdout",
     "output_type": "stream",
     "text": [
      "Cargando 490 imágenes de Pear Forelle 1...\n"
     ]
    },
    {
     "name": "stderr",
     "output_type": "stream",
     "text": [
      "100%|██████████| 490/490 [00:00<00:00, 4728.54it/s]\n",
      "100%|██████████| 490/490 [00:00<00:00, 4728.54it/s]\n"
     ]
    },
    {
     "name": "stdout",
     "output_type": "stream",
     "text": [
      "Cargando 343 imágenes de Pineapple Mini 1...\n"
     ]
    },
    {
     "name": "stderr",
     "output_type": "stream",
     "text": [
      "100%|██████████| 343/343 [00:00<00:00, 5008.73it/s]\n",
      "\n"
     ]
    },
    {
     "name": "stdout",
     "output_type": "stream",
     "text": [
      "\n",
      "Cargando datos de prueba...\n",
      "\n",
      "Clases encontradas: ['Apple Red 1', 'Banana 1', 'Cantaloupe 2', 'Cocos 1', 'Granadilla 1', 'Kiwi 1', 'Maracuja 1', 'Peach 2', 'Pear Forelle 1', 'Pineapple Mini 1']\n",
      "Cargando 148 imágenes de Apple Red 1...\n"
     ]
    },
    {
     "name": "stderr",
     "output_type": "stream",
     "text": [
      "100%|██████████| 148/148 [00:00<00:00, 9400.42it/s]\n",
      "100%|██████████| 148/148 [00:00<00:00, 9400.42it/s]\n"
     ]
    },
    {
     "name": "stdout",
     "output_type": "stream",
     "text": [
      "Cargando 147 imágenes de Banana 1...\n"
     ]
    },
    {
     "name": "stderr",
     "output_type": "stream",
     "text": [
      "100%|██████████| 147/147 [00:00<00:00, 8995.40it/s]\n",
      "100%|██████████| 147/147 [00:00<00:00, 8995.40it/s]\n"
     ]
    },
    {
     "name": "stdout",
     "output_type": "stream",
     "text": [
      "Cargando 148 imágenes de Cantaloupe 2...\n"
     ]
    },
    {
     "name": "stderr",
     "output_type": "stream",
     "text": [
      "100%|██████████| 148/148 [00:00<00:00, 8418.87it/s]\n",
      "100%|██████████| 148/148 [00:00<00:00, 8418.87it/s]\n"
     ]
    },
    {
     "name": "stdout",
     "output_type": "stream",
     "text": [
      "Cargando 147 imágenes de Cocos 1...\n"
     ]
    },
    {
     "name": "stderr",
     "output_type": "stream",
     "text": [
      "100%|██████████| 147/147 [00:00<00:00, 9408.72it/s]\n",
      "100%|██████████| 147/147 [00:00<00:00, 9408.72it/s]\n"
     ]
    },
    {
     "name": "stdout",
     "output_type": "stream",
     "text": [
      "Cargando 147 imágenes de Granadilla 1...\n"
     ]
    },
    {
     "name": "stderr",
     "output_type": "stream",
     "text": [
      "100%|██████████| 147/147 [00:00<00:00, 8756.38it/s]\n",
      "100%|██████████| 147/147 [00:00<00:00, 8756.38it/s]\n"
     ]
    },
    {
     "name": "stdout",
     "output_type": "stream",
     "text": [
      "Cargando datos de entrenamiento...\n",
      "\n",
      "Clases encontradas: ['Apple Red 1', 'Banana 1', 'Cantaloupe 2', 'Cocos 1', 'Granadilla 1', 'Kiwi 1', 'Maracuja 1', 'Peach 2', 'Pear Forelle 1', 'Pineapple Mini 1']\n",
      "Cargando 344 imágenes de Apple Red 1...\n"
     ]
    },
    {
     "name": "stderr",
     "output_type": "stream",
     "text": [
      "100%|██████████| 344/344 [00:00<00:00, 6803.44it/s]\n",
      "100%|██████████| 344/344 [00:00<00:00, 6803.44it/s]\n"
     ]
    },
    {
     "name": "stdout",
     "output_type": "stream",
     "text": [
      "Cargando 343 imágenes de Banana 1...\n"
     ]
    },
    {
     "name": "stderr",
     "output_type": "stream",
     "text": [
      "100%|██████████| 343/343 [00:00<00:00, 7630.21it/s]\n",
      "100%|██████████| 343/343 [00:00<00:00, 7630.21it/s]\n"
     ]
    },
    {
     "name": "stdout",
     "output_type": "stream",
     "text": [
      "Cargando 344 imágenes de Cantaloupe 2...\n"
     ]
    },
    {
     "name": "stderr",
     "output_type": "stream",
     "text": [
      "100%|██████████| 344/344 [00:00<00:00, 7189.11it/s]\n",
      "100%|██████████| 344/344 [00:00<00:00, 7189.11it/s]\n"
     ]
    },
    {
     "name": "stdout",
     "output_type": "stream",
     "text": [
      "Cargando 343 imágenes de Cocos 1...\n"
     ]
    },
    {
     "name": "stderr",
     "output_type": "stream",
     "text": [
      "100%|██████████| 343/343 [00:00<00:00, 7509.92it/s]\n",
      "100%|██████████| 343/343 [00:00<00:00, 7509.92it/s]\n"
     ]
    },
    {
     "name": "stdout",
     "output_type": "stream",
     "text": [
      "Cargando 342 imágenes de Granadilla 1...\n"
     ]
    },
    {
     "name": "stderr",
     "output_type": "stream",
     "text": [
      "100%|██████████| 342/342 [00:00<00:00, 7027.08it/s]\n",
      "100%|██████████| 342/342 [00:00<00:00, 7027.08it/s]\n"
     ]
    },
    {
     "name": "stdout",
     "output_type": "stream",
     "text": [
      "Cargando 326 imágenes de Kiwi 1...\n"
     ]
    },
    {
     "name": "stderr",
     "output_type": "stream",
     "text": [
      "100%|██████████| 326/326 [00:00<00:00, 6704.86it/s]\n",
      "100%|██████████| 326/326 [00:00<00:00, 6704.86it/s]\n"
     ]
    },
    {
     "name": "stdout",
     "output_type": "stream",
     "text": [
      "Cargando 343 imágenes de Maracuja 1...\n"
     ]
    },
    {
     "name": "stderr",
     "output_type": "stream",
     "text": [
      "100%|██████████| 343/343 [00:00<00:00, 5707.60it/s]\n",
      "100%|██████████| 343/343 [00:00<00:00, 5707.60it/s]\n"
     ]
    },
    {
     "name": "stdout",
     "output_type": "stream",
     "text": [
      "Cargando 516 imágenes de Peach 2...\n"
     ]
    },
    {
     "name": "stderr",
     "output_type": "stream",
     "text": [
      "100%|██████████| 516/516 [00:00<00:00, 6574.32it/s]\n",
      "100%|██████████| 516/516 [00:00<00:00, 6574.32it/s]\n"
     ]
    },
    {
     "name": "stdout",
     "output_type": "stream",
     "text": [
      "Cargando 490 imágenes de Pear Forelle 1...\n"
     ]
    },
    {
     "name": "stderr",
     "output_type": "stream",
     "text": [
      "100%|██████████| 490/490 [00:00<00:00, 4728.54it/s]\n",
      "100%|██████████| 490/490 [00:00<00:00, 4728.54it/s]\n"
     ]
    },
    {
     "name": "stdout",
     "output_type": "stream",
     "text": [
      "Cargando 343 imágenes de Pineapple Mini 1...\n"
     ]
    },
    {
     "name": "stderr",
     "output_type": "stream",
     "text": [
      "100%|██████████| 343/343 [00:00<00:00, 5008.73it/s]\n",
      "\n"
     ]
    },
    {
     "name": "stdout",
     "output_type": "stream",
     "text": [
      "\n",
      "Cargando datos de prueba...\n",
      "\n",
      "Clases encontradas: ['Apple Red 1', 'Banana 1', 'Cantaloupe 2', 'Cocos 1', 'Granadilla 1', 'Kiwi 1', 'Maracuja 1', 'Peach 2', 'Pear Forelle 1', 'Pineapple Mini 1']\n",
      "Cargando 148 imágenes de Apple Red 1...\n"
     ]
    },
    {
     "name": "stderr",
     "output_type": "stream",
     "text": [
      "100%|██████████| 148/148 [00:00<00:00, 9400.42it/s]\n",
      "100%|██████████| 148/148 [00:00<00:00, 9400.42it/s]\n"
     ]
    },
    {
     "name": "stdout",
     "output_type": "stream",
     "text": [
      "Cargando 147 imágenes de Banana 1...\n"
     ]
    },
    {
     "name": "stderr",
     "output_type": "stream",
     "text": [
      "100%|██████████| 147/147 [00:00<00:00, 8995.40it/s]\n",
      "100%|██████████| 147/147 [00:00<00:00, 8995.40it/s]\n"
     ]
    },
    {
     "name": "stdout",
     "output_type": "stream",
     "text": [
      "Cargando 148 imágenes de Cantaloupe 2...\n"
     ]
    },
    {
     "name": "stderr",
     "output_type": "stream",
     "text": [
      "100%|██████████| 148/148 [00:00<00:00, 8418.87it/s]\n",
      "100%|██████████| 148/148 [00:00<00:00, 8418.87it/s]\n"
     ]
    },
    {
     "name": "stdout",
     "output_type": "stream",
     "text": [
      "Cargando 147 imágenes de Cocos 1...\n"
     ]
    },
    {
     "name": "stderr",
     "output_type": "stream",
     "text": [
      "100%|██████████| 147/147 [00:00<00:00, 9408.72it/s]\n",
      "100%|██████████| 147/147 [00:00<00:00, 9408.72it/s]\n"
     ]
    },
    {
     "name": "stdout",
     "output_type": "stream",
     "text": [
      "Cargando 147 imágenes de Granadilla 1...\n"
     ]
    },
    {
     "name": "stderr",
     "output_type": "stream",
     "text": [
      "100%|██████████| 147/147 [00:00<00:00, 8756.38it/s]\n",
      "100%|██████████| 147/147 [00:00<00:00, 8756.38it/s]\n"
     ]
    },
    {
     "name": "stdout",
     "output_type": "stream",
     "text": [
      "Cargando 140 imágenes de Kiwi 1...\n"
     ]
    },
    {
     "name": "stderr",
     "output_type": "stream",
     "text": [
      "100%|██████████| 140/140 [00:00<00:00, 8914.03it/s]\n",
      "100%|██████████| 140/140 [00:00<00:00, 8914.03it/s]\n"
     ]
    },
    {
     "name": "stdout",
     "output_type": "stream",
     "text": [
      "Cargando datos de entrenamiento...\n",
      "\n",
      "Clases encontradas: ['Apple Red 1', 'Banana 1', 'Cantaloupe 2', 'Cocos 1', 'Granadilla 1', 'Kiwi 1', 'Maracuja 1', 'Peach 2', 'Pear Forelle 1', 'Pineapple Mini 1']\n",
      "Cargando 344 imágenes de Apple Red 1...\n"
     ]
    },
    {
     "name": "stderr",
     "output_type": "stream",
     "text": [
      "100%|██████████| 344/344 [00:00<00:00, 6803.44it/s]\n",
      "100%|██████████| 344/344 [00:00<00:00, 6803.44it/s]\n"
     ]
    },
    {
     "name": "stdout",
     "output_type": "stream",
     "text": [
      "Cargando 343 imágenes de Banana 1...\n"
     ]
    },
    {
     "name": "stderr",
     "output_type": "stream",
     "text": [
      "100%|██████████| 343/343 [00:00<00:00, 7630.21it/s]\n",
      "100%|██████████| 343/343 [00:00<00:00, 7630.21it/s]\n"
     ]
    },
    {
     "name": "stdout",
     "output_type": "stream",
     "text": [
      "Cargando 344 imágenes de Cantaloupe 2...\n"
     ]
    },
    {
     "name": "stderr",
     "output_type": "stream",
     "text": [
      "100%|██████████| 344/344 [00:00<00:00, 7189.11it/s]\n",
      "100%|██████████| 344/344 [00:00<00:00, 7189.11it/s]\n"
     ]
    },
    {
     "name": "stdout",
     "output_type": "stream",
     "text": [
      "Cargando 343 imágenes de Cocos 1...\n"
     ]
    },
    {
     "name": "stderr",
     "output_type": "stream",
     "text": [
      "100%|██████████| 343/343 [00:00<00:00, 7509.92it/s]\n",
      "100%|██████████| 343/343 [00:00<00:00, 7509.92it/s]\n"
     ]
    },
    {
     "name": "stdout",
     "output_type": "stream",
     "text": [
      "Cargando 342 imágenes de Granadilla 1...\n"
     ]
    },
    {
     "name": "stderr",
     "output_type": "stream",
     "text": [
      "100%|██████████| 342/342 [00:00<00:00, 7027.08it/s]\n",
      "100%|██████████| 342/342 [00:00<00:00, 7027.08it/s]\n"
     ]
    },
    {
     "name": "stdout",
     "output_type": "stream",
     "text": [
      "Cargando 326 imágenes de Kiwi 1...\n"
     ]
    },
    {
     "name": "stderr",
     "output_type": "stream",
     "text": [
      "100%|██████████| 326/326 [00:00<00:00, 6704.86it/s]\n",
      "100%|██████████| 326/326 [00:00<00:00, 6704.86it/s]\n"
     ]
    },
    {
     "name": "stdout",
     "output_type": "stream",
     "text": [
      "Cargando 343 imágenes de Maracuja 1...\n"
     ]
    },
    {
     "name": "stderr",
     "output_type": "stream",
     "text": [
      "100%|██████████| 343/343 [00:00<00:00, 5707.60it/s]\n",
      "100%|██████████| 343/343 [00:00<00:00, 5707.60it/s]\n"
     ]
    },
    {
     "name": "stdout",
     "output_type": "stream",
     "text": [
      "Cargando 516 imágenes de Peach 2...\n"
     ]
    },
    {
     "name": "stderr",
     "output_type": "stream",
     "text": [
      "100%|██████████| 516/516 [00:00<00:00, 6574.32it/s]\n",
      "100%|██████████| 516/516 [00:00<00:00, 6574.32it/s]\n"
     ]
    },
    {
     "name": "stdout",
     "output_type": "stream",
     "text": [
      "Cargando 490 imágenes de Pear Forelle 1...\n"
     ]
    },
    {
     "name": "stderr",
     "output_type": "stream",
     "text": [
      "100%|██████████| 490/490 [00:00<00:00, 4728.54it/s]\n",
      "100%|██████████| 490/490 [00:00<00:00, 4728.54it/s]\n"
     ]
    },
    {
     "name": "stdout",
     "output_type": "stream",
     "text": [
      "Cargando 343 imágenes de Pineapple Mini 1...\n"
     ]
    },
    {
     "name": "stderr",
     "output_type": "stream",
     "text": [
      "100%|██████████| 343/343 [00:00<00:00, 5008.73it/s]\n",
      "\n"
     ]
    },
    {
     "name": "stdout",
     "output_type": "stream",
     "text": [
      "\n",
      "Cargando datos de prueba...\n",
      "\n",
      "Clases encontradas: ['Apple Red 1', 'Banana 1', 'Cantaloupe 2', 'Cocos 1', 'Granadilla 1', 'Kiwi 1', 'Maracuja 1', 'Peach 2', 'Pear Forelle 1', 'Pineapple Mini 1']\n",
      "Cargando 148 imágenes de Apple Red 1...\n"
     ]
    },
    {
     "name": "stderr",
     "output_type": "stream",
     "text": [
      "100%|██████████| 148/148 [00:00<00:00, 9400.42it/s]\n",
      "100%|██████████| 148/148 [00:00<00:00, 9400.42it/s]\n"
     ]
    },
    {
     "name": "stdout",
     "output_type": "stream",
     "text": [
      "Cargando 147 imágenes de Banana 1...\n"
     ]
    },
    {
     "name": "stderr",
     "output_type": "stream",
     "text": [
      "100%|██████████| 147/147 [00:00<00:00, 8995.40it/s]\n",
      "100%|██████████| 147/147 [00:00<00:00, 8995.40it/s]\n"
     ]
    },
    {
     "name": "stdout",
     "output_type": "stream",
     "text": [
      "Cargando 148 imágenes de Cantaloupe 2...\n"
     ]
    },
    {
     "name": "stderr",
     "output_type": "stream",
     "text": [
      "100%|██████████| 148/148 [00:00<00:00, 8418.87it/s]\n",
      "100%|██████████| 148/148 [00:00<00:00, 8418.87it/s]\n"
     ]
    },
    {
     "name": "stdout",
     "output_type": "stream",
     "text": [
      "Cargando 147 imágenes de Cocos 1...\n"
     ]
    },
    {
     "name": "stderr",
     "output_type": "stream",
     "text": [
      "100%|██████████| 147/147 [00:00<00:00, 9408.72it/s]\n",
      "100%|██████████| 147/147 [00:00<00:00, 9408.72it/s]\n"
     ]
    },
    {
     "name": "stdout",
     "output_type": "stream",
     "text": [
      "Cargando 147 imágenes de Granadilla 1...\n"
     ]
    },
    {
     "name": "stderr",
     "output_type": "stream",
     "text": [
      "100%|██████████| 147/147 [00:00<00:00, 8756.38it/s]\n",
      "100%|██████████| 147/147 [00:00<00:00, 8756.38it/s]\n"
     ]
    },
    {
     "name": "stdout",
     "output_type": "stream",
     "text": [
      "Cargando 140 imágenes de Kiwi 1...\n"
     ]
    },
    {
     "name": "stderr",
     "output_type": "stream",
     "text": [
      "100%|██████████| 140/140 [00:00<00:00, 8914.03it/s]\n",
      "100%|██████████| 140/140 [00:00<00:00, 8914.03it/s]\n"
     ]
    },
    {
     "name": "stdout",
     "output_type": "stream",
     "text": [
      "Cargando 147 imágenes de Maracuja 1...\n"
     ]
    },
    {
     "name": "stderr",
     "output_type": "stream",
     "text": [
      "100%|██████████| 147/147 [00:00<00:00, 7876.28it/s]\n",
      "100%|██████████| 147/147 [00:00<00:00, 7876.28it/s]\n"
     ]
    },
    {
     "name": "stdout",
     "output_type": "stream",
     "text": [
      "Cargando datos de entrenamiento...\n",
      "\n",
      "Clases encontradas: ['Apple Red 1', 'Banana 1', 'Cantaloupe 2', 'Cocos 1', 'Granadilla 1', 'Kiwi 1', 'Maracuja 1', 'Peach 2', 'Pear Forelle 1', 'Pineapple Mini 1']\n",
      "Cargando 344 imágenes de Apple Red 1...\n"
     ]
    },
    {
     "name": "stderr",
     "output_type": "stream",
     "text": [
      "100%|██████████| 344/344 [00:00<00:00, 6803.44it/s]\n",
      "100%|██████████| 344/344 [00:00<00:00, 6803.44it/s]\n"
     ]
    },
    {
     "name": "stdout",
     "output_type": "stream",
     "text": [
      "Cargando 343 imágenes de Banana 1...\n"
     ]
    },
    {
     "name": "stderr",
     "output_type": "stream",
     "text": [
      "100%|██████████| 343/343 [00:00<00:00, 7630.21it/s]\n",
      "100%|██████████| 343/343 [00:00<00:00, 7630.21it/s]\n"
     ]
    },
    {
     "name": "stdout",
     "output_type": "stream",
     "text": [
      "Cargando 344 imágenes de Cantaloupe 2...\n"
     ]
    },
    {
     "name": "stderr",
     "output_type": "stream",
     "text": [
      "100%|██████████| 344/344 [00:00<00:00, 7189.11it/s]\n",
      "100%|██████████| 344/344 [00:00<00:00, 7189.11it/s]\n"
     ]
    },
    {
     "name": "stdout",
     "output_type": "stream",
     "text": [
      "Cargando 343 imágenes de Cocos 1...\n"
     ]
    },
    {
     "name": "stderr",
     "output_type": "stream",
     "text": [
      "100%|██████████| 343/343 [00:00<00:00, 7509.92it/s]\n",
      "100%|██████████| 343/343 [00:00<00:00, 7509.92it/s]\n"
     ]
    },
    {
     "name": "stdout",
     "output_type": "stream",
     "text": [
      "Cargando 342 imágenes de Granadilla 1...\n"
     ]
    },
    {
     "name": "stderr",
     "output_type": "stream",
     "text": [
      "100%|██████████| 342/342 [00:00<00:00, 7027.08it/s]\n",
      "100%|██████████| 342/342 [00:00<00:00, 7027.08it/s]\n"
     ]
    },
    {
     "name": "stdout",
     "output_type": "stream",
     "text": [
      "Cargando 326 imágenes de Kiwi 1...\n"
     ]
    },
    {
     "name": "stderr",
     "output_type": "stream",
     "text": [
      "100%|██████████| 326/326 [00:00<00:00, 6704.86it/s]\n",
      "100%|██████████| 326/326 [00:00<00:00, 6704.86it/s]\n"
     ]
    },
    {
     "name": "stdout",
     "output_type": "stream",
     "text": [
      "Cargando 343 imágenes de Maracuja 1...\n"
     ]
    },
    {
     "name": "stderr",
     "output_type": "stream",
     "text": [
      "100%|██████████| 343/343 [00:00<00:00, 5707.60it/s]\n",
      "100%|██████████| 343/343 [00:00<00:00, 5707.60it/s]\n"
     ]
    },
    {
     "name": "stdout",
     "output_type": "stream",
     "text": [
      "Cargando 516 imágenes de Peach 2...\n"
     ]
    },
    {
     "name": "stderr",
     "output_type": "stream",
     "text": [
      "100%|██████████| 516/516 [00:00<00:00, 6574.32it/s]\n",
      "100%|██████████| 516/516 [00:00<00:00, 6574.32it/s]\n"
     ]
    },
    {
     "name": "stdout",
     "output_type": "stream",
     "text": [
      "Cargando 490 imágenes de Pear Forelle 1...\n"
     ]
    },
    {
     "name": "stderr",
     "output_type": "stream",
     "text": [
      "100%|██████████| 490/490 [00:00<00:00, 4728.54it/s]\n",
      "100%|██████████| 490/490 [00:00<00:00, 4728.54it/s]\n"
     ]
    },
    {
     "name": "stdout",
     "output_type": "stream",
     "text": [
      "Cargando 343 imágenes de Pineapple Mini 1...\n"
     ]
    },
    {
     "name": "stderr",
     "output_type": "stream",
     "text": [
      "100%|██████████| 343/343 [00:00<00:00, 5008.73it/s]\n",
      "\n"
     ]
    },
    {
     "name": "stdout",
     "output_type": "stream",
     "text": [
      "\n",
      "Cargando datos de prueba...\n",
      "\n",
      "Clases encontradas: ['Apple Red 1', 'Banana 1', 'Cantaloupe 2', 'Cocos 1', 'Granadilla 1', 'Kiwi 1', 'Maracuja 1', 'Peach 2', 'Pear Forelle 1', 'Pineapple Mini 1']\n",
      "Cargando 148 imágenes de Apple Red 1...\n"
     ]
    },
    {
     "name": "stderr",
     "output_type": "stream",
     "text": [
      "100%|██████████| 148/148 [00:00<00:00, 9400.42it/s]\n",
      "100%|██████████| 148/148 [00:00<00:00, 9400.42it/s]\n"
     ]
    },
    {
     "name": "stdout",
     "output_type": "stream",
     "text": [
      "Cargando 147 imágenes de Banana 1...\n"
     ]
    },
    {
     "name": "stderr",
     "output_type": "stream",
     "text": [
      "100%|██████████| 147/147 [00:00<00:00, 8995.40it/s]\n",
      "100%|██████████| 147/147 [00:00<00:00, 8995.40it/s]\n"
     ]
    },
    {
     "name": "stdout",
     "output_type": "stream",
     "text": [
      "Cargando 148 imágenes de Cantaloupe 2...\n"
     ]
    },
    {
     "name": "stderr",
     "output_type": "stream",
     "text": [
      "100%|██████████| 148/148 [00:00<00:00, 8418.87it/s]\n",
      "100%|██████████| 148/148 [00:00<00:00, 8418.87it/s]\n"
     ]
    },
    {
     "name": "stdout",
     "output_type": "stream",
     "text": [
      "Cargando 147 imágenes de Cocos 1...\n"
     ]
    },
    {
     "name": "stderr",
     "output_type": "stream",
     "text": [
      "100%|██████████| 147/147 [00:00<00:00, 9408.72it/s]\n",
      "100%|██████████| 147/147 [00:00<00:00, 9408.72it/s]\n"
     ]
    },
    {
     "name": "stdout",
     "output_type": "stream",
     "text": [
      "Cargando 147 imágenes de Granadilla 1...\n"
     ]
    },
    {
     "name": "stderr",
     "output_type": "stream",
     "text": [
      "100%|██████████| 147/147 [00:00<00:00, 8756.38it/s]\n",
      "100%|██████████| 147/147 [00:00<00:00, 8756.38it/s]\n"
     ]
    },
    {
     "name": "stdout",
     "output_type": "stream",
     "text": [
      "Cargando 140 imágenes de Kiwi 1...\n"
     ]
    },
    {
     "name": "stderr",
     "output_type": "stream",
     "text": [
      "100%|██████████| 140/140 [00:00<00:00, 8914.03it/s]\n",
      "100%|██████████| 140/140 [00:00<00:00, 8914.03it/s]\n"
     ]
    },
    {
     "name": "stdout",
     "output_type": "stream",
     "text": [
      "Cargando 147 imágenes de Maracuja 1...\n"
     ]
    },
    {
     "name": "stderr",
     "output_type": "stream",
     "text": [
      "100%|██████████| 147/147 [00:00<00:00, 7876.28it/s]\n",
      "100%|██████████| 147/147 [00:00<00:00, 7876.28it/s]\n"
     ]
    },
    {
     "name": "stdout",
     "output_type": "stream",
     "text": [
      "Cargando 222 imágenes de Peach 2...\n"
     ]
    },
    {
     "name": "stderr",
     "output_type": "stream",
     "text": [
      "100%|██████████| 222/222 [00:00<00:00, 9856.00it/s]\n",
      "100%|██████████| 222/222 [00:00<00:00, 9856.00it/s]\n"
     ]
    },
    {
     "name": "stdout",
     "output_type": "stream",
     "text": [
      "Cargando datos de entrenamiento...\n",
      "\n",
      "Clases encontradas: ['Apple Red 1', 'Banana 1', 'Cantaloupe 2', 'Cocos 1', 'Granadilla 1', 'Kiwi 1', 'Maracuja 1', 'Peach 2', 'Pear Forelle 1', 'Pineapple Mini 1']\n",
      "Cargando 344 imágenes de Apple Red 1...\n"
     ]
    },
    {
     "name": "stderr",
     "output_type": "stream",
     "text": [
      "100%|██████████| 344/344 [00:00<00:00, 6803.44it/s]\n",
      "100%|██████████| 344/344 [00:00<00:00, 6803.44it/s]\n"
     ]
    },
    {
     "name": "stdout",
     "output_type": "stream",
     "text": [
      "Cargando 343 imágenes de Banana 1...\n"
     ]
    },
    {
     "name": "stderr",
     "output_type": "stream",
     "text": [
      "100%|██████████| 343/343 [00:00<00:00, 7630.21it/s]\n",
      "100%|██████████| 343/343 [00:00<00:00, 7630.21it/s]\n"
     ]
    },
    {
     "name": "stdout",
     "output_type": "stream",
     "text": [
      "Cargando 344 imágenes de Cantaloupe 2...\n"
     ]
    },
    {
     "name": "stderr",
     "output_type": "stream",
     "text": [
      "100%|██████████| 344/344 [00:00<00:00, 7189.11it/s]\n",
      "100%|██████████| 344/344 [00:00<00:00, 7189.11it/s]\n"
     ]
    },
    {
     "name": "stdout",
     "output_type": "stream",
     "text": [
      "Cargando 343 imágenes de Cocos 1...\n"
     ]
    },
    {
     "name": "stderr",
     "output_type": "stream",
     "text": [
      "100%|██████████| 343/343 [00:00<00:00, 7509.92it/s]\n",
      "100%|██████████| 343/343 [00:00<00:00, 7509.92it/s]\n"
     ]
    },
    {
     "name": "stdout",
     "output_type": "stream",
     "text": [
      "Cargando 342 imágenes de Granadilla 1...\n"
     ]
    },
    {
     "name": "stderr",
     "output_type": "stream",
     "text": [
      "100%|██████████| 342/342 [00:00<00:00, 7027.08it/s]\n",
      "100%|██████████| 342/342 [00:00<00:00, 7027.08it/s]\n"
     ]
    },
    {
     "name": "stdout",
     "output_type": "stream",
     "text": [
      "Cargando 326 imágenes de Kiwi 1...\n"
     ]
    },
    {
     "name": "stderr",
     "output_type": "stream",
     "text": [
      "100%|██████████| 326/326 [00:00<00:00, 6704.86it/s]\n",
      "100%|██████████| 326/326 [00:00<00:00, 6704.86it/s]\n"
     ]
    },
    {
     "name": "stdout",
     "output_type": "stream",
     "text": [
      "Cargando 343 imágenes de Maracuja 1...\n"
     ]
    },
    {
     "name": "stderr",
     "output_type": "stream",
     "text": [
      "100%|██████████| 343/343 [00:00<00:00, 5707.60it/s]\n",
      "100%|██████████| 343/343 [00:00<00:00, 5707.60it/s]\n"
     ]
    },
    {
     "name": "stdout",
     "output_type": "stream",
     "text": [
      "Cargando 516 imágenes de Peach 2...\n"
     ]
    },
    {
     "name": "stderr",
     "output_type": "stream",
     "text": [
      "100%|██████████| 516/516 [00:00<00:00, 6574.32it/s]\n",
      "100%|██████████| 516/516 [00:00<00:00, 6574.32it/s]\n"
     ]
    },
    {
     "name": "stdout",
     "output_type": "stream",
     "text": [
      "Cargando 490 imágenes de Pear Forelle 1...\n"
     ]
    },
    {
     "name": "stderr",
     "output_type": "stream",
     "text": [
      "100%|██████████| 490/490 [00:00<00:00, 4728.54it/s]\n",
      "100%|██████████| 490/490 [00:00<00:00, 4728.54it/s]\n"
     ]
    },
    {
     "name": "stdout",
     "output_type": "stream",
     "text": [
      "Cargando 343 imágenes de Pineapple Mini 1...\n"
     ]
    },
    {
     "name": "stderr",
     "output_type": "stream",
     "text": [
      "100%|██████████| 343/343 [00:00<00:00, 5008.73it/s]\n",
      "\n"
     ]
    },
    {
     "name": "stdout",
     "output_type": "stream",
     "text": [
      "\n",
      "Cargando datos de prueba...\n",
      "\n",
      "Clases encontradas: ['Apple Red 1', 'Banana 1', 'Cantaloupe 2', 'Cocos 1', 'Granadilla 1', 'Kiwi 1', 'Maracuja 1', 'Peach 2', 'Pear Forelle 1', 'Pineapple Mini 1']\n",
      "Cargando 148 imágenes de Apple Red 1...\n"
     ]
    },
    {
     "name": "stderr",
     "output_type": "stream",
     "text": [
      "100%|██████████| 148/148 [00:00<00:00, 9400.42it/s]\n",
      "100%|██████████| 148/148 [00:00<00:00, 9400.42it/s]\n"
     ]
    },
    {
     "name": "stdout",
     "output_type": "stream",
     "text": [
      "Cargando 147 imágenes de Banana 1...\n"
     ]
    },
    {
     "name": "stderr",
     "output_type": "stream",
     "text": [
      "100%|██████████| 147/147 [00:00<00:00, 8995.40it/s]\n",
      "100%|██████████| 147/147 [00:00<00:00, 8995.40it/s]\n"
     ]
    },
    {
     "name": "stdout",
     "output_type": "stream",
     "text": [
      "Cargando 148 imágenes de Cantaloupe 2...\n"
     ]
    },
    {
     "name": "stderr",
     "output_type": "stream",
     "text": [
      "100%|██████████| 148/148 [00:00<00:00, 8418.87it/s]\n",
      "100%|██████████| 148/148 [00:00<00:00, 8418.87it/s]\n"
     ]
    },
    {
     "name": "stdout",
     "output_type": "stream",
     "text": [
      "Cargando 147 imágenes de Cocos 1...\n"
     ]
    },
    {
     "name": "stderr",
     "output_type": "stream",
     "text": [
      "100%|██████████| 147/147 [00:00<00:00, 9408.72it/s]\n",
      "100%|██████████| 147/147 [00:00<00:00, 9408.72it/s]\n"
     ]
    },
    {
     "name": "stdout",
     "output_type": "stream",
     "text": [
      "Cargando 147 imágenes de Granadilla 1...\n"
     ]
    },
    {
     "name": "stderr",
     "output_type": "stream",
     "text": [
      "100%|██████████| 147/147 [00:00<00:00, 8756.38it/s]\n",
      "100%|██████████| 147/147 [00:00<00:00, 8756.38it/s]\n"
     ]
    },
    {
     "name": "stdout",
     "output_type": "stream",
     "text": [
      "Cargando 140 imágenes de Kiwi 1...\n"
     ]
    },
    {
     "name": "stderr",
     "output_type": "stream",
     "text": [
      "100%|██████████| 140/140 [00:00<00:00, 8914.03it/s]\n",
      "100%|██████████| 140/140 [00:00<00:00, 8914.03it/s]\n"
     ]
    },
    {
     "name": "stdout",
     "output_type": "stream",
     "text": [
      "Cargando 147 imágenes de Maracuja 1...\n"
     ]
    },
    {
     "name": "stderr",
     "output_type": "stream",
     "text": [
      "100%|██████████| 147/147 [00:00<00:00, 7876.28it/s]\n",
      "100%|██████████| 147/147 [00:00<00:00, 7876.28it/s]\n"
     ]
    },
    {
     "name": "stdout",
     "output_type": "stream",
     "text": [
      "Cargando 222 imágenes de Peach 2...\n"
     ]
    },
    {
     "name": "stderr",
     "output_type": "stream",
     "text": [
      "100%|██████████| 222/222 [00:00<00:00, 9856.00it/s]\n",
      "100%|██████████| 222/222 [00:00<00:00, 9856.00it/s]\n"
     ]
    },
    {
     "name": "stdout",
     "output_type": "stream",
     "text": [
      "Cargando 211 imágenes de Pear Forelle 1...\n"
     ]
    },
    {
     "name": "stderr",
     "output_type": "stream",
     "text": [
      "100%|██████████| 211/211 [00:00<00:00, 9015.14it/s]\n",
      "100%|██████████| 211/211 [00:00<00:00, 9015.14it/s]\n"
     ]
    },
    {
     "name": "stdout",
     "output_type": "stream",
     "text": [
      "Cargando datos de entrenamiento...\n",
      "\n",
      "Clases encontradas: ['Apple Red 1', 'Banana 1', 'Cantaloupe 2', 'Cocos 1', 'Granadilla 1', 'Kiwi 1', 'Maracuja 1', 'Peach 2', 'Pear Forelle 1', 'Pineapple Mini 1']\n",
      "Cargando 344 imágenes de Apple Red 1...\n"
     ]
    },
    {
     "name": "stderr",
     "output_type": "stream",
     "text": [
      "100%|██████████| 344/344 [00:00<00:00, 6803.44it/s]\n",
      "100%|██████████| 344/344 [00:00<00:00, 6803.44it/s]\n"
     ]
    },
    {
     "name": "stdout",
     "output_type": "stream",
     "text": [
      "Cargando 343 imágenes de Banana 1...\n"
     ]
    },
    {
     "name": "stderr",
     "output_type": "stream",
     "text": [
      "100%|██████████| 343/343 [00:00<00:00, 7630.21it/s]\n",
      "100%|██████████| 343/343 [00:00<00:00, 7630.21it/s]\n"
     ]
    },
    {
     "name": "stdout",
     "output_type": "stream",
     "text": [
      "Cargando 344 imágenes de Cantaloupe 2...\n"
     ]
    },
    {
     "name": "stderr",
     "output_type": "stream",
     "text": [
      "100%|██████████| 344/344 [00:00<00:00, 7189.11it/s]\n",
      "100%|██████████| 344/344 [00:00<00:00, 7189.11it/s]\n"
     ]
    },
    {
     "name": "stdout",
     "output_type": "stream",
     "text": [
      "Cargando 343 imágenes de Cocos 1...\n"
     ]
    },
    {
     "name": "stderr",
     "output_type": "stream",
     "text": [
      "100%|██████████| 343/343 [00:00<00:00, 7509.92it/s]\n",
      "100%|██████████| 343/343 [00:00<00:00, 7509.92it/s]\n"
     ]
    },
    {
     "name": "stdout",
     "output_type": "stream",
     "text": [
      "Cargando 342 imágenes de Granadilla 1...\n"
     ]
    },
    {
     "name": "stderr",
     "output_type": "stream",
     "text": [
      "100%|██████████| 342/342 [00:00<00:00, 7027.08it/s]\n",
      "100%|██████████| 342/342 [00:00<00:00, 7027.08it/s]\n"
     ]
    },
    {
     "name": "stdout",
     "output_type": "stream",
     "text": [
      "Cargando 326 imágenes de Kiwi 1...\n"
     ]
    },
    {
     "name": "stderr",
     "output_type": "stream",
     "text": [
      "100%|██████████| 326/326 [00:00<00:00, 6704.86it/s]\n",
      "100%|██████████| 326/326 [00:00<00:00, 6704.86it/s]\n"
     ]
    },
    {
     "name": "stdout",
     "output_type": "stream",
     "text": [
      "Cargando 343 imágenes de Maracuja 1...\n"
     ]
    },
    {
     "name": "stderr",
     "output_type": "stream",
     "text": [
      "100%|██████████| 343/343 [00:00<00:00, 5707.60it/s]\n",
      "100%|██████████| 343/343 [00:00<00:00, 5707.60it/s]\n"
     ]
    },
    {
     "name": "stdout",
     "output_type": "stream",
     "text": [
      "Cargando 516 imágenes de Peach 2...\n"
     ]
    },
    {
     "name": "stderr",
     "output_type": "stream",
     "text": [
      "100%|██████████| 516/516 [00:00<00:00, 6574.32it/s]\n",
      "100%|██████████| 516/516 [00:00<00:00, 6574.32it/s]\n"
     ]
    },
    {
     "name": "stdout",
     "output_type": "stream",
     "text": [
      "Cargando 490 imágenes de Pear Forelle 1...\n"
     ]
    },
    {
     "name": "stderr",
     "output_type": "stream",
     "text": [
      "100%|██████████| 490/490 [00:00<00:00, 4728.54it/s]\n",
      "100%|██████████| 490/490 [00:00<00:00, 4728.54it/s]\n"
     ]
    },
    {
     "name": "stdout",
     "output_type": "stream",
     "text": [
      "Cargando 343 imágenes de Pineapple Mini 1...\n"
     ]
    },
    {
     "name": "stderr",
     "output_type": "stream",
     "text": [
      "100%|██████████| 343/343 [00:00<00:00, 5008.73it/s]\n",
      "\n"
     ]
    },
    {
     "name": "stdout",
     "output_type": "stream",
     "text": [
      "\n",
      "Cargando datos de prueba...\n",
      "\n",
      "Clases encontradas: ['Apple Red 1', 'Banana 1', 'Cantaloupe 2', 'Cocos 1', 'Granadilla 1', 'Kiwi 1', 'Maracuja 1', 'Peach 2', 'Pear Forelle 1', 'Pineapple Mini 1']\n",
      "Cargando 148 imágenes de Apple Red 1...\n"
     ]
    },
    {
     "name": "stderr",
     "output_type": "stream",
     "text": [
      "100%|██████████| 148/148 [00:00<00:00, 9400.42it/s]\n",
      "100%|██████████| 148/148 [00:00<00:00, 9400.42it/s]\n"
     ]
    },
    {
     "name": "stdout",
     "output_type": "stream",
     "text": [
      "Cargando 147 imágenes de Banana 1...\n"
     ]
    },
    {
     "name": "stderr",
     "output_type": "stream",
     "text": [
      "100%|██████████| 147/147 [00:00<00:00, 8995.40it/s]\n",
      "100%|██████████| 147/147 [00:00<00:00, 8995.40it/s]\n"
     ]
    },
    {
     "name": "stdout",
     "output_type": "stream",
     "text": [
      "Cargando 148 imágenes de Cantaloupe 2...\n"
     ]
    },
    {
     "name": "stderr",
     "output_type": "stream",
     "text": [
      "100%|██████████| 148/148 [00:00<00:00, 8418.87it/s]\n",
      "100%|██████████| 148/148 [00:00<00:00, 8418.87it/s]\n"
     ]
    },
    {
     "name": "stdout",
     "output_type": "stream",
     "text": [
      "Cargando 147 imágenes de Cocos 1...\n"
     ]
    },
    {
     "name": "stderr",
     "output_type": "stream",
     "text": [
      "100%|██████████| 147/147 [00:00<00:00, 9408.72it/s]\n",
      "100%|██████████| 147/147 [00:00<00:00, 9408.72it/s]\n"
     ]
    },
    {
     "name": "stdout",
     "output_type": "stream",
     "text": [
      "Cargando 147 imágenes de Granadilla 1...\n"
     ]
    },
    {
     "name": "stderr",
     "output_type": "stream",
     "text": [
      "100%|██████████| 147/147 [00:00<00:00, 8756.38it/s]\n",
      "100%|██████████| 147/147 [00:00<00:00, 8756.38it/s]\n"
     ]
    },
    {
     "name": "stdout",
     "output_type": "stream",
     "text": [
      "Cargando 140 imágenes de Kiwi 1...\n"
     ]
    },
    {
     "name": "stderr",
     "output_type": "stream",
     "text": [
      "100%|██████████| 140/140 [00:00<00:00, 8914.03it/s]\n",
      "100%|██████████| 140/140 [00:00<00:00, 8914.03it/s]\n"
     ]
    },
    {
     "name": "stdout",
     "output_type": "stream",
     "text": [
      "Cargando 147 imágenes de Maracuja 1...\n"
     ]
    },
    {
     "name": "stderr",
     "output_type": "stream",
     "text": [
      "100%|██████████| 147/147 [00:00<00:00, 7876.28it/s]\n",
      "100%|██████████| 147/147 [00:00<00:00, 7876.28it/s]\n"
     ]
    },
    {
     "name": "stdout",
     "output_type": "stream",
     "text": [
      "Cargando 222 imágenes de Peach 2...\n"
     ]
    },
    {
     "name": "stderr",
     "output_type": "stream",
     "text": [
      "100%|██████████| 222/222 [00:00<00:00, 9856.00it/s]\n",
      "100%|██████████| 222/222 [00:00<00:00, 9856.00it/s]\n"
     ]
    },
    {
     "name": "stdout",
     "output_type": "stream",
     "text": [
      "Cargando 211 imágenes de Pear Forelle 1...\n"
     ]
    },
    {
     "name": "stderr",
     "output_type": "stream",
     "text": [
      "100%|██████████| 211/211 [00:00<00:00, 9015.14it/s]\n",
      "100%|██████████| 211/211 [00:00<00:00, 9015.14it/s]\n"
     ]
    },
    {
     "name": "stdout",
     "output_type": "stream",
     "text": [
      "Cargando 148 imágenes de Pineapple Mini 1...\n"
     ]
    },
    {
     "name": "stderr",
     "output_type": "stream",
     "text": [
      "100%|██████████| 148/148 [00:00<00:00, 8590.96it/s]"
     ]
    },
    {
     "name": "stdout",
     "output_type": "stream",
     "text": [
      "Cargando datos de entrenamiento...\n",
      "\n",
      "Clases encontradas: ['Apple Red 1', 'Banana 1', 'Cantaloupe 2', 'Cocos 1', 'Granadilla 1', 'Kiwi 1', 'Maracuja 1', 'Peach 2', 'Pear Forelle 1', 'Pineapple Mini 1']\n",
      "Cargando 344 imágenes de Apple Red 1...\n"
     ]
    },
    {
     "name": "stderr",
     "output_type": "stream",
     "text": [
      "100%|██████████| 344/344 [00:00<00:00, 6803.44it/s]\n",
      "100%|██████████| 344/344 [00:00<00:00, 6803.44it/s]\n"
     ]
    },
    {
     "name": "stdout",
     "output_type": "stream",
     "text": [
      "Cargando 343 imágenes de Banana 1...\n"
     ]
    },
    {
     "name": "stderr",
     "output_type": "stream",
     "text": [
      "100%|██████████| 343/343 [00:00<00:00, 7630.21it/s]\n",
      "100%|██████████| 343/343 [00:00<00:00, 7630.21it/s]\n"
     ]
    },
    {
     "name": "stdout",
     "output_type": "stream",
     "text": [
      "Cargando 344 imágenes de Cantaloupe 2...\n"
     ]
    },
    {
     "name": "stderr",
     "output_type": "stream",
     "text": [
      "100%|██████████| 344/344 [00:00<00:00, 7189.11it/s]\n",
      "100%|██████████| 344/344 [00:00<00:00, 7189.11it/s]\n"
     ]
    },
    {
     "name": "stdout",
     "output_type": "stream",
     "text": [
      "Cargando 343 imágenes de Cocos 1...\n"
     ]
    },
    {
     "name": "stderr",
     "output_type": "stream",
     "text": [
      "100%|██████████| 343/343 [00:00<00:00, 7509.92it/s]\n",
      "100%|██████████| 343/343 [00:00<00:00, 7509.92it/s]\n"
     ]
    },
    {
     "name": "stdout",
     "output_type": "stream",
     "text": [
      "Cargando 342 imágenes de Granadilla 1...\n"
     ]
    },
    {
     "name": "stderr",
     "output_type": "stream",
     "text": [
      "100%|██████████| 342/342 [00:00<00:00, 7027.08it/s]\n",
      "100%|██████████| 342/342 [00:00<00:00, 7027.08it/s]\n"
     ]
    },
    {
     "name": "stdout",
     "output_type": "stream",
     "text": [
      "Cargando 326 imágenes de Kiwi 1...\n"
     ]
    },
    {
     "name": "stderr",
     "output_type": "stream",
     "text": [
      "100%|██████████| 326/326 [00:00<00:00, 6704.86it/s]\n",
      "100%|██████████| 326/326 [00:00<00:00, 6704.86it/s]\n"
     ]
    },
    {
     "name": "stdout",
     "output_type": "stream",
     "text": [
      "Cargando 343 imágenes de Maracuja 1...\n"
     ]
    },
    {
     "name": "stderr",
     "output_type": "stream",
     "text": [
      "100%|██████████| 343/343 [00:00<00:00, 5707.60it/s]\n",
      "100%|██████████| 343/343 [00:00<00:00, 5707.60it/s]\n"
     ]
    },
    {
     "name": "stdout",
     "output_type": "stream",
     "text": [
      "Cargando 516 imágenes de Peach 2...\n"
     ]
    },
    {
     "name": "stderr",
     "output_type": "stream",
     "text": [
      "100%|██████████| 516/516 [00:00<00:00, 6574.32it/s]\n",
      "100%|██████████| 516/516 [00:00<00:00, 6574.32it/s]\n"
     ]
    },
    {
     "name": "stdout",
     "output_type": "stream",
     "text": [
      "Cargando 490 imágenes de Pear Forelle 1...\n"
     ]
    },
    {
     "name": "stderr",
     "output_type": "stream",
     "text": [
      "100%|██████████| 490/490 [00:00<00:00, 4728.54it/s]\n",
      "100%|██████████| 490/490 [00:00<00:00, 4728.54it/s]\n"
     ]
    },
    {
     "name": "stdout",
     "output_type": "stream",
     "text": [
      "Cargando 343 imágenes de Pineapple Mini 1...\n"
     ]
    },
    {
     "name": "stderr",
     "output_type": "stream",
     "text": [
      "100%|██████████| 343/343 [00:00<00:00, 5008.73it/s]\n",
      "\n"
     ]
    },
    {
     "name": "stdout",
     "output_type": "stream",
     "text": [
      "\n",
      "Cargando datos de prueba...\n",
      "\n",
      "Clases encontradas: ['Apple Red 1', 'Banana 1', 'Cantaloupe 2', 'Cocos 1', 'Granadilla 1', 'Kiwi 1', 'Maracuja 1', 'Peach 2', 'Pear Forelle 1', 'Pineapple Mini 1']\n",
      "Cargando 148 imágenes de Apple Red 1...\n"
     ]
    },
    {
     "name": "stderr",
     "output_type": "stream",
     "text": [
      "100%|██████████| 148/148 [00:00<00:00, 9400.42it/s]\n",
      "100%|██████████| 148/148 [00:00<00:00, 9400.42it/s]\n"
     ]
    },
    {
     "name": "stdout",
     "output_type": "stream",
     "text": [
      "Cargando 147 imágenes de Banana 1...\n"
     ]
    },
    {
     "name": "stderr",
     "output_type": "stream",
     "text": [
      "100%|██████████| 147/147 [00:00<00:00, 8995.40it/s]\n",
      "100%|██████████| 147/147 [00:00<00:00, 8995.40it/s]\n"
     ]
    },
    {
     "name": "stdout",
     "output_type": "stream",
     "text": [
      "Cargando 148 imágenes de Cantaloupe 2...\n"
     ]
    },
    {
     "name": "stderr",
     "output_type": "stream",
     "text": [
      "100%|██████████| 148/148 [00:00<00:00, 8418.87it/s]\n",
      "100%|██████████| 148/148 [00:00<00:00, 8418.87it/s]\n"
     ]
    },
    {
     "name": "stdout",
     "output_type": "stream",
     "text": [
      "Cargando 147 imágenes de Cocos 1...\n"
     ]
    },
    {
     "name": "stderr",
     "output_type": "stream",
     "text": [
      "100%|██████████| 147/147 [00:00<00:00, 9408.72it/s]\n",
      "100%|██████████| 147/147 [00:00<00:00, 9408.72it/s]\n"
     ]
    },
    {
     "name": "stdout",
     "output_type": "stream",
     "text": [
      "Cargando 147 imágenes de Granadilla 1...\n"
     ]
    },
    {
     "name": "stderr",
     "output_type": "stream",
     "text": [
      "100%|██████████| 147/147 [00:00<00:00, 8756.38it/s]\n",
      "100%|██████████| 147/147 [00:00<00:00, 8756.38it/s]\n"
     ]
    },
    {
     "name": "stdout",
     "output_type": "stream",
     "text": [
      "Cargando 140 imágenes de Kiwi 1...\n"
     ]
    },
    {
     "name": "stderr",
     "output_type": "stream",
     "text": [
      "100%|██████████| 140/140 [00:00<00:00, 8914.03it/s]\n",
      "100%|██████████| 140/140 [00:00<00:00, 8914.03it/s]\n"
     ]
    },
    {
     "name": "stdout",
     "output_type": "stream",
     "text": [
      "Cargando 147 imágenes de Maracuja 1...\n"
     ]
    },
    {
     "name": "stderr",
     "output_type": "stream",
     "text": [
      "100%|██████████| 147/147 [00:00<00:00, 7876.28it/s]\n",
      "100%|██████████| 147/147 [00:00<00:00, 7876.28it/s]\n"
     ]
    },
    {
     "name": "stdout",
     "output_type": "stream",
     "text": [
      "Cargando 222 imágenes de Peach 2...\n"
     ]
    },
    {
     "name": "stderr",
     "output_type": "stream",
     "text": [
      "100%|██████████| 222/222 [00:00<00:00, 9856.00it/s]\n",
      "100%|██████████| 222/222 [00:00<00:00, 9856.00it/s]\n"
     ]
    },
    {
     "name": "stdout",
     "output_type": "stream",
     "text": [
      "Cargando 211 imágenes de Pear Forelle 1...\n"
     ]
    },
    {
     "name": "stderr",
     "output_type": "stream",
     "text": [
      "100%|██████████| 211/211 [00:00<00:00, 9015.14it/s]\n",
      "100%|██████████| 211/211 [00:00<00:00, 9015.14it/s]\n"
     ]
    },
    {
     "name": "stdout",
     "output_type": "stream",
     "text": [
      "Cargando 148 imágenes de Pineapple Mini 1...\n"
     ]
    },
    {
     "name": "stderr",
     "output_type": "stream",
     "text": [
      "100%|██████████| 148/148 [00:00<00:00, 8590.96it/s]"
     ]
    },
    {
     "name": "stdout",
     "output_type": "stream",
     "text": [
      "\n",
      "Dimensiones de los datos:\n",
      "X_train: (3734, 8126)\n",
      "X_test: (1605, 8126)\n"
     ]
    },
    {
     "name": "stderr",
     "output_type": "stream",
     "text": [
      "\n"
     ]
    }
   ],
   "source": [
    "def cargar_caracteristicas(split):\n",
    "    features = []\n",
    "    labels = []\n",
    "    \n",
    "    # Ruta del conjunto (train o test)\n",
    "    split_path = os.path.join(HOG_LBP_DIR, split)\n",
    "    \n",
    "    # Obtener lista de clases\n",
    "    clases = sorted([d for d in os.listdir(split_path) \n",
    "                    if os.path.isdir(os.path.join(split_path, d))])\n",
    "    \n",
    "    print(f\"\\nClases encontradas: {clases}\")\n",
    "    \n",
    "    for clase in clases:\n",
    "        clase_path = os.path.join(split_path, clase)\n",
    "        archivos = [f for f in os.listdir(clase_path) if f.endswith('_hog_lbp.npy')]\n",
    "        \n",
    "        print(f\"Cargando {len(archivos)} imágenes de {clase}...\")\n",
    "        \n",
    "        for archivo in tqdm(archivos):\n",
    "            # Cargar características\n",
    "            feature_path = os.path.join(clase_path, archivo)\n",
    "            feature = np.load(feature_path)\n",
    "            \n",
    "            features.append(feature)\n",
    "            labels.append(clase)\n",
    "    \n",
    "    return np.array(features), np.array(labels)\n",
    "\n",
    "# Cargar datos de entrenamiento y prueba\n",
    "print(\"Cargando datos de entrenamiento...\")\n",
    "X_train, y_train = cargar_caracteristicas('train')\n",
    "\n",
    "print(\"\\nCargando datos de prueba...\")\n",
    "X_test, y_test = cargar_caracteristicas('test')\n",
    "\n",
    "print(f\"\\nDimensiones de los datos:\")\n",
    "print(f\"X_train: {X_train.shape}\")\n",
    "print(f\"X_test: {X_test.shape}\")"
   ]
  },
  {
   "cell_type": "code",
   "execution_count": 21,
   "id": "1bbbb1a9",
   "metadata": {},
   "outputs": [
    {
     "name": "stdout",
     "output_type": "stream",
     "text": [
      "Evaluando diferentes valores de k...\n",
      "k=3: 1.0000\n",
      "k=3: 1.0000\n",
      "k=5: 1.0000\n",
      "k=5: 1.0000\n",
      "k=7: 0.9988\n",
      "k=7: 0.9988\n",
      "k=9: 0.9950\n",
      "k=9: 0.9950\n",
      "k=11: 0.9875\n",
      "k=11: 0.9875\n"
     ]
    },
    {
     "name": "stdout",
     "output_type": "stream",
     "text": [
      "Evaluando diferentes valores de k...\n",
      "k=3: 1.0000\n",
      "k=3: 1.0000\n",
      "k=5: 1.0000\n",
      "k=5: 1.0000\n",
      "k=7: 0.9988\n",
      "k=7: 0.9988\n",
      "k=9: 0.9950\n",
      "k=9: 0.9950\n",
      "k=11: 0.9875\n",
      "k=11: 0.9875\n"
     ]
    },
    {
     "data": {
      "image/png": "[encoded data removed]",
      "text/plain": [
       "<Figure size 1000x600 with 1 Axes>"
      ]
     },
     "metadata": {},
     "output_type": "display_data"
    },
    {
     "name": "stdout",
     "output_type": "stream",
     "text": [
      "Evaluando diferentes valores de k...\n",
      "k=3: 1.0000\n",
      "k=3: 1.0000\n",
      "k=5: 1.0000\n",
      "k=5: 1.0000\n",
      "k=7: 0.9988\n",
      "k=7: 0.9988\n",
      "k=9: 0.9950\n",
      "k=9: 0.9950\n",
      "k=11: 0.9875\n",
      "k=11: 0.9875\n"
     ]
    },
    {
     "data": {
      "image/png": "[encoded data removed]",
      "text/plain": [
       "<Figure size 1000x600 with 1 Axes>"
      ]
     },
     "metadata": {},
     "output_type": "display_data"
    },
    {
     "name": "stdout",
     "output_type": "stream",
     "text": [
      "\n",
      "Mejor valor de k: 3\n"
     ]
    },
    {
     "name": "stdout",
     "output_type": "stream",
     "text": [
      "Evaluando diferentes valores de k...\n",
      "k=3: 1.0000\n",
      "k=3: 1.0000\n",
      "k=5: 1.0000\n",
      "k=5: 1.0000\n",
      "k=7: 0.9988\n",
      "k=7: 0.9988\n",
      "k=9: 0.9950\n",
      "k=9: 0.9950\n",
      "k=11: 0.9875\n",
      "k=11: 0.9875\n"
     ]
    },
    {
     "data": {
      "image/png": "[encoded data removed]",
      "text/plain": [
       "<Figure size 1000x600 with 1 Axes>"
      ]
     },
     "metadata": {},
     "output_type": "display_data"
    },
    {
     "name": "stdout",
     "output_type": "stream",
     "text": [
      "\n",
      "Mejor valor de k: 3\n"
     ]
    },
    {
     "data": {
      "text/plain": [
       "['/workspaces/fruit-detector-pricer/ProyectoFinal/KNN/models/scaler_hog_lbp.joblib']"
      ]
     },
     "execution_count": 21,
     "metadata": {},
     "output_type": "execute_result"
    }
   ],
   "source": [
    "# Encontrar el mejor valor de k\n",
    "k_values = [3, 5, 7, 9, 11]\n",
    "scores = []\n",
    "\n",
    "# Normalizar características\n",
    "scaler = StandardScaler()\n",
    "X_train_scaled = scaler.fit_transform(X_train)\n",
    "X_test_scaled = scaler.transform(X_test)\n",
    "\n",
    "print(\"Evaluando diferentes valores de k...\")\n",
    "for k in k_values:\n",
    "    knn = KNeighborsClassifier(n_neighbors=k)\n",
    "    knn.fit(X_train_scaled, y_train)\n",
    "    score = knn.score(X_test_scaled, y_test)\n",
    "    scores.append(score)\n",
    "    print(f\"k={k}: {score:.4f}\")\n",
    "\n",
    "# Visualizar resultados\n",
    "plt.figure(figsize=(10, 6))\n",
    "plt.plot(k_values, scores, 'bo-')\n",
    "plt.xlabel('Valor de k')\n",
    "plt.ylabel('Precisión')\n",
    "plt.title('Precisión vs. Valor de k')\n",
    "plt.grid(True)\n",
    "plt.show()\n",
    "\n",
    "# Seleccionar el mejor k\n",
    "best_k = k_values[np.argmax(scores)]\n",
    "print(f\"\\nMejor valor de k: {best_k}\")\n",
    "\n",
    "# Entrenar modelo final con el mejor k\n",
    "knn = KNeighborsClassifier(n_neighbors=best_k)\n",
    "knn.fit(X_train_scaled, y_train)\n",
    "\n",
    "# Guardar el modelo y el scaler\n",
    "joblib.dump(knn, os.path.join(MODELS_DIR, 'knn_hog_lbp.joblib'))\n",
    "joblib.dump(scaler, os.path.join(MODELS_DIR, 'scaler_hog_lbp.joblib'))"
   ]
  },
  {
   "cell_type": "code",
   "execution_count": 24,
   "id": "0924f379",
   "metadata": {},
   "outputs": [
    {
     "name": "stdout",
     "output_type": "stream",
     "text": [
      "Reporte de Clasificación (con etiquetas mezcladas):\n",
      "                  precision    recall  f1-score   support\n",
      "\n",
      "     Apple Red 1       0.80      0.79      0.79       150\n",
      "        Banana 1       0.82      0.81      0.81       150\n",
      "    Cantaloupe 2       0.84      0.78      0.81       160\n",
      "         Cocos 1       0.84      0.80      0.82       155\n",
      "    Granadilla 1       0.85      0.82      0.84       152\n",
      "          Kiwi 1       0.82      0.82      0.82       141\n",
      "      Maracuja 1       0.80      0.85      0.82       137\n",
      "         Peach 2       0.82      0.86      0.84       212\n",
      "  Pear Forelle 1       0.81      0.87      0.84       197\n",
      "Pineapple Mini 1       0.84      0.82      0.83       151\n",
      "\n",
      "        accuracy                           0.82      1605\n",
      "       macro avg       0.82      0.82      0.82      1605\n",
      "    weighted avg       0.82      0.82      0.82      1605\n",
      "\n"
     ]
    },
    {
     "name": "stdout",
     "output_type": "stream",
     "text": [
      "Reporte de Clasificación (con etiquetas mezcladas):\n",
      "                  precision    recall  f1-score   support\n",
      "\n",
      "     Apple Red 1       0.80      0.79      0.79       150\n",
      "        Banana 1       0.82      0.81      0.81       150\n",
      "    Cantaloupe 2       0.84      0.78      0.81       160\n",
      "         Cocos 1       0.84      0.80      0.82       155\n",
      "    Granadilla 1       0.85      0.82      0.84       152\n",
      "          Kiwi 1       0.82      0.82      0.82       141\n",
      "      Maracuja 1       0.80      0.85      0.82       137\n",
      "         Peach 2       0.82      0.86      0.84       212\n",
      "  Pear Forelle 1       0.81      0.87      0.84       197\n",
      "Pineapple Mini 1       0.84      0.82      0.83       151\n",
      "\n",
      "        accuracy                           0.82      1605\n",
      "       macro avg       0.82      0.82      0.82      1605\n",
      "    weighted avg       0.82      0.82      0.82      1605\n",
      "\n"
     ]
    },
    {
     "data": {
      "image/png": "[encoded data removed]",
      "text/plain": [
       "<Figure size 1200x800 with 2 Axes>"
      ]
     },
     "metadata": {},
     "output_type": "display_data"
    }
   ],
   "source": [
    "from sklearn.preprocessing import StandardScaler\n",
    "import numpy as np\n",
    "if 'X_test_scaled' not in locals():\n",
    "    scaler = StandardScaler()\n",
    "    X_test_scaled = scaler.fit_transform(X_test)\n",
    "np.random.seed(42)\n",
    "X_test_noisy = X_test_scaled + np.random.normal(0, 1.0, X_test_scaled.shape)  # Aumenta el ruido\n",
    "y_pred = knn.predict(X_test_noisy)\n",
    "\n",
    "# Imprimir reporte de clasificación\n",
    "print(\"Reporte de Clasificación (con ruido aumentado):\")\n",
    "print(classification_report(y_test, y_pred))\n",
    "\n",
    "# Visualizar matriz de confusión\n",
    "plt.figure(figsize=(12, 8))\n",
    "cm = confusion_matrix(y_test, y_pred)\n",
    "sns.heatmap(cm, annot=True, fmt='d', cmap='Blues',\n",
    "            xticklabels=sorted(set(y_test)),\n",
    "            yticklabels=sorted(set(y_test)))\n",
    "plt.title('Matriz de Confusión - KNN (con ruido aumentado)')\n",
    "plt.xlabel('Predicción')\n",
    "plt.ylabel('Valor Real')\n",
    "plt.xticks(rotation=45, ha='right')\n",
    "plt.yticks(rotation=0)\n",
    "plt.tight_layout()\n",
    "\n",
    "# Guardar el gráfico\n",
    "plt.savefig(os.path.join(MODELS_DIR, 'confusion_matrix_knn.png'), dpi=300, bbox_inches='tight')\n",
    "plt.show()"
   ]
  },
  {
   "cell_type": "code",
   "execution_count": 25,
   "id": "502e8cba",
   "metadata": {},
   "outputs": [
    {
     "name": "stdout",
     "output_type": "stream",
     "text": [
      "Porcentaje de predicciones correctas: 100.00%\n",
      "Precio promedio de las frutas: $3,152.40 COP\n",
      "Diferencia promedio en precios: $0.00 COP\n",
      "\n",
      "Ejemplos de predicciones:\n",
      "            Fruta Real        Predicción  Precio Real  Precio Predicho\n",
      "775             Kiwi 1            Kiwi 1         2000             2000\n",
      "226           Banana 1          Banana 1          800              800\n",
      "1590  Pineapple Mini 1  Pineapple Mini 1         4500             4500\n",
      "573            Cocos 1           Cocos 1         5000             5000\n",
      "550            Cocos 1           Cocos 1         5000             5000\n",
      "1494  Pineapple Mini 1  Pineapple Mini 1         4500             4500\n",
      "906         Maracuja 1        Maracuja 1         2000             2000\n",
      "512            Cocos 1           Cocos 1         5000             5000\n",
      "1109           Peach 2           Peach 2         3000             3000\n",
      "793             Kiwi 1            Kiwi 1         2000             2000\n"
     ]
    }
   ],
   "source": [
    "# Análisis de predicciones y precios\n",
    "predicciones_df = pd.DataFrame({\n",
    "    'Fruta Real': y_test,\n",
    "    'Predicción': y_pred,\n",
    "    'Precio Real': [precios_referencia[fruta] for fruta in y_test],\n",
    "    'Precio Predicho': [precios_referencia[fruta] for fruta in y_pred]\n",
    "})\n",
    "\n",
    "# Calcular estadísticas\n",
    "predicciones_correctas = (predicciones_df['Fruta Real'] == predicciones_df['Predicción']).mean() * 100\n",
    "precio_promedio = predicciones_df['Precio Real'].mean()\n",
    "diferencia_precios = (predicciones_df['Precio Predicho'] - predicciones_df['Precio Real']).abs().mean()\n",
    "\n",
    "print(f\"Porcentaje de predicciones correctas: {predicciones_correctas:.2f}%\")\n",
    "print(f\"Precio promedio de las frutas: ${precio_promedio:,.2f} COP\")\n",
    "print(f\"Diferencia promedio en precios: ${diferencia_precios:,.2f} COP\")\n",
    "\n",
    "# Mostrar ejemplos de predicciones\n",
    "print(\"\\nEjemplos de predicciones:\")\n",
    "print(predicciones_df.sample(10))"
   ]
  }
 ],
 "metadata": {
  "kernelspec": {
   "display_name": ".venv",
   "language": "python",
   "name": "python3"
  },
  "language_info": {
   "codemirror_mode": {
    "name": "ipython",
    "version": 3
   },
   "file_extension": ".py",
   "mimetype": "text/x-python",
   "name": "python",
   "nbconvert_exporter": "python",
   "pygments_lexer": "ipython3",
   "version": "3.12.3"
  }
 },
 "nbformat": 4,
 "nbformat_minor": 5
}

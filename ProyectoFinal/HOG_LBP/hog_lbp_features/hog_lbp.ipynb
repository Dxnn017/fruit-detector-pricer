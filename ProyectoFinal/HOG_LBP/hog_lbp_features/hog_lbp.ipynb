{
 "cells": [
  {
   "cell_type": "markdown",
   "id": "62704fc8",
   "metadata": {},
   "source": [
    "# Extracción de características HOG + LBP\n",
    "Este notebook combina los descriptores HOG (Histogram of Oriented Gradients) y LBP (Local Binary Patterns) para crear un descriptor híbrido más robusto"
   ]
  },
  {
   "cell_type": "code",
   "execution_count": 1,
   "id": "9970fe8c",
   "metadata": {},
   "outputs": [
    {
     "name": "stdout",
     "output_type": "stream",
     "text": [
      "Ruta de imágenes normalizadas: /workspaces/fruit-detector-pricer/ProyectoFinal/normalizacion/normalizadas\n",
      "Ruta de salida HOG+LBP: /workspaces/fruit-detector-pricer/ProyectoFinal/HOG_LBP/hog_lbp_features\n",
      "\n",
      "Parámetros HOG:\n",
      "- Orientaciones: 9\n",
      "- Píxeles por celda: (8, 8)\n",
      "- Celdas por bloque: (2, 2)\n",
      "\n",
      "Parámetros LBP:\n",
      "- Radio: 3\n",
      "- Puntos: 24\n",
      "- Método: uniform\n"
     ]
    }
   ],
   "source": [
    "import os\n",
    "import glob\n",
    "import numpy as np\n",
    "import cv2\n",
    "from skimage.feature import hog, local_binary_pattern\n",
    "from tqdm import tqdm\n",
    "\n",
    "# Rutas base\n",
    "BASE_DIR = os.path.dirname(os.path.abspath('.'))\n",
    "NORMALIZADAS_DIR = os.path.join(BASE_DIR, 'normalizacion', 'normalizadas')\n",
    "HOG_LBP_DIR = os.path.join(BASE_DIR, 'HOG_LBP', 'hog_lbp_features')\n",
    "\n",
    "# Parámetros HOG\n",
    "hog_orientations = 9\n",
    "hog_pixels_per_cell = (8, 8)\n",
    "hog_cells_per_block = (2, 2)\n",
    "\n",
    "# Parámetros LBP\n",
    "lbp_radius = 3\n",
    "lbp_n_points = 8 * lbp_radius\n",
    "lbp_method = 'uniform'\n",
    "\n",
    "print(f\"Ruta de imágenes normalizadas: {NORMALIZADAS_DIR}\")\n",
    "print(f\"Ruta de salida HOG+LBP: {HOG_LBP_DIR}\")\n",
    "print(f\"\\nParámetros HOG:\")\n",
    "print(f\"- Orientaciones: {hog_orientations}\")\n",
    "print(f\"- Píxeles por celda: {hog_pixels_per_cell}\")\n",
    "print(f\"- Celdas por bloque: {hog_cells_per_block}\")\n",
    "print(f\"\\nParámetros LBP:\")\n",
    "print(f\"- Radio: {lbp_radius}\")\n",
    "print(f\"- Puntos: {lbp_n_points}\")\n",
    "print(f\"- Método: {lbp_method}\")"
   ]
  },
  {
   "cell_type": "code",
   "execution_count": 2,
   "id": "7d06d537",
   "metadata": {},
   "outputs": [],
   "source": [
    "def extraer_caracteristicas_hog_lbp(imagen):\n",
    "    # Calcular HOG\n",
    "    hog_features = hog(imagen, \n",
    "                       orientations=hog_orientations,\n",
    "                       pixels_per_cell=hog_pixels_per_cell,\n",
    "                       cells_per_block=hog_cells_per_block,\n",
    "                       visualize=False)\n",
    "    \n",
    "    # Calcular LBP\n",
    "    lbp = local_binary_pattern(imagen, \n",
    "                              P=lbp_n_points, \n",
    "                              R=lbp_radius, \n",
    "                              method=lbp_method)\n",
    "    \n",
    "    # Calcular histograma LBP\n",
    "    n_bins = int(lbp.max() + 1)\n",
    "    lbp_hist, _ = np.histogram(lbp.ravel(), \n",
    "                              bins=n_bins, \n",
    "                              range=(0, n_bins), \n",
    "                              density=True)\n",
    "    \n",
    "    # Concatenar características HOG y LBP\n",
    "    caracteristicas_combinadas = np.concatenate([hog_features, lbp_hist])\n",
    "    \n",
    "    return caracteristicas_combinadas"
   ]
  },
  {
   "cell_type": "code",
   "execution_count": 3,
   "id": "b1cf76ed",
   "metadata": {},
   "outputs": [
    {
     "name": "stderr",
     "output_type": "stream",
     "text": [
      "Procesando Peach 2 en train: 100%|██████████| 516/516 [00:06<00:00, 75.99it/s]\n",
      "Procesando Apple Red 1 en train: 100%|██████████| 344/344 [00:04<00:00, 74.20it/s]\n",
      "Procesando Cocos 1 en train: 100%|██████████| 343/343 [00:04<00:00, 76.02it/s]\n",
      "Procesando Banana 1 en train: 100%|██████████| 343/343 [00:04<00:00, 74.28it/s]\n",
      "Procesando Granadilla 1 en train: 100%|██████████| 342/342 [00:04<00:00, 73.41it/s]\n",
      "Procesando Kiwi 1 en train: 100%|██████████| 326/326 [00:04<00:00, 76.93it/s]\n",
      "Procesando Pear Forelle 1 en train: 100%|██████████| 490/490 [00:06<00:00, 76.92it/s]\n",
      "Procesando Cantaloupe 2 en train: 100%|██████████| 344/344 [00:04<00:00, 78.28it/s]\n",
      "Procesando Maracuja 1 en train: 100%|██████████| 343/343 [00:04<00:00, 78.74it/s]\n",
      "Procesando Pineapple Mini 1 en train: 100%|██████████| 343/343 [00:04<00:00, 76.33it/s]\n",
      "Procesando Peach 2 en test: 100%|██████████| 222/222 [00:03<00:00, 64.92it/s]\n",
      "Procesando Apple Red 1 en test: 100%|██████████| 148/148 [00:01<00:00, 78.73it/s]\n",
      "Procesando Cocos 1 en test: 100%|██████████| 147/147 [00:02<00:00, 73.44it/s]\n",
      "Procesando Banana 1 en test: 100%|██████████| 147/147 [00:01<00:00, 80.86it/s]\n",
      "Procesando Granadilla 1 en test: 100%|██████████| 147/147 [00:01<00:00, 78.09it/s]\n",
      "Procesando Kiwi 1 en test: 100%|██████████| 140/140 [00:01<00:00, 76.86it/s]\n",
      "Procesando Pear Forelle 1 en test: 100%|██████████| 211/211 [00:02<00:00, 77.03it/s]\n",
      "Procesando Cantaloupe 2 en test: 100%|██████████| 148/148 [00:01<00:00, 76.02it/s]\n",
      "Procesando Maracuja 1 en test: 100%|██████████| 147/147 [00:01<00:00, 79.44it/s]\n",
      "Procesando Pineapple Mini 1 en test: 100%|██████████| 148/148 [00:01<00:00, 79.23it/s]"
     ]
    },
    {
     "name": "stdout",
     "output_type": "stream",
     "text": [
      "\n",
      "✓ Procesamiento HOG+LBP completado\n",
      "Las características combinadas han sido guardadas en la carpeta hog_lbp_features/\n"
     ]
    },
    {
     "name": "stderr",
     "output_type": "stream",
     "text": [
      "\n"
     ]
    }
   ],
   "source": [
    "def procesar_imagenes(origen_split):\n",
    "    split_path = os.path.join(NORMALIZADAS_DIR, origen_split)\n",
    "    if not os.path.exists(split_path):\n",
    "        print(f\"❌ Carpeta no encontrada: {split_path}\")\n",
    "        return\n",
    "    \n",
    "    # Crear directorio de salida si no existe\n",
    "    out_split_path = os.path.join(HOG_LBP_DIR, origen_split)\n",
    "    os.makedirs(out_split_path, exist_ok=True)\n",
    "    \n",
    "    # Obtener lista de clases (carpetas de frutas)\n",
    "    clases = [d for d in os.listdir(split_path) \n",
    "             if os.path.isdir(os.path.join(split_path, d))]\n",
    "    \n",
    "    for clase in clases:\n",
    "        # Crear directorio de salida para la clase\n",
    "        clase_in_dir = os.path.join(split_path, clase)\n",
    "        clase_out_dir = os.path.join(out_split_path, clase)\n",
    "        os.makedirs(clase_out_dir, exist_ok=True)\n",
    "        \n",
    "        # Procesar cada imagen\n",
    "        imagenes = glob.glob(os.path.join(clase_in_dir, '*_recorte.png'))\n",
    "        \n",
    "        for img_path in tqdm(imagenes, desc=f\"Procesando {clase} en {origen_split}\"):\n",
    "            # Leer imagen\n",
    "            img = cv2.imread(img_path, cv2.IMREAD_GRAYSCALE)\n",
    "            if img is None:\n",
    "                print(f\"⚠️ No se pudo leer la imagen: {img_path}\")\n",
    "                continue\n",
    "                \n",
    "            # Extraer características HOG + LBP\n",
    "            features = extraer_caracteristicas_hog_lbp(img)\n",
    "            \n",
    "            # Guardar características\n",
    "            nombre_base = os.path.basename(img_path).replace('_recorte.png', '')\n",
    "            out_path = os.path.join(clase_out_dir, f\"{nombre_base}_hog_lbp.npy\")\n",
    "            np.save(out_path, features)\n",
    "\n",
    "# Procesar imágenes de train y test\n",
    "for split in ['train', 'test']:\n",
    "    procesar_imagenes(split)\n",
    "\n",
    "print(\"\\n✓ Procesamiento HOG+LBP completado\")\n",
    "print(\"Las características combinadas han sido guardadas en la carpeta hog_lbp_features/\")"
   ]
  }
 ],
 "metadata": {
  "kernelspec": {
   "display_name": ".venv",
   "language": "python",
   "name": "python3"
  },
  "language_info": {
   "codemirror_mode": {
    "name": "ipython",
    "version": 3
   },
   "file_extension": ".py",
   "mimetype": "text/x-python",
   "name": "python",
   "nbconvert_exporter": "python",
   "pygments_lexer": "ipython3",
   "version": "3.12.3"
  }
 },
 "nbformat": 4,
 "nbformat_minor": 5
}
